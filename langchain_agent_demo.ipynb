{
 "cells": [
  {
   "cell_type": "code",
   "execution_count": 15,
   "metadata": {
    "tags": []
   },
   "outputs": [],
   "source": [
    "import os\n",
    "from dotenv import load_dotenv\n",
    "from sqlalchemy import create_engine, text\n",
    "import pandas as pd\n",
    "from langchain_core.prompts import ChatPromptTemplate\n",
    "from langchain_core.tools import tool\n",
    "from langchain.agents import create_tool_calling_agent, AgentExecutor\n",
    "from langchain_openai import ChatOpenAI\n",
    "from langchain_core.output_parsers import StrOutputParser, CommaSeparatedListOutputParser, JsonOutputParser\n",
    "from langchain_core.pydantic_v1 import BaseModel, Field\n",
    "from langchain.tools import MoveFileTool, format_tool_to_openai_function\n",
    "from langchain.chat_models import ChatOpenAI\n",
    "from langchain.schema import HumanMessage, AIMessage, ChatMessage, FunctionMessage\n",
    "from langchain.tools import MoveFileTool, format_tool_to_openai_function\n",
    "from langchain.tools import BaseTool\n",
    "from typing import Optional, Type\n",
    "from langchain.agents import initialize_agent, Tool\n",
    "from langchain.agents import AgentType\n",
    "from langchain_openai import ChatOpenAI\n",
    "import json\n",
    "import requests\n",
    "import pandas as pd\n",
    "import numpy\n",
    "\n",
    "\n",
    "# Load environment variables from the .env file\n",
    "load_dotenv()\n",
    "api_key = os.getenv('OPENAI_API_KEY')\n",
    "\n",
    "pd.set_option('display.max_columns', None)\n",
    "pd.set_option('display.max_colwidth', None) \n"
   ]
  },
  {
   "cell_type": "code",
   "execution_count": 28,
   "metadata": {
    "tags": []
   },
   "outputs": [
    {
     "name": "stdout",
     "output_type": "stream",
     "text": [
      "Name: langchainNote: you may need to restart the kernel to use updated packages.\n",
      "\n",
      "Version: 0.2.5\n",
      "Summary: Building applications with LLMs through composability\n",
      "Home-page: https://github.com/langchain-ai/langchain\n",
      "Author: \n",
      "Author-email: \n",
      "License: MIT\n",
      "Location: C:\\Users\\starm\\AppData\\Roaming\\Python\\Python311\\site-packages\n",
      "Requires: aiohttp, langchain-core, langchain-text-splitters, langsmith, numpy, pydantic, PyYAML, requests, SQLAlchemy, tenacity\n",
      "Required-by: langchain-community\n"
     ]
    }
   ],
   "source": [
    "pip show langchain\n"
   ]
  },
  {
   "cell_type": "code",
   "execution_count": 2,
   "metadata": {
    "tags": []
   },
   "outputs": [],
   "source": [
    "TEST_MAIL = 'admin@platform.com'"
   ]
  },
  {
   "cell_type": "markdown",
   "metadata": {},
   "source": [
    "## Token"
   ]
  },
  {
   "cell_type": "code",
   "execution_count": 4,
   "metadata": {
    "tags": []
   },
   "outputs": [],
   "source": [
    "base_url = 'https://dashboard.colorines.paitesting.com/api'\n",
    "\n",
    "# Set the URL for the token API\n",
    "url_token = base_url+\"/v1/token\"\n",
    "\n",
    "# Set the data for the POST request\n",
    "data = {\n",
    "    \"email\": \"sale@platform.com\",\n",
    "    \"password\": os.getenv('CONSULTANT_PASSWORD'),\n",
    "    \"device_name\": \"colorina_2\",\n",
    "    \"role\": \"consultant\"\n",
    "}\n",
    "\n",
    "# Send a POST request\n",
    "response = requests.post(url_token, json=data)\n",
    "\n",
    "#print(response)\n",
    "\n",
    "# Extract the token from the response\n",
    "token = response.json().get('data').get('token')\n",
    "\n",
    "#print(\"Token:\", token)\n"
   ]
  },
  {
   "cell_type": "markdown",
   "metadata": {},
   "source": [
    "## Components"
   ]
  },
  {
   "cell_type": "code",
   "execution_count": 5,
   "metadata": {
    "tags": []
   },
   "outputs": [],
   "source": [
    "#TODO: API need to add a filter by 'is_active'\n",
    "\n",
    "def GetProperties(token: str):\n",
    "    headers = {\"Authorization\": f\"Bearer {token}\"}\n",
    "    url = \"https://dashboard.colorines.paitesting.com/api/v1/properties\"\n",
    "    params = {'include': 'step,project,development', 'filter[status]': 'available'} \n",
    "    try:\n",
    "        response = requests.get(url, headers=headers, params=params)\n",
    "        response.raise_for_status()  # Raise an exception for HTTP errors\n",
    "        \n",
    "        # Check if the response contains any content\n",
    "        if response.content:\n",
    "            data = response.json()\n",
    "        else:\n",
    "            return pd.DataFrame({\"error\": [\"Empty response from the server\"]})\n",
    "        \n",
    "    except requests.exceptions.RequestException as e:\n",
    "        return pd.DataFrame({\"error\": [str(e)]})\n",
    "    except ValueError as ve:\n",
    "        return pd.DataFrame({\"error\": [\"Error parsing JSON response\"]})\n",
    "    \n",
    "    # Check if the 'data' key exists and contains a list of dictionaries\n",
    "    if 'data' in data:\n",
    "        if isinstance(data['data'], list):\n",
    "            return pd.DataFrame(data['data'])\n",
    "        else:\n",
    "            return pd.DataFrame({\"error\": [\"'data' key does not contain a list\"]})\n",
    "    else:\n",
    "        return pd.DataFrame({\"error\": [\"'data' key not found in the response\"]})\n",
    "    \n",
    "#PREPROCESS projects\n",
    "def PreprocessProjects(df):\n",
    "    df['development_name'] = df['development'].apply(lambda x: x.get('name'))\n",
    "    \n",
    "    def filter_active_steps(steps):\n",
    "        return [step['step_number'] for step in steps if step['is_active']]\n",
    "\n",
    "    # Applying the function to create the new column\n",
    "    df['active_steps'] = df['steps'].apply(filter_active_steps)\n",
    "\n",
    "    return df\n",
    "\n",
    "#PREPROCESS Properties\n",
    "def PreprocessProperties(df):\n",
    "    df['project_name'] = df['project'].apply(lambda x: x.get('name'))\n",
    "    df['development_name'] = df['development'].apply(lambda x: x.get('name'))\n",
    "    df['step_number'] = df['step'].apply(lambda x: x.get('step_number')) #numero de etapa\n",
    "\n",
    "    def extract_total_amount(prices, currency_code):\n",
    "        total_amount = None  # Initialize to None or any default value as needed\n",
    "        for entry in prices:\n",
    "            if entry['type'] == 'property' and entry['currency_code'] == currency_code:\n",
    "                total_amount = entry['total_amount']\n",
    "                break  # Exit loop once found\n",
    "        return total_amount\n",
    "\n",
    "    # Extracting total_amount_mxn and total_amount_usd\n",
    "    df['total_amount_mxn'] = df['prices'].apply(lambda x: extract_total_amount(x, 'MXN'))\n",
    "    df['total_amount_usd'] = df['prices'].apply(lambda x: extract_total_amount(x, 'USD'))\n",
    "\n",
    "    return df\n",
    "\n",
    "\n",
    "# Example usage\n",
    "\n",
    "#df_properties = GetProperties(token)\n",
    "\n",
    "def GetProjects(token: str):\n",
    "    headers = {\"Authorization\": f\"Bearer {token}\"}\n",
    "    url = \"https://dashboard.colorines.paitesting.com/api/v1/projects\"\n",
    "    params = {'include': 'steps,development', 'is_active': 'True'} \n",
    "    try:\n",
    "        response = requests.get(url, headers=headers, params=params)\n",
    "        response.raise_for_status()  # Raise an exception for HTTP errors\n",
    "        data = response.json()\n",
    "    except requests.exceptions.RequestException as e:\n",
    "        return pd.DataFrame({\"error\": [str(e)]})\n",
    "    \n",
    "    # Check if the 'data' key exists and contains a list of dictionaries\n",
    "    if 'data' in data:\n",
    "        if isinstance(data['data'], list):\n",
    "            return pd.DataFrame(data['data'])\n",
    "        else:\n",
    "            return pd.DataFrame({\"error\": [\"'data' key does not contain a list\"]})\n",
    "    else:\n",
    "        return pd.DataFrame({\"error\": [\"'data' key not found in the response\"]})\n",
    "\n",
    "def GetDevelopments(token: str):\n",
    "    headers = {\"Authorization\": f\"Bearer {token}\"}\n",
    "    url = \"https://dashboard.colorines.paitesting.com/api/v1/developments\"\n",
    "    try:\n",
    "        response = requests.get(url, headers=headers)\n",
    "        response.raise_for_status()  # Raise an exception for HTTP errors\n",
    "        data = response.json()\n",
    "    except requests.exceptions.RequestException as e:\n",
    "        return pd.DataFrame({\"error\": [str(e)]})\n",
    "    \n",
    "    # Check if the 'data' key exists and contains a list of dictionaries\n",
    "    if 'data' in data:\n",
    "        if isinstance(data['data'], list):\n",
    "            return pd.DataFrame(data['data'])\n",
    "        else:\n",
    "            return pd.DataFrame({\"error\": [\"'data' key does not contain a list\"]})\n",
    "    else:\n",
    "        return pd.DataFrame({\"error\": [\"'data' key not found in the response\"]})\n",
    "\n",
    "# Example usage\n",
    "\n",
    "#df_devs = GetDevelopments(token)\n",
    "\n"
   ]
  },
  {
   "cell_type": "markdown",
   "metadata": {},
   "source": [
    "### Sales"
   ]
  },
  {
   "cell_type": "code",
   "execution_count": 6,
   "metadata": {
    "tags": []
   },
   "outputs": [],
   "source": [
    "def GetSales(token: str, status: str = None, customer_id: int = None, str_date: str = None, end_date: str = None):\n",
    "    headers = {\n",
    "        \"Authorization\": f\"Bearer {token}\",\n",
    "        \"Accept\": \"application/json\"  # Ensures the server knows you expect JSON\n",
    "    }\n",
    "    url = \"https://dashboard.colorines.paitesting.com/api/v1/sales\"\n",
    "    params={}\n",
    "    if status:\n",
    "        params.update({\"filter[status]\": status})\n",
    "        \n",
    "    if customer_id:\n",
    "        params.update({\"customer_id\": customer_id})\n",
    "        \n",
    "    if str_date and end_date:\n",
    "        two_dates = str_date+','+end_date\n",
    "        params.update({\"filter[created_at_between]\": two_dates})\n",
    "        \n",
    "    try:\n",
    "        response = requests.get(url, headers=headers, params=params)\n",
    "        #print(\"Status Code:\", response.status_code)  # Log the status code\n",
    "        #print(\"Response Body:\", response.text)   \n",
    "        response.raise_for_status()  # Raise an exception for HTTP errors\n",
    "        \n",
    "        # Check if the response contains any content\n",
    "        if response.content:\n",
    "            data = response.json()\n",
    "        else:\n",
    "            return pd.DataFrame({\"error\": [\"Empty response from the server\"]})\n",
    "        \n",
    "    except requests.exceptions.RequestException as e:\n",
    "        return pd.DataFrame({\"error\": [str(e)]})\n",
    "    except ValueError as ve:\n",
    "        return pd.DataFrame({\"error\": [\"Error parsing JSON response\"]})\n",
    "    \n",
    "    # Check if the 'data' key exists and contains a list of dictionaries\n",
    "    if 'data' in data:\n",
    "        if isinstance(data['data'], list):\n",
    "            return pd.DataFrame(data['data'])\n",
    "        else:\n",
    "            return pd.DataFrame({\"error\": [\"'data' key does not contain a list\"]})\n",
    "    else:\n",
    "        return pd.DataFrame({\"error\": [\"'data' key not found in the response\"]})\n",
    "\n",
    "def PreprocessSales(df):\n",
    "    df['property_name'] = df['property'].apply(lambda x: x.get('alias'))\n",
    "\n",
    "    return df"
   ]
  },
  {
   "cell_type": "markdown",
   "metadata": {},
   "source": [
    "### Customers"
   ]
  },
  {
   "cell_type": "code",
   "execution_count": 7,
   "metadata": {
    "tags": []
   },
   "outputs": [],
   "source": [
    "def GetCustomers(token: str):\n",
    "    headers = {\n",
    "        \"Authorization\": f\"Bearer {token}\",\n",
    "        \"Accept\": \"application/json\"  # Ensures the server knows you expect JSON\n",
    "    }\n",
    "    url = \"https://dashboard.colorines.paitesting.com/api/v1/customers\"\n",
    "\n",
    "    try:\n",
    "        response = requests.get(url, headers=headers)\n",
    "        response.raise_for_status()  # Raise an exception for HTTP errors\n",
    "        \n",
    "        # Check if the response contains any content\n",
    "        if response.content:\n",
    "            data = response.json()\n",
    "        else:\n",
    "            return pd.DataFrame({\"error\": [\"Empty response from the server\"]})\n",
    "        \n",
    "    except requests.exceptions.RequestException as e:\n",
    "        return pd.DataFrame({\"error\": [str(e)]})\n",
    "    except ValueError as ve:\n",
    "        return pd.DataFrame({\"error\": [\"Error parsing JSON response\"]})\n",
    "    \n",
    "    # Check if the 'data' key exists and contains a list of dictionaries\n",
    "    if 'data' in data:\n",
    "        if isinstance(data['data'], list):\n",
    "            return pd.DataFrame(data['data'])\n",
    "        else:\n",
    "            return pd.DataFrame({\"error\": [\"'data' key does not contain a list\"]})\n",
    "    else:\n",
    "        return pd.DataFrame({\"error\": [\"'data' key not found in the response\"]})\n",
    "\n",
    "def GetCustomerID(df, email):\n",
    "    df_filtered = df[df['email'] == email]\n",
    "    if (len(df_filtered)>0):\n",
    "        return df_filtered.iloc[0].id\n",
    "    else:\n",
    "        return None"
   ]
  },
  {
   "cell_type": "markdown",
   "metadata": {},
   "source": [
    "## Clean functions"
   ]
  },
  {
   "cell_type": "code",
   "execution_count": 8,
   "metadata": {
    "tags": []
   },
   "outputs": [],
   "source": [
    "def CleanProjects(df):\n",
    "    df_clean = df[['name', 'development_name', 'active_steps']]\n",
    "    df_clean = df_clean.rename(columns={'name': 'nombre_proyecto', 'development_name': 'nombre_desarrollo', 'active_steps': 'etapa'})\n",
    "    return df_clean.to_json(orient='records', force_ascii=False)\n",
    "\n",
    "def CleanProperties(df):\n",
    "    df_clean = df[['alias', 'status', 'project_name', 'development_name', 'step_number', 'total_amount_mxn', 'total_amount_usd']]\n",
    "    \n",
    "    df_clean = df_clean.rename(columns={'alias': 'nombre_propiedad',\n",
    "                                        'project_name': 'nombre_proyecto',\n",
    "                                        'development_name': 'nombre_desarrollo',\n",
    "                                        'step_number': 'etapa',\n",
    "                                        'total_amount_mxn': 'precio_MXN',\n",
    "                                        'total_amount_usd': 'precio_USD'\n",
    "                                       })\n",
    "    return df_clean.to_json(orient='records', force_ascii=False)\n",
    "\n",
    "def CleanSalesByCustomer(df):\n",
    "    df_clean = df[['property_name', 'currency', 'reserve_amount', 'property_amount', 'property_discount_amount', 'down_payment_amount', 'down_payment_percent', 'number_installments', 'installments_amount', 'status', 'amount_total', 'amount_paid', 'amount_remaining', 'next_payment_date', 'advance_percent', 'overdue_installments_count', 'overdue_installments_amount']]\n",
    "    return df_clean.to_json(orient='records', force_ascii=False)"
   ]
  },
  {
   "cell_type": "markdown",
   "metadata": {},
   "source": [
    "## Tools"
   ]
  },
  {
   "cell_type": "code",
   "execution_count": 9,
   "metadata": {
    "tags": []
   },
   "outputs": [],
   "source": [
    "@tool\n",
    "def get_active_properties(token: str) -> str:\n",
    "    \"\"\"\n",
    "    Uses the token to fetch the active properties from colorines API.\n",
    "    \n",
    "    Args:\n",
    "        token (str): The authorization token required to access the API.\n",
    "\n",
    "    Returns:\n",
    "        str: The JSON response from the API as a string.\n",
    "    \"\"\"\n",
    "    properties_df = GetProperties(token)\n",
    "    properties_df = properties_df[properties_df['is_active'] == True]\n",
    "    \n",
    "\n",
    "    response = requests.get(url, headers=headers, params=params)\n",
    "    # Check if the response was successful\n",
    "    if response.status_code == 200:\n",
    "        try:\n",
    "            return json.dumps(response.json())  # Convert JSON response to string\n",
    "        except ValueError:  # Catch JSON errors\n",
    "            return json.dumps({\"error\": \"Error parsing JSON\"})\n",
    "    else:\n",
    "        return json.dumps({\"error\": f\"Received status code {response.status_code}\"})\n",
    "\n",
    "\n",
    "\n",
    "@tool\n",
    "def get_last_sale(token: str) -> str:\n",
    "    \"\"\"\n",
    "    Uses the token to fetch the last sale from colorines API.\n",
    "    \n",
    "    Args:\n",
    "        token (str): The authorization token required to access the API.\n",
    "\n",
    "    Returns:\n",
    "        str: The JSON response from the API as a string.\n",
    "    \"\"\"\n",
    "    headers = {\"Authorization\": f\"Bearer {token}\"}\n",
    "    url = \"https://dashboard.colorines.paitesting.com/api/v1/sales\"\n",
    "    params = {\"per_page\": 1, \"sort\": \"-created_at\"}\n",
    "    \n",
    "    try:\n",
    "        response = requests.get(url, headers=headers, params=params)\n",
    "        # Check if the response was successful\n",
    "        if response.status_code == 200:\n",
    "            try:\n",
    "                return json.dumps(response.json())  # Convert JSON response to string\n",
    "            except ValueError:  # Catch JSON errors\n",
    "                return json.dumps({\"error\": \"Error parsing JSON\"})\n",
    "        else:\n",
    "            return json.dumps({\"error\": f\"Received status code {response.status_code}\"})\n",
    "    except requests.exceptions.RequestException as e:\n",
    "        return json.dumps({\"error\": str(e)})\n",
    "\n"
   ]
  },
  {
   "cell_type": "markdown",
   "metadata": {},
   "source": [
    "### Properties, developments and Steps"
   ]
  },
  {
   "cell_type": "code",
   "execution_count": 10,
   "metadata": {
    "tags": []
   },
   "outputs": [],
   "source": [
    "@tool\n",
    "def get_active_projects(token: str) -> str:   \n",
    "    \"\"\"\n",
    "    Uses the token to fetch the active (available) projects from colorines API.\n",
    "    \n",
    "    Args:\n",
    "        token (str): The authorization token required to access the API.\n",
    "\n",
    "    Returns:\n",
    "        str: The JSON response from the API as a string.\n",
    "    \"\"\"\n",
    "    df = GetProjects(token)\n",
    "    pre_df = PreprocessProjects(df)\n",
    "    return CleanProjects(pre_df)\n",
    "    \n",
    "@tool\n",
    "def get_active_properties(token: str)-> str:\n",
    "    \"\"\"\n",
    "    Uses the token to fetch the active (available) properties from colorines API.\n",
    "    \n",
    "    Args:\n",
    "        token (str): The authorization token required to access the API.\n",
    "\n",
    "    Returns:\n",
    "        str: The JSON response from the API as a string.\n",
    "    \"\"\"\n",
    "    \n",
    "    df = GetProperties(token)\n",
    "    pre_df = PreprocessProperties(df)\n",
    "    return CleanProperties(pre_df)\n",
    "\n"
   ]
  },
  {
   "cell_type": "markdown",
   "metadata": {},
   "source": [
    "### Sales"
   ]
  },
  {
   "cell_type": "code",
   "execution_count": 11,
   "metadata": {
    "tags": []
   },
   "outputs": [],
   "source": [
    "@tool\n",
    "def count_sales_by_status(token: str, status: str)-> int:\n",
    "    \"\"\"\n",
    "    Count the number of sales the user has with a specific status.\n",
    "    \n",
    "    \n",
    "    Args:\n",
    "        token (str): The authorization token required to access the API.\n",
    "        status (str): The status to filter the API request. Acceptable status by the API: reserved, documents, contract, active, canceled, overdue, finalized, deeded.\n",
    "\n",
    "    Returns:\n",
    "        int: The number of sales with the requested status.\n",
    "    \"\"\"\n",
    "    \n",
    "    df = GetSales(token=token, status=status)\n",
    "    count = len(df)\n",
    "    return count\n",
    "\n",
    "@tool\n",
    "def get_sales_by_customer(token: str, email: str) -> str:\n",
    "    \"\"\"\n",
    "    Retrieves and returns a list of sales associated with a customer identified by their email.\n",
    "\n",
    "    This function performs the following steps:\n",
    "    1. Uses the provided email to search for the customer ID.\n",
    "    2. Retrieves the sales attached to that customer ID.\n",
    "    3. Returns relevant sales information in JSON format.\n",
    "\n",
    "    Args:\n",
    "        token (str): The authorization token required to access the API.\n",
    "        email (str): The email address used to identify the customer.\n",
    "\n",
    "    Returns:\n",
    "        str: A JSON response containing information about sales made to the customer.\n",
    "             The JSON includes details about each sale that will be listed to the user by the agent.\n",
    "    \"\"\"\n",
    "    # Function implementation here\n",
    "    customers = GetCustomers(token)\n",
    "    customer_id = GetCustomerID(customers, email=email)\n",
    "    if customer_id:\n",
    "        df = GetSales(token=token, customer_id=customer_id)\n",
    "        df = PreprocessSales(df)\n",
    "        return CleanSalesByCustomer(df)\n",
    "    else:\n",
    "        return 'No se encontró ningún cliente con ese correo electrónico, pregunta al cliente si el correo es correcto'\n",
    "\n",
    "\n"
   ]
  },
  {
   "cell_type": "code",
   "execution_count": 12,
   "metadata": {},
   "outputs": [],
   "source": [
    "def call_json_output_parser():\n",
    "    prompt = ChatPromptTemplate.from_messages([\n",
    "        (\"system\", \"Extract information from the Colorines API using the {token}.\\nFormatting Instructions: {format_instructions}\"),\n",
    "        (\"human\", \"{input}\")\n",
    "    ])\n",
    "\n",
    "    class Data(BaseModel):\n",
    "        data: str = Field(description=\"JSON with the response containing all the relevant information for the user\")\n",
    "        \n",
    "    parser = JsonOutputParser(pydantic_object=Data)\n",
    "\n",
    "    chain = prompt | model | parser\n",
    "    \n",
    "    return chain.invoke({\n",
    "        \"phrase\": \"The ingredients for a Margherita pizza are tomatoes, onions, cheese, basil\",\n",
    "        \"format_instructions\": parser.get_format_instructions()\n",
    "    })"
   ]
  },
  {
   "cell_type": "markdown",
   "metadata": {},
   "source": [
    "#### Sales remake"
   ]
  },
  {
   "cell_type": "code",
   "execution_count": 13,
   "metadata": {
    "tags": []
   },
   "outputs": [],
   "source": [
    "# Count sales\n",
    "class CountSalesInput(BaseModel):\n",
    "    \"\"\"Input to grant access to Colorines API.\"\"\"\n",
    "\n",
    "    token: str = Field(..., description=\"token to authenticate the user to consume the API\")\n",
    "    status: str = Field(..., description=\"Status to filter the sales to retrieve from the API. Acceptable status by the API: reserved, documents, contract, active, canceled, overdue, finalized, deeded\")\n",
    "    \n",
    "class CountSalesTool(BaseTool):\n",
    "    name = \"count_sales_by_status\"\n",
    "    description = \"Count the number of sales the user has with a specific status. You must input the auth token\"\n",
    "\n",
    "    def _run(self, token: str, status: str):\n",
    "        df = GetSales(token=token, status=status)\n",
    "        count = len(df)\n",
    "        return json.dumps({\"count\": count})  # Directly return JSON string\n",
    "\n",
    "\n",
    "    def _arun(self, token: str, status: str):\n",
    "        raise NotImplementedError(\"This tool does not support async\")\n",
    "\n",
    "    args_schema: Optional[Type[BaseModel]] = CountSalesInput\n",
    "    \n",
    "#list sales by email\n",
    "# Input schema for fetching sales by customer\n",
    "class GetSalesByCustomerInput(BaseModel):\n",
    "    \"\"\"Input to fetch sales by customer.\"\"\"\n",
    "\n",
    "    token: str = Field(..., description=\"Authorization token to access the API.\")\n",
    "    email: str = Field(..., description=\"Email address of the customer.\")\n",
    "\n",
    "# Tool class to retrieve sales by customer\n",
    "class GetSalesByCustomerTool(BaseTool):\n",
    "    name = \"get_sales_by_customer\"\n",
    "    description = \"Retrieve sales associated with a customer identified by email.\"\n",
    "\n",
    "    def _run(self, token: str, email: str):\n",
    "        \"\"\"\n",
    "        Retrieves and returns sales associated with a customer identified by email.\n",
    "\n",
    "        Args:\n",
    "            token (str): Authorization token to access the API.\n",
    "            email (str): Email address of the customer.\n",
    "\n",
    "        Returns:\n",
    "            str: JSON response containing information about sales made to the customer.\n",
    "        \"\"\"\n",
    "        # Replace these with your actual functions to fetch data\n",
    "        customers = GetCustomers(token)\n",
    "        customer_id = GetCustomerID(customers, email=email)\n",
    "        \n",
    "        if customer_id:\n",
    "            df = GetSales(token=token, customer_id=customer_id)\n",
    "            df = PreprocessSales(df)\n",
    "            return json.dumps(CleanSalesByCustomer(df))\n",
    "        else:\n",
    "            return json.dumps({\n",
    "                \"message\": \"No se encontró ningún cliente con ese correo electrónico. \"\n",
    "                           \"Verifica el correo proporcionado e intenta nuevamente.\"\n",
    "            })\n",
    "\n",
    "    def _arun(self, token: str, email: str):\n",
    "        raise NotImplementedError(\"This tool does not support async.\")\n",
    "\n",
    "    args_schema: Optional[Type[BaseModel]] = GetSalesByCustomerInput\n",
    "    \n",
    "\n",
    "from pydantic import BaseModel, Field\n",
    "from typing import Optional, Type\n",
    "\n",
    "class GetSalesBetweenDatesInput(BaseModel):\n",
    "    \"\"\"\n",
    "    Defines the input schema for fetching sales between specified dates.\n",
    "    \"\"\"\n",
    "    token: str = Field(..., description=\"Authorization token required to access the API.\")\n",
    "    str_date: str = Field(..., description=\"Start date to search sales created in between. Format must be: 'yyyy-mm-dd'\")\n",
    "    end_date: str = Field(..., description=\"End date to search sales created in between. Format must be: 'yyyy-mm-dd'\")\n",
    "\n",
    "class GetSalesBetweenDatesTool(BaseTool):\n",
    "    name = \"get_sales_between_dates\"  \n",
    "    description = \"Retrieve sales in a range of two dates. If only one date is provided, the same date is used for both start and end dates.\"\n",
    "\n",
    "    def _run(self, token: str, str_date: str, end_date: str):\n",
    "        \"\"\"\n",
    "        Executes a query to retrieve sales that were created between two specified dates.\n",
    "\n",
    "        Args:\n",
    "            token (str): Authorization token to access the API.\n",
    "            str_date (str): Start date to begin the search for sales.\n",
    "            end_date (str): End date to end the search for sales.\n",
    "\n",
    "        Returns:\n",
    "            str: JSON response containing information about sales in the specified date range.\n",
    "        \"\"\"\n",
    "        if str_date and end_date:\n",
    "            df = GetSales(token=token, str_date=str_date, end_date=end_date)\n",
    "            df = PreprocessSales(df)\n",
    "            return json.dumps(CleanSalesByCustomer(df))\n",
    "        else:\n",
    "            return json.dumps({\n",
    "                \"message\": \"Both start and end dates must be provided.\"\n",
    "            })\n",
    "\n",
    "    def _arun(self, token: str, str_date: str, end_date: str):\n",
    "        raise NotImplementedError(\"This tool does not support asynchronous execution.\")\n",
    "\n",
    "    args_schema: Optional[Type[BaseModel]] = GetSalesBetweenDatesInput\n",
    "\n",
    "\n"
   ]
  },
  {
   "cell_type": "markdown",
   "metadata": {},
   "source": [
    "## Half agent use, just to select Tools"
   ]
  },
  {
   "cell_type": "code",
   "execution_count": 17,
   "metadata": {
    "tags": []
   },
   "outputs": [
    {
     "name": "stderr",
     "output_type": "stream",
     "text": [
      "/Users/juliomiranda/anaconda3/lib/python3.10/site-packages/langchain_core/_api/deprecation.py:139: LangChainDeprecationWarning: The function `format_tool_to_openai_function` was deprecated in LangChain 0.1.16 and will be removed in 0.3.0. Use langchain_core.utils.function_calling.convert_to_openai_function() instead.\n",
      "  warn_deprecated(\n"
     ]
    }
   ],
   "source": [
    "#ChatGpt model to select tools\n",
    "model = ChatOpenAI(model=\"gpt-3.5-turbo\", api_key=api_key)\n",
    "\n",
    "#The tools classes\n",
    "tool_names = [CountSalesTool().name, GetSalesByCustomerTool().name, GetSalesBetweenDatesTool().name]\n",
    "tools = [CountSalesTool(), GetSalesByCustomerTool(), GetSalesBetweenDatesTool()]\n",
    "\n",
    "#Format Tools for being usable by the model\n",
    "functions = [format_tool_to_openai_function(t) for t in tools]\n",
    "\n",
    "#Token append to input string\n",
    "token_str = f\"mi auth token: {token}\"\n",
    "\n",
    "#Uses the model to predict which tool use, but we return the tool response directly\n",
    "def smart_tool_selector(input_str, token_str, model, functions, tool_names):\n",
    "    \"\"\"\n",
    "    Uses a machine learning model to predict which tool to use based on input,\n",
    "    then directly returns the response from the selected tool.\n",
    "\n",
    "    Args:\n",
    "    - input_str (str): The input string to be processed.\n",
    "    - token_str (str): The token string to be included in the input.\n",
    "    - model: The machine learning model used to predict the tool.\n",
    "    - functions (list): List of functions or tools available for selection.\n",
    "\n",
    "    Returns:\n",
    "    - tool_result: The result returned by the selected tool.\n",
    "    - _args (dict): Arguments parsed from the AI model's function call prediction.\n",
    "    - ai_message: Message object containing details of the AI model's prediction.\n",
    "    \"\"\"\n",
    "    # Prepare input data for the model prediction\n",
    "    input_data = {\n",
    "        \"input\": f\"{input_str} {token_str}\"\n",
    "    }\n",
    "    \n",
    "    # Predict the tool to use based on input using the machine learning model\n",
    "    ai_message = model.predict_messages([HumanMessage(content=input_data['input'])], functions=functions)\n",
    "    \n",
    "    # Extract arguments for the tool from the AI model's function call prediction\n",
    "    _args = json.loads(ai_message.additional_kwargs['function_call'].get('arguments'))\n",
    "    \n",
    "    print(_args)\n",
    "    \n",
    "    tool_name = ai_message.additional_kwargs['function_call']['name']\n",
    "    tool_index = tool_names.index(tool_name)\n",
    "    # Execute the selected tool and capture its result\n",
    "    tool_result = tools[tool_index](_args)  # Pass _args as keyword arguments\n",
    "    \n",
    "    # Return the tool's result, parsed arguments, and AI message\n",
    "    return tool_result, _args, ai_message\n",
    "\n"
   ]
  },
  {
   "cell_type": "code",
   "execution_count": 282,
   "metadata": {
    "tags": []
   },
   "outputs": [
    {
     "name": "stdout",
     "output_type": "stream",
     "text": [
      "{'token': '2155|s7gqjqtLbLuKbkfFMO4CKdkLQtTxvIuZFpMqf96u2beb15f7', 'str_date': '2024-01-07', 'end_date': '2024-06-01'}\n",
      "content='' additional_kwargs={'function_call': {'arguments': '{\"token\":\"2155|s7gqjqtLbLuKbkfFMO4CKdkLQtTxvIuZFpMqf96u2beb15f7\",\"str_date\":\"2024-01-07\",\"end_date\":\"2024-06-01\"}', 'name': 'get_sales_between_dates'}} response_metadata={'token_usage': {'completion_tokens': 73, 'prompt_tokens': 331, 'total_tokens': 404}, 'model_name': 'gpt-3.5-turbo', 'system_fingerprint': None, 'finish_reason': 'function_call', 'logprobs': None} id='run-0be14c6a-d21b-4af3-a31c-c7f39befe2e4-0' usage_metadata={'input_tokens': 331, 'output_tokens': 73, 'total_tokens': 404}\n",
      "{'token': '2155|s7gqjqtLbLuKbkfFMO4CKdkLQtTxvIuZFpMqf96u2beb15f7', 'str_date': '2024-01-07', 'end_date': '2024-06-01'}\n",
      "\"[{\\\"property_name\\\":\\\"TR-04-169\\\",\\\"currency\\\":\\\"MXN\\\",\\\"reserve_amount\\\":3500,\\\"property_amount\\\":832482,\\\"property_discount_amount\\\":0,\\\"down_payment_amount\\\":249744.6,\\\"down_payment_percent\\\":30,\\\"number_installments\\\":24,\\\"installments_amount\\\":582737.4,\\\"status\\\":{\\\"name\\\":\\\"Documentaci\\u00f3n\\\",\\\"short_code\\\":\\\"documents\\\",\\\"percent\\\":50},\\\"amount_total\\\":832482,\\\"amount_paid\\\":0,\\\"amount_remaining\\\":832482,\\\"next_payment_date\\\":\\\"2024-06-01T06:00:00.000000Z\\\",\\\"advance_percent\\\":0,\\\"overdue_installments_count\\\":0,\\\"overdue_installments_amount\\\":0}]\"\n"
     ]
    }
   ],
   "source": [
    "input_str = 'muestrame las ventas entre el 7 de enero del 2024 y primero de junio del 2024?'\n",
    "result, args, msg = smart_tool_selector(input_str, token_str, model, functions, tool_names)\n",
    "print(msg)\n",
    "print(args)\n",
    "print(result)\n"
   ]
  },
  {
   "cell_type": "code",
   "execution_count": null,
   "metadata": {
    "tags": []
   },
   "outputs": [],
   "source": [
    "input_str='muéstrame las ventas del cliente admin@platform.com'\n",
    "result, args, msg = smart_tool_selector(input_str, token_str, model, functions, tool_names)\n",
    "result"
   ]
  },
  {
   "cell_type": "code",
   "execution_count": 158,
   "metadata": {
    "tags": []
   },
   "outputs": [
    {
     "data": {
      "text/plain": [
       "'admin@platform.com'"
      ]
     },
     "execution_count": 158,
     "metadata": {},
     "output_type": "execute_result"
    }
   ],
   "source": [
    "TEST_MAIL"
   ]
  },
  {
   "cell_type": "markdown",
   "metadata": {},
   "source": [
    "## Stable old agent"
   ]
  },
  {
   "cell_type": "code",
   "execution_count": 16,
   "metadata": {
    "tags": []
   },
   "outputs": [],
   "source": [
    "    \n",
    "# Define the prompt template\n",
    "prompt = ChatPromptTemplate.from_messages([\n",
    "    (\"system\", \"you're a helpful assistant who will use the {token} to use the tools to bring information to the user\"),\n",
    "    (\"human\", \"{input}\"),\n",
    "    (\"placeholder\", \"{agent_scratchpad}\"),\n",
    "])\n",
    "\n",
    "# Example of integrating with langchain agent framework\n",
    "\n",
    "llm = ChatOpenAI(model=\"gpt-3.5-turbo\", api_key=api_key)\n",
    "\n",
    "# Add the `get_sales` function to the list of tools\n",
    "tools_api = [get_last_sale, get_active_projects, count_sales_by_status, get_sales_by_customer] \n",
    "\n",
    "# Create the agent\n",
    "agent = create_tool_calling_agent(llm, tools_api, prompt)\n",
    "agent_executor = AgentExecutor(agent=agent, tools=tools_api, verbose=True)\n",
    "\n",
    "# Example usage:\n",
    "# token = 'your_actual_token_here'\n",
    "# base_url = 'https://api.yourdomain.com'\n"
   ]
  },
  {
   "cell_type": "code",
   "execution_count": 76,
   "metadata": {
    "tags": []
   },
   "outputs": [
    {
     "data": {
      "text/plain": [
       "'admin@platform.com'"
      ]
     },
     "execution_count": 76,
     "metadata": {},
     "output_type": "execute_result"
    }
   ],
   "source": [
    "TEST_MAIL"
   ]
  },
  {
   "cell_type": "code",
   "execution_count": 78,
   "metadata": {
    "tags": []
   },
   "outputs": [
    {
     "name": "stdout",
     "output_type": "stream",
     "text": [
      "\n",
      "\n",
      "\u001b[1m> Entering new AgentExecutor chain...\u001b[0m\n",
      "\u001b[32;1m\u001b[1;3m\n",
      "Invoking: `count_sales_by_status` with `{'token': '2134|lFXht7lxyqFZ4N25J08O0ffzUHxf5gtJLIzzzJ4a6a41aaf3', 'status': 'documents'}`\n",
      "\n",
      "\n",
      "\u001b[0m\u001b[38;5;200m\u001b[1;3m11\u001b[0m\u001b[32;1m\u001b[1;3mTienes un total de 11 ventas en la etapa de documentos.\u001b[0m\n",
      "\n",
      "\u001b[1m> Finished chain.\u001b[0m\n"
     ]
    },
    {
     "data": {
      "text/plain": [
       "{'input': 'cuantas ventas en la etapa de documentos tengo?',\n",
       " 'token': '2134|lFXht7lxyqFZ4N25J08O0ffzUHxf5gtJLIzzzJ4a6a41aaf3',\n",
       " 'output': 'Tienes un total de 11 ventas en la etapa de documentos.'}"
      ]
     },
     "execution_count": 78,
     "metadata": {},
     "output_type": "execute_result"
    }
   ],
   "source": [
    "input_data = {\n",
    "    \"input\": \"cuantas ventas en la etapa de documentos tengo?\",\n",
    "    \"token\": token\n",
    "}\n",
    "\n",
    "# Invoke the agent\n",
    "agent_executor.invoke(input_data)"
   ]
  },
  {
   "cell_type": "code",
   "execution_count": null,
   "metadata": {},
   "outputs": [],
   "source": []
  }
 ],
 "metadata": {
  "kernelspec": {
   "display_name": "Python 3 (ipykernel)",
   "language": "python",
   "name": "python3"
  },
  "language_info": {
   "codemirror_mode": {
    "name": "ipython",
    "version": 3
   },
   "file_extension": ".py",
   "mimetype": "text/x-python",
   "name": "python",
   "nbconvert_exporter": "python",
   "pygments_lexer": "ipython3",
   "version": "3.10.9"
  }
 },
 "nbformat": 4,
 "nbformat_minor": 4
}
