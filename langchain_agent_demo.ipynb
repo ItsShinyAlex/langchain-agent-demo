{
 "cells": [
  {
   "cell_type": "code",
   "execution_count": 25,
   "metadata": {
    "tags": []
   },
   "outputs": [],
   "source": [
    "import os\n",
    "from dotenv import load_dotenv\n",
    "from sqlalchemy import create_engine, text\n",
    "import pandas as pd\n",
    "from langchain_core.prompts import ChatPromptTemplate\n",
    "from langchain_core.tools import tool\n",
    "from langchain.agents import create_tool_calling_agent, AgentExecutor\n",
    "from langchain_openai import ChatOpenAI\n",
    "import json\n",
    "import requests\n",
    "import pandas as pd\n",
    "import numpy\n",
    "\n",
    "# Load environment variables from the .env file\n",
    "load_dotenv()\n",
    "\n",
    "pd.set_option('display.max_columns', None)\n",
    "pd.set_option('display.max_colwidth', None) \n"
   ]
  },
  {
   "cell_type": "code",
   "execution_count": 20,
   "metadata": {
    "tags": []
   },
   "outputs": [],
   "source": [
    "# Database file path\n",
    "database_file_path = \"./db/test.db\"\n",
    "\n",
    "# Create the SQLAlchemy engine\n",
    "engine = create_engine(f'sqlite:///{database_file_path}')\n",
    "\n",
    "@tool\n",
    "def calculate_price(product_list: list) -> float:\n",
    "    \"\"\"\n",
    "    Calculates the total price of a list of products.\n",
    "\n",
    "    Args:\n",
    "        product_list (list): A list of dictionaries representing products.\n",
    "        \n",
    "    Returns:\n",
    "        float: The total price of the products.\n",
    "    \"\"\"\n",
    "    total_price = sum(product['price'] for product in product_list)\n",
    "    return total_price\n",
    "\n",
    "@tool\n",
    "def get_product_price(product_name: str) -> str:\n",
    "    \"\"\"\n",
    "    Retrieves the price of a specific product.\n",
    "\n",
    "    Args:\n",
    "        product_name (str): The name of the product.\n",
    "        \n",
    "    Returns:\n",
    "        str: The price of the product in JSON format.\n",
    "    \"\"\"\n",
    "    try:\n",
    "        query = text(\"\"\"\n",
    "            SELECT name, price\n",
    "            FROM Product\n",
    "            WHERE name LIKE :product_name;\n",
    "        \"\"\")\n",
    "\n",
    "        with engine.connect() as connection:\n",
    "            result = pd.read_sql_query(query, connection, params={\"product_name\": f\"%{product_name}%\"})\n",
    "        \n",
    "        if not result.empty:\n",
    "            return json.dumps(result.to_dict('records')[0])\n",
    "        else:\n",
    "            return json.dumps({\"product_name\": product_name, \"price\": None})\n",
    "    except Exception as e:\n",
    "        return json.dumps({\"error\": str(e)})\n",
    "\n",
    "@tool\n",
    "def get_products_available() -> str:\n",
    "    \"\"\"\n",
    "    Retrieves the list of products that are available.\n",
    "\n",
    "    Returns:\n",
    "        str: A list of available products in JSON format.\n",
    "    \"\"\"\n",
    "    try: \n",
    "        query = text(\"\"\"\n",
    "            SELECT name, price\n",
    "            FROM Product\n",
    "            WHERE available = 1;\n",
    "        \"\"\")\n",
    "\n",
    "        with engine.connect() as connection:\n",
    "            result = pd.read_sql_query(query, connection)\n",
    "        \n",
    "        if not result.empty:\n",
    "            return json.dumps(result.to_dict('records'))\n",
    "        else:\n",
    "            return json.dumps({\"available_products\": []})\n",
    "    except Exception as e:\n",
    "        return json.dumps({\"error\": str(e)})\n",
    "\n",
    "# Define the prompt template\n",
    "prompt = ChatPromptTemplate.from_messages([\n",
    "    (\"system\", \"you're a helpful assistant\"),\n",
    "    (\"human\", \"{input}\"),\n",
    "    (\"placeholder\", \"{agent_scratchpad}\"),\n",
    "])\n",
    "\n",
    "# Define the tools\n",
    "tools_sql = [get_product_price, get_products_available, calculate_price]\n",
    "\n",
    "# Get the API key from environment variables\n",
    "api_key = os.getenv('OPENAI_API_KEY')\n",
    "llm = ChatOpenAI(model=\"gpt-3.5-turbo\", api_key=api_key)\n",
    "\n",
    "# Create the agent\n",
    "agent = create_tool_calling_agent(llm, tools_sql, prompt)\n",
    "agent_executor = AgentExecutor(agent=agent, tools=tools_sql, verbose=True)\n",
    "\n",
    "# Example usage\n",
    "# agent_executor.invoke({\"input\": \"What is the total cost for a portable charger and a keyboard?\"})\n"
   ]
  },
  {
   "cell_type": "markdown",
   "metadata": {},
   "source": [
    "## Tools / API calls"
   ]
  },
  {
   "cell_type": "markdown",
   "metadata": {},
   "source": [
    "### Token"
   ]
  },
  {
   "cell_type": "code",
   "execution_count": 81,
   "metadata": {
    "tags": []
   },
   "outputs": [],
   "source": [
    "base_url = 'https://dashboard.colorines.paitesting.com/api'\n",
    "\n",
    "# Set the URL for the token API\n",
    "url_token = base_url+\"/v1/token\"\n",
    "\n",
    "# Set the data for the POST request\n",
    "data = {\n",
    "    \"email\": \"sale@platform.com\",\n",
    "    \"password\": os.getenv('CONSULTANT_PASSWORD'),\n",
    "    \"device_name\": \"colorina_2\",\n",
    "    \"role\": \"consultant\"\n",
    "}\n",
    "\n",
    "# Send a POST request\n",
    "response = requests.post(url_token, json=data)\n",
    "\n",
    "#print(response)\n",
    "\n",
    "# Extract the token from the response\n",
    "token = response.json().get('data').get('token')\n",
    "\n",
    "#print(\"Token:\", token)\n"
   ]
  },
  {
   "cell_type": "markdown",
   "metadata": {},
   "source": [
    "## Components"
   ]
  },
  {
   "cell_type": "code",
   "execution_count": 137,
   "metadata": {
    "tags": []
   },
   "outputs": [],
   "source": [
    "import requests\n",
    "import pandas as pd\n",
    "import json\n",
    "\n",
    "#TODO: API need to add a filter by 'is_active'\n",
    "\n",
    "def GetProperties(token: str):\n",
    "    headers = {\"Authorization\": f\"Bearer {token}\"}\n",
    "    url = \"https://dashboard.colorines.paitesting.com/api/v1/properties\"\n",
    "    params = {'include': 'step,project,development'} \n",
    "    try:\n",
    "        response = requests.get(url, headers=headers, params=params)\n",
    "        response.raise_for_status()  # Raise an exception for HTTP errors\n",
    "        \n",
    "        # Check if the response contains any content\n",
    "        if response.content:\n",
    "            data = response.json()\n",
    "        else:\n",
    "            return pd.DataFrame({\"error\": [\"Empty response from the server\"]})\n",
    "        \n",
    "    except requests.exceptions.RequestException as e:\n",
    "        return pd.DataFrame({\"error\": [str(e)]})\n",
    "    except ValueError as ve:\n",
    "        return pd.DataFrame({\"error\": [\"Error parsing JSON response\"]})\n",
    "    \n",
    "    # Check if the 'data' key exists and contains a list of dictionaries\n",
    "    if 'data' in data:\n",
    "        if isinstance(data['data'], list):\n",
    "            return pd.DataFrame(data['data'])\n",
    "        else:\n",
    "            return pd.DataFrame({\"error\": [\"'data' key does not contain a list\"]})\n",
    "    else:\n",
    "        return pd.DataFrame({\"error\": [\"'data' key not found in the response\"]})\n",
    "    \n",
    "#PREPROCESS projects\n",
    "def PreprocessProjects(df):\n",
    "    df['development_name'] = df['development'].apply(lambda x: x.get('name'))\n",
    "    \n",
    "    def filter_active_steps(steps):\n",
    "        return [step['step_number'] for step in steps if step['is_active']]\n",
    "\n",
    "    # Applying the function to create the new column\n",
    "    df['active_steps'] = df['steps'].apply(filter_active_steps)\n",
    "\n",
    "    return df\n",
    "\n",
    "#PREPROCESS Properties\n",
    "def PreprocessProperties(df):\n",
    "    df['project_name'] = df['project'].apply(lambda x: x.get('name'))\n",
    "    df['development_name'] = df['development'].apply(lambda x: x.get('name'))\n",
    "    df['step_number'] = df['step'].apply(lambda x: x.get('step_number')) #numero de etapa\n",
    "\n",
    "    def extract_total_amount(prices, currency_code):\n",
    "        total_amount = None  # Initialize to None or any default value as needed\n",
    "        for entry in prices:\n",
    "            if entry['type'] == 'property' and entry['currency_code'] == currency_code:\n",
    "                total_amount = entry['total_amount']\n",
    "                break  # Exit loop once found\n",
    "        return total_amount\n",
    "\n",
    "    # Extracting total_amount_mxn and total_amount_usd\n",
    "    df['total_amount_mxn'] = df['prices'].apply(lambda x: extract_total_amount(x, 'MXN'))\n",
    "    df['total_amount_usd'] = df['prices'].apply(lambda x: extract_total_amount(x, 'USD'))\n",
    "\n",
    "    return df\n",
    "\n",
    "\n",
    "# Example usage\n",
    "\n",
    "#df_properties = GetProperties(token)\n",
    "\n",
    "def GetProjects(token: str):\n",
    "    headers = {\"Authorization\": f\"Bearer {token}\"}\n",
    "    url = \"https://dashboard.colorines.paitesting.com/api/v1/projects\"\n",
    "    params = {'include': 'steps,development', 'is_active': 'True'} \n",
    "    try:\n",
    "        response = requests.get(url, headers=headers, params=params)\n",
    "        response.raise_for_status()  # Raise an exception for HTTP errors\n",
    "        data = response.json()\n",
    "    except requests.exceptions.RequestException as e:\n",
    "        return pd.DataFrame({\"error\": [str(e)]})\n",
    "    \n",
    "    # Check if the 'data' key exists and contains a list of dictionaries\n",
    "    if 'data' in data:\n",
    "        if isinstance(data['data'], list):\n",
    "            return pd.DataFrame(data['data'])\n",
    "        else:\n",
    "            return pd.DataFrame({\"error\": [\"'data' key does not contain a list\"]})\n",
    "    else:\n",
    "        return pd.DataFrame({\"error\": [\"'data' key not found in the response\"]})\n",
    "\n",
    "# Example usage\n",
    "\n",
    "df_projects = GetProjects(token)\n",
    "\n",
    "def GetDevelopments(token: str):\n",
    "    headers = {\"Authorization\": f\"Bearer {token}\"}\n",
    "    url = \"https://dashboard.colorines.paitesting.com/api/v1/developments\"\n",
    "    try:\n",
    "        response = requests.get(url, headers=headers)\n",
    "        response.raise_for_status()  # Raise an exception for HTTP errors\n",
    "        data = response.json()\n",
    "    except requests.exceptions.RequestException as e:\n",
    "        return pd.DataFrame({\"error\": [str(e)]})\n",
    "    \n",
    "    # Check if the 'data' key exists and contains a list of dictionaries\n",
    "    if 'data' in data:\n",
    "        if isinstance(data['data'], list):\n",
    "            return pd.DataFrame(data['data'])\n",
    "        else:\n",
    "            return pd.DataFrame({\"error\": [\"'data' key does not contain a list\"]})\n",
    "    else:\n",
    "        return pd.DataFrame({\"error\": [\"'data' key not found in the response\"]})\n",
    "\n",
    "# Example usage\n",
    "\n",
    "#df_devs = GetDevelopments(token)\n",
    "\n"
   ]
  },
  {
   "cell_type": "markdown",
   "metadata": {},
   "source": [
    "## Clean functions"
   ]
  },
  {
   "cell_type": "code",
   "execution_count": 134,
   "metadata": {
    "tags": []
   },
   "outputs": [],
   "source": [
    "def CleanProjects(df):\n",
    "    df_clean = df[['name', 'development_name', 'active_steps']]\n",
    "    df_clean = df_clean.rename(columns={'name': 'nombre_proyecto', 'development_name': 'nombre_desarrollo', 'active_steps': 'etapa'})\n",
    "    return df_clean.to_json(orient='records', force_ascii=False)"
   ]
  },
  {
   "cell_type": "code",
   "execution_count": 28,
   "metadata": {
    "tags": []
   },
   "outputs": [],
   "source": [
    "properties_df = df_properties[df_properties['is_active'] == True]"
   ]
  },
  {
   "cell_type": "markdown",
   "metadata": {},
   "source": [
    "## Tools"
   ]
  },
  {
   "cell_type": "code",
   "execution_count": 125,
   "metadata": {
    "tags": []
   },
   "outputs": [],
   "source": [
    "from langchain_core.tools import tool\n",
    "import requests\n",
    "import json\n",
    "\n",
    "import requests\n",
    "import json\n",
    "\n",
    "@tool\n",
    "def get_active_properties(token: str) -> str:\n",
    "    \"\"\"\n",
    "    Uses the token to fetch the active properties from colorines API.\n",
    "    \n",
    "    Args:\n",
    "        token (str): The authorization token required to access the API.\n",
    "\n",
    "    Returns:\n",
    "        str: The JSON response from the API as a string.\n",
    "    \"\"\"\n",
    "    properties_df = GetProperties(token)\n",
    "    properties_df = properties_df[properties_df['is_active'] == True]\n",
    "    \n",
    "\n",
    "    response = requests.get(url, headers=headers, params=params)\n",
    "    # Check if the response was successful\n",
    "    if response.status_code == 200:\n",
    "        try:\n",
    "            return json.dumps(response.json())  # Convert JSON response to string\n",
    "        except ValueError:  # Catch JSON errors\n",
    "            return json.dumps({\"error\": \"Error parsing JSON\"})\n",
    "    else:\n",
    "        return json.dumps({\"error\": f\"Received status code {response.status_code}\"})\n",
    "\n",
    "\n",
    "\n",
    "@tool\n",
    "def get_last_sale(token: str) -> str:\n",
    "    \"\"\"\n",
    "    Uses the token to fetch the last sale from colorines API.\n",
    "    \n",
    "    Args:\n",
    "        token (str): The authorization token required to access the API.\n",
    "\n",
    "    Returns:\n",
    "        str: The JSON response from the API as a string.\n",
    "    \"\"\"\n",
    "    headers = {\"Authorization\": f\"Bearer {token}\"}\n",
    "    url = \"https://dashboard.colorines.paitesting.com/api/v1/sales\"\n",
    "    params = {\"per_page\": 1, \"sort\": \"-created_at\"}\n",
    "    \n",
    "    try:\n",
    "        response = requests.get(url, headers=headers, params=params)\n",
    "        # Check if the response was successful\n",
    "        if response.status_code == 200:\n",
    "            try:\n",
    "                return json.dumps(response.json())  # Convert JSON response to string\n",
    "            except ValueError:  # Catch JSON errors\n",
    "                return json.dumps({\"error\": \"Error parsing JSON\"})\n",
    "        else:\n",
    "            return json.dumps({\"error\": f\"Received status code {response.status_code}\"})\n",
    "    except requests.exceptions.RequestException as e:\n",
    "        return json.dumps({\"error\": str(e)})\n",
    "\n"
   ]
  },
  {
   "cell_type": "markdown",
   "metadata": {},
   "source": [
    "### Properties, developments and Steps"
   ]
  },
  {
   "cell_type": "code",
   "execution_count": 123,
   "metadata": {
    "tags": []
   },
   "outputs": [],
   "source": [
    "@tool\n",
    "def get_active_projects(token: str) -> str:   \n",
    "    \"\"\"\n",
    "    Uses the token to fetch the active projects from colorines API.\n",
    "    \n",
    "    Args:\n",
    "        token (str): The authorization token required to access the API.\n",
    "\n",
    "    Returns:\n",
    "        str: The JSON response from the API as a string.\n",
    "    \"\"\"\n",
    "    df = GetProjects(token)\n",
    "    pre_df = PreprocessProjects(df)\n",
    "    return CleanProjects(pre_df)\n",
    "    \n",
    "    "
   ]
  },
  {
   "cell_type": "markdown",
   "metadata": {},
   "source": [
    "## Test agent"
   ]
  },
  {
   "cell_type": "code",
   "execution_count": 135,
   "metadata": {
    "tags": []
   },
   "outputs": [],
   "source": [
    "    \n",
    "# Define the prompt template\n",
    "prompt = ChatPromptTemplate.from_messages([\n",
    "    (\"system\", \"you're a helpful assistant who will use the {token} to use the tools to bring information to the user\"),\n",
    "    (\"human\", \"{input}\"),\n",
    "    (\"placeholder\", \"{agent_scratchpad}\"),\n",
    "])\n",
    "\n",
    "# Example of integrating with langchain agent framework\n",
    "api_key = os.getenv('OPENAI_API_KEY')\n",
    "llm = ChatOpenAI(model=\"gpt-3.5-turbo\", api_key=api_key)\n",
    "\n",
    "# Add the `get_sales` function to the list of tools\n",
    "tools_api = [get_last_sale, get_active_projects] \n",
    "\n",
    "# Create the agent\n",
    "agent = create_tool_calling_agent(llm, tools_api, prompt)\n",
    "agent_executor = AgentExecutor(agent=agent, tools=tools_api, verbose=True)\n",
    "\n",
    "# Example usage:\n",
    "# token = 'your_actual_token_here'\n",
    "# base_url = 'https://api.yourdomain.com'\n"
   ]
  },
  {
   "cell_type": "code",
   "execution_count": 138,
   "metadata": {
    "tags": []
   },
   "outputs": [
    {
     "data": {
      "text/plain": [
       "'[{\"nombre_proyecto\":\"Tres Raíces\",\"nombre_desarrollo\":\"Yucatán\",\"etapa\":[4]}]'"
      ]
     },
     "execution_count": 138,
     "metadata": {},
     "output_type": "execute_result"
    }
   ],
   "source": [
    "get_active_projects(token)"
   ]
  },
  {
   "cell_type": "code",
   "execution_count": 136,
   "metadata": {
    "tags": []
   },
   "outputs": [
    {
     "name": "stdout",
     "output_type": "stream",
     "text": [
      "\n",
      "\n",
      "\u001b[1m> Entering new AgentExecutor chain...\u001b[0m\n",
      "\u001b[32;1m\u001b[1;3m\n",
      "Invoking: `get_active_projects` with `{'token': '2116|2Y18BZCfbUvOJDipbWQgv0BdGnimrk4EC62q8rOY11db864b'}`\n",
      "\n",
      "\n",
      "\u001b[0m\u001b[33;1m\u001b[1;3m[{\"nombre_proyecto\":\"Tres Raíces\",\"nombre_desarrollo\":\"Yucatán\",\"etapa\":[4]}]\u001b[0m\u001b[32;1m\u001b[1;3mEl proyecto activo actualmente es \"Tres Raíces\" en el desarrollo de Yucatán, en la etapa 4.\u001b[0m\n",
      "\n",
      "\u001b[1m> Finished chain.\u001b[0m\n"
     ]
    },
    {
     "data": {
      "text/plain": [
       "{'input': 'dime los proyectos activos',\n",
       " 'token': '2116|2Y18BZCfbUvOJDipbWQgv0BdGnimrk4EC62q8rOY11db864b',\n",
       " 'output': 'El proyecto activo actualmente es \"Tres Raíces\" en el desarrollo de Yucatán, en la etapa 4.'}"
      ]
     },
     "execution_count": 136,
     "metadata": {},
     "output_type": "execute_result"
    }
   ],
   "source": [
    "input_data = {\n",
    "    \"input\": \"dime los proyectos activos\",\n",
    "    \"token\": token\n",
    "}\n",
    "\n",
    "# Invoke the agent\n",
    "agent_executor.invoke(input_data)"
   ]
  },
  {
   "cell_type": "markdown",
   "metadata": {},
   "source": [
    "## Sales"
   ]
  },
  {
   "cell_type": "code",
   "execution_count": null,
   "metadata": {},
   "outputs": [],
   "source": [
    "@tool\n",
    "def get_customers(base_url: str, token: str) -> str:\n",
    "    \"\"\"\n",
    "    Fetches a list of customers from Colorines API endpoint.\n",
    "\n",
    "    Args:\n",
    "    - base_url (str): The base URL of the API.\n",
    "    - token (str): The authorization token required to access the API.\n",
    "\n",
    "    Returns:\n",
    "    - str: The JSON response from the API as a string.\n",
    "    \"\"\"\n",
    "    headers = {\n",
    "        \"Authorization\": f\"Bearer {token}\"\n",
    "    }\n",
    "    url_list_customers = f\"{base_url}/v1/customers\"\n",
    "    response = requests.get(url_list_customers, headers=headers)\n",
    "    return response.json()\n",
    "\n",
    "# Example usage:\n",
    "customers_data = get_customers(base_url, token)\n",
    "customers_data"
   ]
  }
 ],
 "metadata": {
  "kernelspec": {
   "display_name": "Python 3 (ipykernel)",
   "language": "python",
   "name": "python3"
  },
  "language_info": {
   "codemirror_mode": {
    "name": "ipython",
    "version": 3
   },
   "file_extension": ".py",
   "mimetype": "text/x-python",
   "name": "python",
   "nbconvert_exporter": "python",
   "pygments_lexer": "ipython3",
   "version": "3.11.3"
  }
 },
 "nbformat": 4,
 "nbformat_minor": 4
}
