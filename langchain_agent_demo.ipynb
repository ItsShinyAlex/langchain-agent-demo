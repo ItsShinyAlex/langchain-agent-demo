{
 "cells": [
  {
   "cell_type": "code",
   "execution_count": 1,
   "metadata": {},
   "outputs": [
    {
     "name": "stderr",
     "output_type": "stream",
     "text": [
      "/Users/juliomiranda/anaconda3/lib/python3.10/site-packages/pandas/core/arrays/masked.py:60: UserWarning: Pandas requires version '1.3.6' or newer of 'bottleneck' (version '1.3.5' currently installed).\n",
      "  from pandas.core import (\n"
     ]
    }
   ],
   "source": [
    "import os\n",
    "from dotenv import load_dotenv\n",
    "from sqlalchemy import create_engine, text\n",
    "import pandas as pd\n",
    "from langchain_core.prompts import ChatPromptTemplate\n",
    "from langchain_core.tools import tool\n",
    "from langchain.agents import create_tool_calling_agent, AgentExecutor\n",
    "from langchain_openai import ChatOpenAI\n",
    "import json\n",
    "import requests\n",
    "\n",
    "# Load environment variables from the .env file\n",
    "load_dotenv()\n",
    "\n",
    "# Database file path\n",
    "database_file_path = \"./db/test.db\"\n",
    "\n",
    "# Create the SQLAlchemy engine\n",
    "engine = create_engine(f'sqlite:///{database_file_path}')\n",
    "\n",
    "@tool\n",
    "def calculate_price(product_list: list) -> float:\n",
    "    \"\"\"\n",
    "    Calculates the total price of a list of products.\n",
    "\n",
    "    Args:\n",
    "        product_list (list): A list of dictionaries representing products.\n",
    "        \n",
    "    Returns:\n",
    "        float: The total price of the products.\n",
    "    \"\"\"\n",
    "    total_price = sum(product['price'] for product in product_list)\n",
    "    return total_price\n",
    "\n",
    "@tool\n",
    "def get_product_price(product_name: str) -> str:\n",
    "    \"\"\"\n",
    "    Retrieves the price of a specific product.\n",
    "\n",
    "    Args:\n",
    "        product_name (str): The name of the product.\n",
    "        \n",
    "    Returns:\n",
    "        str: The price of the product in JSON format.\n",
    "    \"\"\"\n",
    "    try:\n",
    "        query = text(\"\"\"\n",
    "            SELECT name, price\n",
    "            FROM Product\n",
    "            WHERE name LIKE :product_name;\n",
    "        \"\"\")\n",
    "\n",
    "        with engine.connect() as connection:\n",
    "            result = pd.read_sql_query(query, connection, params={\"product_name\": f\"%{product_name}%\"})\n",
    "        \n",
    "        if not result.empty:\n",
    "            return json.dumps(result.to_dict('records')[0])\n",
    "        else:\n",
    "            return json.dumps({\"product_name\": product_name, \"price\": None})\n",
    "    except Exception as e:\n",
    "        return json.dumps({\"error\": str(e)})\n",
    "\n",
    "@tool\n",
    "def get_products_available() -> str:\n",
    "    \"\"\"\n",
    "    Retrieves the list of products that are available.\n",
    "\n",
    "    Returns:\n",
    "        str: A list of available products in JSON format.\n",
    "    \"\"\"\n",
    "    try: \n",
    "        query = text(\"\"\"\n",
    "            SELECT name, price\n",
    "            FROM Product\n",
    "            WHERE available = 1;\n",
    "        \"\"\")\n",
    "\n",
    "        with engine.connect() as connection:\n",
    "            result = pd.read_sql_query(query, connection)\n",
    "        \n",
    "        if not result.empty:\n",
    "            return json.dumps(result.to_dict('records'))\n",
    "        else:\n",
    "            return json.dumps({\"available_products\": []})\n",
    "    except Exception as e:\n",
    "        return json.dumps({\"error\": str(e)})\n",
    "\n",
    "# Define the prompt template\n",
    "prompt = ChatPromptTemplate.from_messages([\n",
    "    (\"system\", \"you're a helpful assistant\"),\n",
    "    (\"human\", \"{input}\"),\n",
    "    (\"placeholder\", \"{agent_scratchpad}\"),\n",
    "])\n",
    "\n",
    "# Define the tools\n",
    "tools_sql = [get_product_price, get_products_available, calculate_price]\n",
    "\n",
    "# Get the API key from environment variables\n",
    "api_key = os.getenv('OPENAI_API_KEY')\n",
    "llm = ChatOpenAI(model=\"gpt-3.5-turbo\", api_key=api_key)\n",
    "\n",
    "# Create the agent\n",
    "agent = create_tool_calling_agent(llm, tools_sql, prompt)\n",
    "agent_executor = AgentExecutor(agent=agent, tools=tools_sql, verbose=True)\n",
    "\n",
    "# Example usage\n",
    "# agent_executor.invoke({\"input\": \"What is the total cost for a portable charger and a keyboard?\"})\n"
   ]
  },
  {
   "cell_type": "markdown",
   "metadata": {},
   "source": [
    "## Tools / API calls"
   ]
  },
  {
   "cell_type": "code",
   "execution_count": 51,
   "metadata": {},
   "outputs": [],
   "source": [
    "baseURL = 'https://dashboard.colorines.paitesting.com/api'\n",
    "base_url = 'https://dashboard.colorines.paitesting.com/api'"
   ]
  },
  {
   "cell_type": "markdown",
   "metadata": {},
   "source": [
    "### Token"
   ]
  },
  {
   "cell_type": "code",
   "execution_count": 52,
   "metadata": {},
   "outputs": [
    {
     "name": "stdout",
     "output_type": "stream",
     "text": [
      "<Response [200]>\n",
      "Token: 1996|RPemlkBYvOcm8TXg4ThPXWlSKlkRkXkGgSUSxdcK400494d6\n"
     ]
    }
   ],
   "source": [
    "# Set the URL for the token API\n",
    "url_token = baseURL+\"/v1/token\"\n",
    "\n",
    "# Set the data for the POST request\n",
    "data = {\n",
    "    \"email\": \"sale@platform.com\",\n",
    "    \"password\": os.getenv('CONSULTANT_PASSWORD'),\n",
    "    \"device_name\": \"colorina_2\",\n",
    "    \"role\": \"consultant\"\n",
    "}\n",
    "\n",
    "# Send a POST request\n",
    "response = requests.post(url_token, json=data)\n",
    "\n",
    "print(response)\n",
    "\n",
    "# Extract the token from the response\n",
    "token = response.json().get('data').get('token')\n",
    "\n",
    "print(\"Token:\", token)\n"
   ]
  },
  {
   "cell_type": "code",
   "execution_count": 61,
   "metadata": {},
   "outputs": [],
   "source": [
    "from langchain_core.tools import tool\n",
    "import requests\n",
    "import json\n",
    "\n",
    "@tool\n",
    "def get_sales(token: str) -> str:\n",
    "    \"\"\"\n",
    "    Uses the token to fetch a list of sales from colorines API.\n",
    "    \n",
    "    Args:\n",
    "        token (str): The authorization token required to access the API.\n",
    "\n",
    "    Returns:\n",
    "        str: The JSON response from the API as a string.\n",
    "    \"\"\"\n",
    "    headers = {\"Authorization\": f\"Bearer {token}\"}\n",
    "    url= \"https://dashboard.colorines.paitesting.com/api/v1/sales\"\n",
    "    try:\n",
    "        response = requests.get(url, headers=headers)\n",
    "        # Check if the response was successful\n",
    "        if response.status_code == 200:\n",
    "            try:\n",
    "                return json.dumps(response.json())  # Convert JSON response to string\n",
    "            except ValueError:  # Catch JSON errors\n",
    "                return json.dumps({\"error\": \"Error parsing JSON\"})\n",
    "        else:\n",
    "            return json.dumps({\"error\": f\"Received status code {response.status_code}\"})\n",
    "    except requests.exceptions.RequestException as e:\n",
    "        return json.dumps({\"error\": str(e)})\n",
    "    \n",
    "# Define the prompt template\n",
    "prompt = ChatPromptTemplate.from_messages([\n",
    "    (\"system\", \"you're a helpful assistant\"),\n",
    "    (\"human\", \"{input}\"),\n",
    "    (\"placeholder\", \"{agent_scratchpad}\"),\n",
    "])\n",
    "\n",
    "# Example of integrating with langchain agent framework\n",
    "api_key = os.getenv('OPENAI_API_KEY')\n",
    "llm = ChatOpenAI(model=\"gpt-3.5-turbo\", api_key=api_key)\n",
    "\n",
    "# Add the `get_sales` function to the list of tools\n",
    "tools_sql.append(get_sales)  # Assuming 'tools_sql' already exists and includes other tools\n",
    "\n",
    "# Create the agent\n",
    "agent = create_tool_calling_agent(llm, tools_sql, prompt)\n",
    "agent_executor = AgentExecutor(agent=agent, tools=tools_sql, verbose=True)\n",
    "\n",
    "# Example usage:\n",
    "# token = 'your_actual_token_here'\n",
    "# base_url = 'https://api.yourdomain.com'\n",
    "\n"
   ]
  },
  {
   "cell_type": "code",
   "execution_count": 60,
   "metadata": {},
   "outputs": [
    {
     "ename": "ValueError",
     "evalue": "\"APITool\" object has no field \"api_token\"",
     "output_type": "error",
     "traceback": [
      "\u001b[0;31m---------------------------------------------------------------------------\u001b[0m",
      "\u001b[0;31mValueError\u001b[0m                                Traceback (most recent call last)",
      "Cell \u001b[0;32mIn[60], line 39\u001b[0m\n\u001b[1;32m     36\u001b[0m token \u001b[38;5;241m=\u001b[39m \u001b[38;5;124m\"\u001b[39m\u001b[38;5;124m1911|VhdgL4Sr8hE8DKvIpJupBWTkdYSS1g7WwxJcNkP5650a0619\u001b[39m\u001b[38;5;124m\"\u001b[39m\n\u001b[1;32m     38\u001b[0m \u001b[38;5;66;03m# Create an instance of the APITool with the authentication token\u001b[39;00m\n\u001b[0;32m---> 39\u001b[0m api_tool \u001b[38;5;241m=\u001b[39m \u001b[43mAPITool\u001b[49m\u001b[43m(\u001b[49m\u001b[43mapi_token\u001b[49m\u001b[38;5;241;43m=\u001b[39;49m\u001b[43mtoken\u001b[49m\u001b[43m)\u001b[49m\n\u001b[1;32m     41\u001b[0m \u001b[38;5;66;03m# Add the tool to the list of tools\u001b[39;00m\n\u001b[1;32m     42\u001b[0m tools \u001b[38;5;241m=\u001b[39m [api_tool]\n",
      "Cell \u001b[0;32mIn[60], line 10\u001b[0m, in \u001b[0;36mAPITool.__init__\u001b[0;34m(self, api_token)\u001b[0m\n\u001b[1;32m      8\u001b[0m \u001b[38;5;28;01mdef\u001b[39;00m \u001b[38;5;21m__init__\u001b[39m(\u001b[38;5;28mself\u001b[39m, api_token):\n\u001b[1;32m      9\u001b[0m     \u001b[38;5;28msuper\u001b[39m()\u001b[38;5;241m.\u001b[39m\u001b[38;5;21m__init__\u001b[39m()\n\u001b[0;32m---> 10\u001b[0m     \u001b[38;5;28;43mself\u001b[39;49m\u001b[38;5;241;43m.\u001b[39;49m\u001b[43mapi_token\u001b[49m \u001b[38;5;241m=\u001b[39m api_token\n",
      "File \u001b[0;32m~/anaconda3/lib/python3.10/site-packages/pydantic/v1/main.py:357\u001b[0m, in \u001b[0;36mBaseModel.__setattr__\u001b[0;34m(self, name, value)\u001b[0m\n\u001b[1;32m    354\u001b[0m     \u001b[38;5;28;01mreturn\u001b[39;00m object_setattr(\u001b[38;5;28mself\u001b[39m, name, value)\n\u001b[1;32m    356\u001b[0m \u001b[38;5;28;01mif\u001b[39;00m \u001b[38;5;28mself\u001b[39m\u001b[38;5;241m.\u001b[39m__config__\u001b[38;5;241m.\u001b[39mextra \u001b[38;5;129;01mis\u001b[39;00m \u001b[38;5;129;01mnot\u001b[39;00m Extra\u001b[38;5;241m.\u001b[39mallow \u001b[38;5;129;01mand\u001b[39;00m name \u001b[38;5;129;01mnot\u001b[39;00m \u001b[38;5;129;01min\u001b[39;00m \u001b[38;5;28mself\u001b[39m\u001b[38;5;241m.\u001b[39m__fields__:\n\u001b[0;32m--> 357\u001b[0m     \u001b[38;5;28;01mraise\u001b[39;00m \u001b[38;5;167;01mValueError\u001b[39;00m(\u001b[38;5;124mf\u001b[39m\u001b[38;5;124m'\u001b[39m\u001b[38;5;124m\"\u001b[39m\u001b[38;5;132;01m{\u001b[39;00m\u001b[38;5;28mself\u001b[39m\u001b[38;5;241m.\u001b[39m\u001b[38;5;18m__class__\u001b[39m\u001b[38;5;241m.\u001b[39m\u001b[38;5;18m__name__\u001b[39m\u001b[38;5;132;01m}\u001b[39;00m\u001b[38;5;124m\"\u001b[39m\u001b[38;5;124m object has no field \u001b[39m\u001b[38;5;124m\"\u001b[39m\u001b[38;5;132;01m{\u001b[39;00mname\u001b[38;5;132;01m}\u001b[39;00m\u001b[38;5;124m\"\u001b[39m\u001b[38;5;124m'\u001b[39m)\n\u001b[1;32m    358\u001b[0m \u001b[38;5;28;01melif\u001b[39;00m \u001b[38;5;129;01mnot\u001b[39;00m \u001b[38;5;28mself\u001b[39m\u001b[38;5;241m.\u001b[39m__config__\u001b[38;5;241m.\u001b[39mallow_mutation \u001b[38;5;129;01mor\u001b[39;00m \u001b[38;5;28mself\u001b[39m\u001b[38;5;241m.\u001b[39m__config__\u001b[38;5;241m.\u001b[39mfrozen:\n\u001b[1;32m    359\u001b[0m     \u001b[38;5;28;01mraise\u001b[39;00m \u001b[38;5;167;01mTypeError\u001b[39;00m(\u001b[38;5;124mf\u001b[39m\u001b[38;5;124m'\u001b[39m\u001b[38;5;124m\"\u001b[39m\u001b[38;5;132;01m{\u001b[39;00m\u001b[38;5;28mself\u001b[39m\u001b[38;5;241m.\u001b[39m\u001b[38;5;18m__class__\u001b[39m\u001b[38;5;241m.\u001b[39m\u001b[38;5;18m__name__\u001b[39m\u001b[38;5;132;01m}\u001b[39;00m\u001b[38;5;124m\"\u001b[39m\u001b[38;5;124m is immutable and does not support item assignment\u001b[39m\u001b[38;5;124m'\u001b[39m)\n",
      "\u001b[0;31mValueError\u001b[0m: \"APITool\" object has no field \"api_token\""
     ]
    }
   ],
   "source": [
    "from langchain_core.tools import BaseTool\n",
    "import requests\n",
    "\n",
    "class APITool(BaseTool):\n",
    "    name = \"fetch_api_data\"\n",
    "    description = \"Fetch data from the API with authentication.\"\n",
    "    \n",
    "    def __init__(self, api_token):\n",
    "        super().__init__()\n",
    "        self.api_token = api_token\n",
    "\n",
    "    def _run(self, query: str) -> str:\n",
    "        headers = {\"Authorization\": f\"Bearer {self.api_token}\"}\n",
    "        url = \"https://dashboard.colorines.paitesting.com/api/v1/sales\"\n",
    "        try:\n",
    "            response = requests.get(url, headers=headers)\n",
    "            if response.status_code == 200:\n",
    "                return response.json()\n",
    "            else:\n",
    "                return {\"error\": f\"Received status code {response.status_code}\"}\n",
    "        except requests.exceptions.RequestException as e:\n",
    "            return {\"error\": str(e)}\n",
    "\n",
    "# Define the prompt template\n",
    "prompt = ChatPromptTemplate.from_messages([\n",
    "    (\"system\", \"you're a helpful assistant\"),\n",
    "    (\"human\", \"{input}\"),\n",
    "    (\"placeholder\", \"{agent_scratchpad}\"),\n",
    "])\n",
    "\n",
    "# Example of integrating with langchain agent framework\n",
    "api_key = os.getenv('OPENAI_API_KEY')\n",
    "llm = ChatOpenAI(model=\"gpt-3.5-turbo\", api_key=api_key)\n",
    "\n",
    "# Define the token\n",
    "token = \"1911|VhdgL4Sr8hE8DKvIpJupBWTkdYSS1g7WwxJcNkP5650a0619\"\n",
    "\n",
    "# Create an instance of the APITool with the authentication token\n",
    "api_tool = APITool(api_token=token)\n",
    "\n",
    "# Add the tool to the list of tools\n",
    "tools = [api_tool]\n",
    "\n",
    "# Create the agent with the tools\n",
    "agent = create_tool_calling_agent(llm, tools, prompt)\n",
    "agent_executor = AgentExecutor(agent=agent, tools=tools, verbose=True)\n",
    "\n",
    "# Example usage:\n",
    "result = agent_executor.run(\"Fetch data from the API\")\n",
    "print(result)\n"
   ]
  },
  {
   "cell_type": "code",
   "execution_count": 55,
   "metadata": {},
   "outputs": [
    {
     "data": {
      "text/plain": [
       "'1996|RPemlkBYvOcm8TXg4ThPXWlSKlkRkXkGgSUSxdcK400494d6'"
      ]
     },
     "execution_count": 55,
     "metadata": {},
     "output_type": "execute_result"
    }
   ],
   "source": [
    "token"
   ]
  },
  {
   "cell_type": "code",
   "execution_count": 56,
   "metadata": {},
   "outputs": [
    {
     "name": "stdout",
     "output_type": "stream",
     "text": [
      "\n",
      "\n",
      "\u001b[1m> Entering new AgentExecutor chain...\u001b[0m\n",
      "\u001b[32;1m\u001b[1;3m\n",
      "Invoking: `get_sales` with `{'token': 'abc123'}`\n",
      "\n",
      "\n",
      "\u001b[0m\u001b[33;1m\u001b[1;3m{\"error\": \"Error parsing JSON\"}\u001b[0m\u001b[32;1m\u001b[1;3mI encountered an error while trying to fetch information about your last sale. Please try again later.\u001b[0m\n",
      "\n",
      "\u001b[1m> Finished chain.\u001b[0m\n"
     ]
    },
    {
     "data": {
      "text/plain": [
       "{'input': 'Show me info about my last sale',\n",
       " 'token': '1996|RPemlkBYvOcm8TXg4ThPXWlSKlkRkXkGgSUSxdcK400494d6',\n",
       " 'output': 'I encountered an error while trying to fetch information about your last sale. Please try again later.'}"
      ]
     },
     "execution_count": 56,
     "metadata": {},
     "output_type": "execute_result"
    }
   ],
   "source": [
    "input_data = {\n",
    "    \"input\": \"Show me info about my last sale\",\n",
    "    \"token\": token\n",
    "}\n",
    "\n",
    "# Invoke the agent\n",
    "agent_executor.invoke(input_data)"
   ]
  },
  {
   "cell_type": "markdown",
   "metadata": {},
   "source": [
    "## Sales"
   ]
  },
  {
   "cell_type": "code",
   "execution_count": null,
   "metadata": {},
   "outputs": [],
   "source": [
    "def get_sales(base_url: str, token: str) -> str:\n",
    "    \"\"\"\n",
    "    Fetches a list of sales from colorines API.\n",
    "    \n",
    "    Args:\n",
    "        base_url (str): The base URL of the API.\n",
    "        token (str): The authorization token required to access the API.\n",
    "\n",
    "    Returns:\n",
    "        str: The JSON response from the API as a string.\n",
    "    \"\"\"\n",
    "    headers = {\"Authorization\": f\"Bearer {token}\"}\n",
    "    url_list_sales = f\"{base_url}/v1/sales\"\n",
    "    try:\n",
    "        response = requests.get(url_list_sales, headers=headers)\n",
    "        # Check if the response was successful\n",
    "        if response.status_code == 200:\n",
    "            try:\n",
    "                return json.dumps(response.json())  # Convert JSON response to string\n",
    "            except ValueError:  # Catch JSON errors\n",
    "                return json.dumps({\"error\": \"Error parsing JSON\"})\n",
    "        else:\n",
    "            return json.dumps({\"error\": f\"Received status code {response.status_code}\"})\n",
    "    except requests.exceptions.RequestException as e:\n",
    "        return json.dumps({\"error\": str(e)})\n",
    "    \n",
    "sales_data = get_sales(base_url, token)\n",
    "sales_data"
   ]
  },
  {
   "cell_type": "code",
   "execution_count": null,
   "metadata": {},
   "outputs": [],
   "source": [
    "\n",
    "def get_sales(base_url: str, token: str):\n",
    "    \"\"\"\n",
    "    Fetches a list of sales from the specified API endpoint.\n",
    "\n",
    "    Args:\n",
    "    - base_url (str): The base URL of the API.\n",
    "    - token (str): The authorization token required to access the API.\n",
    "\n",
    "    Returns:\n",
    "    - str: The JSON response from the API as a string.\n",
    "    \"\"\"\n",
    "    headers = {\"Authorization\": f\"Bearer {token}\"}\n",
    "    url_list_sales = f\"{base_url}/v1/sales\"\n",
    "    response = requests.get(url_list_sales, headers=headers)\n",
    "    print(response)\n",
    "    # Check if the response was successful\n",
    "    if response.status_code == 200:\n",
    "        try:\n",
    "            return response.json()  # Try to parse JSON if the status code is 200\n",
    "        except ValueError:  # Catch JSON errors\n",
    "            return \"Error parsing JSON\"\n",
    "    else:\n",
    "        return f\"Error: Received status code {response.status_code}\"\n",
    "\n",
    "# Example usage:\n",
    "# token = 'your_actual_token_here'\n",
    "# base_url = 'https://api.yourdomain.com'\n",
    "sales_data = get_sales(base_url, token)\n",
    "sales_data"
   ]
  },
  {
   "cell_type": "code",
   "execution_count": null,
   "metadata": {},
   "outputs": [],
   "source": [
    "@tool\n",
    "def get_customers(base_url: str, token: str) -> str:\n",
    "    \"\"\"\n",
    "    Fetches a list of customers from Colorines API endpoint.\n",
    "\n",
    "    Args:\n",
    "    - base_url (str): The base URL of the API.\n",
    "    - token (str): The authorization token required to access the API.\n",
    "\n",
    "    Returns:\n",
    "    - str: The JSON response from the API as a string.\n",
    "    \"\"\"\n",
    "    headers = {\n",
    "        \"Authorization\": f\"Bearer {token}\"\n",
    "    }\n",
    "    url_list_customers = f\"{base_url}/v1/customers\"\n",
    "    response = requests.get(url_list_customers, headers=headers)\n",
    "    return response.json()\n",
    "\n",
    "# Example usage:\n",
    "customers_data = get_customers(base_url, token)\n",
    "customers_data"
   ]
  },
  {
   "cell_type": "code",
   "execution_count": 3,
   "metadata": {},
   "outputs": [
    {
     "name": "stdout",
     "output_type": "stream",
     "text": [
      "\n",
      "\n",
      "\u001b[1m> Entering new AgentExecutor chain...\u001b[0m\n",
      "\u001b[32;1m\u001b[1;3m\n",
      "Invoking: `get_products_available` with `{}`\n",
      "\n",
      "\n",
      "\u001b[0m\u001b[33;1m\u001b[1;3m[{\"name\": \"Teclado\", \"price\": 75.25}, {\"name\": \"Laptop\", \"price\": 1000.0}, {\"name\": \"Smartphone\", \"price\": 800.0}, {\"name\": \"Tablet\", \"price\": 300.0}, {\"name\": \"Impresora\", \"price\": 200.0}, {\"name\": \"Mano\", \"price\": 150.0}, {\"name\": \"C\\u00e1mara\", \"price\": 400.0}, {\"name\": \"Televisor\", \"price\": 700.0}, {\"name\": \"Router\", \"price\": 80.0}, {\"name\": \"Reproductor Blu-ray\", \"price\": 180.0}, {\"name\": \"Teclado inal\\u00e1mbrico\", \"price\": 60.0}, {\"name\": \"Mouse inal\\u00e1mbrico\", \"price\": 80.0}, {\"name\": \"Webcam\", \"price\": 70.0}, {\"name\": \"Tarjeta de video\", \"price\": 250.0}, {\"name\": \"Memoria RAM\", \"price\": 120.0}, {\"name\": \"Disco duro externo\", \"price\": 150.0}, {\"name\": \"Tarjeta madre\", \"price\": 350.0}, {\"name\": \"Procesador\", \"price\": 300.0}, {\"name\": \"Gabinete para PC\", \"price\": 80.0}, {\"name\": \"Fuente de poder\", \"price\": 100.0}, {\"name\": \"Router inal\\u00e1mbrico\", \"price\": 50.0}, {\"name\": \"Adaptador Wi-Fi USB\", \"price\": 30.0}, {\"name\": \"Cargador port\\u00e1til\", \"price\": 40.0}, {\"name\": \"Bater\\u00eda de repuesto\", \"price\": 50.0}, {\"name\": \"Mochila para laptop\", \"price\": 40.0}, {\"name\": \"Estuche para tablet\", \"price\": 20.0}, {\"name\": \"Cable HDMI\", \"price\": 10.0}, {\"name\": \"Adaptador de corriente\", \"price\": 20.0}, {\"name\": \"Soporte para monitor\", \"price\": 30.0}, {\"name\": \"Base para laptop\", \"price\": 25.0}, {\"name\": \"Teclado num\\u00e9rico\", \"price\": 15.0}, {\"name\": \"Mouse ergon\\u00f3mico\", \"price\": 35.0}, {\"name\": \"Auriculares con micr\\u00f3fono\", \"price\": 50.0}, {\"name\": \"Control remoto universal\", \"price\": 20.0}, {\"name\": \"Base para smartphone\", \"price\": 15.0}, {\"name\": \"Adaptador de audio Bluetooth\", \"price\": 25.0}, {\"name\": \"Lector de tarjetas de memoria\", \"price\": 15.0}, {\"name\": \"Cable USB-C\", \"price\": 10.0}, {\"name\": \"Cable VGA\", \"price\": 10.0}, {\"name\": \"Cable DisplayPort\", \"price\": 10.0}, {\"name\": \"Cable de red Ethernet\", \"price\": 10.0}, {\"name\": \"Bolsa para laptop\", \"price\": 25.0}, {\"name\": \"Almohadilla para mouse\", \"price\": 15.0}, {\"name\": \"Hola\", \"price\": 20.0}, {\"name\": \"Hola\", \"price\": 20.0}, {\"name\": \"Hola\", \"price\": 20.0}]\u001b[0m\u001b[32;1m\u001b[1;3m\n",
      "Invoking: `get_product_price` with `{'product_name': 'Cargador portátil'}`\n",
      "\n",
      "\n",
      "\u001b[0m\u001b[36;1m\u001b[1;3m{\"name\": \"Cargador port\\u00e1til\", \"price\": 40.0}\u001b[0m\u001b[32;1m\u001b[1;3m\n",
      "Invoking: `get_product_price` with `{'product_name': 'Teclado'}`\n",
      "\n",
      "\n",
      "\u001b[0m\u001b[36;1m\u001b[1;3m{\"name\": \"Teclado\", \"price\": 75.25}\u001b[0m\u001b[32;1m\u001b[1;3m\n",
      "Invoking: `calculate_price` with `{'product_list': [{'name': 'Cargador portátil', 'price': 40.0}, {'name': 'Teclado', 'price': 75.25}]}`\n",
      "\n",
      "\n",
      "\u001b[0m\u001b[38;5;200m\u001b[1;3m115.25\u001b[0m\u001b[32;1m\u001b[1;3mEl total para comprar un Cargador portátil y un teclado es de $115.25.\u001b[0m\n",
      "\n",
      "\u001b[1m> Finished chain.\u001b[0m\n"
     ]
    },
    {
     "data": {
      "text/plain": [
       "{'input': 'Quiero comprar un Cargador portátil y un teclado, cual es el total?',\n",
       " 'output': 'El total para comprar un Cargador portátil y un teclado es de $115.25.'}"
      ]
     },
     "execution_count": 3,
     "metadata": {},
     "output_type": "execute_result"
    }
   ],
   "source": [
    "# Prueba la ejecución del agente\n",
    "# agent_executor.invoke({\"input\": \"Quiero comprar Un teclado un una camara cuanto me costaria\"})\n",
    "\n",
    "# Prueba de disponibilidad de productos\n",
    "# agent_executor.invoke({\"input\": \"Que productos tienes disponibles?\"})\n",
    "agent_executor.invoke({\"input\": \"Quiero comprar un Cargador portátil y un teclado, cual es el total?\"})"
   ]
  }
 ],
 "metadata": {
  "kernelspec": {
   "display_name": "Python 3 (ipykernel)",
   "language": "python",
   "name": "python3"
  },
  "language_info": {
   "codemirror_mode": {
    "name": "ipython",
    "version": 3
   },
   "file_extension": ".py",
   "mimetype": "text/x-python",
   "name": "python",
   "nbconvert_exporter": "python",
   "pygments_lexer": "ipython3",
   "version": "3.10.9"
  }
 },
 "nbformat": 4,
 "nbformat_minor": 4
}
