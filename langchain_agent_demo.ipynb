{
 "cells": [
  {
   "cell_type": "code",
   "execution_count": 2,
   "metadata": {
    "tags": []
   },
   "outputs": [],
   "source": [
    "import os\n",
    "from dotenv import load_dotenv\n",
    "from sqlalchemy import create_engine, text\n",
    "import pandas as pd\n",
    "from langchain_core.prompts import ChatPromptTemplate\n",
    "from langchain_core.tools import tool\n",
    "from langchain.agents import create_tool_calling_agent, AgentExecutor\n",
    "from langchain_openai import ChatOpenAI\n",
    "import json\n",
    "import requests\n",
    "import pandas as pd\n",
    "import numpy\n",
    "\n",
    "\n",
    "# Load environment variables from the .env file\n",
    "load_dotenv()\n",
    "\n",
    "pd.set_option('display.max_columns', None)\n",
    "pd.set_option('display.max_colwidth', None) \n"
   ]
  },
  {
   "cell_type": "code",
   "execution_count": 28,
   "metadata": {
    "tags": []
   },
   "outputs": [
    {
     "name": "stdout",
     "output_type": "stream",
     "text": [
      "Name: langchainNote: you may need to restart the kernel to use updated packages.\n",
      "\n",
      "Version: 0.2.5\n",
      "Summary: Building applications with LLMs through composability\n",
      "Home-page: https://github.com/langchain-ai/langchain\n",
      "Author: \n",
      "Author-email: \n",
      "License: MIT\n",
      "Location: C:\\Users\\starm\\AppData\\Roaming\\Python\\Python311\\site-packages\n",
      "Requires: aiohttp, langchain-core, langchain-text-splitters, langsmith, numpy, pydantic, PyYAML, requests, SQLAlchemy, tenacity\n",
      "Required-by: langchain-community\n"
     ]
    }
   ],
   "source": [
    "pip show langchain\n"
   ]
  },
  {
   "cell_type": "code",
   "execution_count": 3,
   "metadata": {
    "tags": []
   },
   "outputs": [],
   "source": [
    "TEST_MAIL = 'admin@platform.com'"
   ]
  },
  {
   "cell_type": "markdown",
   "metadata": {},
   "source": [
    "## Token"
   ]
  },
  {
   "cell_type": "code",
   "execution_count": 4,
   "metadata": {
    "tags": []
   },
   "outputs": [],
   "source": [
    "base_url = 'https://dashboard.colorines.paitesting.com/api'\n",
    "\n",
    "# Set the URL for the token API\n",
    "url_token = base_url+\"/v1/token\"\n",
    "\n",
    "# Set the data for the POST request\n",
    "data = {\n",
    "    \"email\": \"sale@platform.com\",\n",
    "    \"password\": os.getenv('CONSULTANT_PASSWORD'),\n",
    "    \"device_name\": \"colorina_2\",\n",
    "    \"role\": \"consultant\"\n",
    "}\n",
    "\n",
    "# Send a POST request\n",
    "response = requests.post(url_token, json=data)\n",
    "\n",
    "#print(response)\n",
    "\n",
    "# Extract the token from the response\n",
    "token = response.json().get('data').get('token')\n",
    "\n",
    "#print(\"Token:\", token)\n"
   ]
  },
  {
   "cell_type": "markdown",
   "metadata": {},
   "source": [
    "## Components"
   ]
  },
  {
   "cell_type": "code",
   "execution_count": 5,
   "metadata": {
    "tags": []
   },
   "outputs": [],
   "source": [
    "#TODO: API need to add a filter by 'is_active'\n",
    "\n",
    "def GetProperties(token: str):\n",
    "    headers = {\"Authorization\": f\"Bearer {token}\"}\n",
    "    url = \"https://dashboard.colorines.paitesting.com/api/v1/properties\"\n",
    "    params = {'include': 'step,project,development', 'filter[status]': 'available'} \n",
    "    try:\n",
    "        response = requests.get(url, headers=headers, params=params)\n",
    "        response.raise_for_status()  # Raise an exception for HTTP errors\n",
    "        \n",
    "        # Check if the response contains any content\n",
    "        if response.content:\n",
    "            data = response.json()\n",
    "        else:\n",
    "            return pd.DataFrame({\"error\": [\"Empty response from the server\"]})\n",
    "        \n",
    "    except requests.exceptions.RequestException as e:\n",
    "        return pd.DataFrame({\"error\": [str(e)]})\n",
    "    except ValueError as ve:\n",
    "        return pd.DataFrame({\"error\": [\"Error parsing JSON response\"]})\n",
    "    \n",
    "    # Check if the 'data' key exists and contains a list of dictionaries\n",
    "    if 'data' in data:\n",
    "        if isinstance(data['data'], list):\n",
    "            return pd.DataFrame(data['data'])\n",
    "        else:\n",
    "            return pd.DataFrame({\"error\": [\"'data' key does not contain a list\"]})\n",
    "    else:\n",
    "        return pd.DataFrame({\"error\": [\"'data' key not found in the response\"]})\n",
    "    \n",
    "#PREPROCESS projects\n",
    "def PreprocessProjects(df):\n",
    "    df['development_name'] = df['development'].apply(lambda x: x.get('name'))\n",
    "    \n",
    "    def filter_active_steps(steps):\n",
    "        return [step['step_number'] for step in steps if step['is_active']]\n",
    "\n",
    "    # Applying the function to create the new column\n",
    "    df['active_steps'] = df['steps'].apply(filter_active_steps)\n",
    "\n",
    "    return df\n",
    "\n",
    "#PREPROCESS Properties\n",
    "def PreprocessProperties(df):\n",
    "    df['project_name'] = df['project'].apply(lambda x: x.get('name'))\n",
    "    df['development_name'] = df['development'].apply(lambda x: x.get('name'))\n",
    "    df['step_number'] = df['step'].apply(lambda x: x.get('step_number')) #numero de etapa\n",
    "\n",
    "    def extract_total_amount(prices, currency_code):\n",
    "        total_amount = None  # Initialize to None or any default value as needed\n",
    "        for entry in prices:\n",
    "            if entry['type'] == 'property' and entry['currency_code'] == currency_code:\n",
    "                total_amount = entry['total_amount']\n",
    "                break  # Exit loop once found\n",
    "        return total_amount\n",
    "\n",
    "    # Extracting total_amount_mxn and total_amount_usd\n",
    "    df['total_amount_mxn'] = df['prices'].apply(lambda x: extract_total_amount(x, 'MXN'))\n",
    "    df['total_amount_usd'] = df['prices'].apply(lambda x: extract_total_amount(x, 'USD'))\n",
    "\n",
    "    return df\n",
    "\n",
    "\n",
    "# Example usage\n",
    "\n",
    "#df_properties = GetProperties(token)\n",
    "\n",
    "def GetProjects(token: str):\n",
    "    headers = {\"Authorization\": f\"Bearer {token}\"}\n",
    "    url = \"https://dashboard.colorines.paitesting.com/api/v1/projects\"\n",
    "    params = {'include': 'steps,development', 'is_active': 'True'} \n",
    "    try:\n",
    "        response = requests.get(url, headers=headers, params=params)\n",
    "        response.raise_for_status()  # Raise an exception for HTTP errors\n",
    "        data = response.json()\n",
    "    except requests.exceptions.RequestException as e:\n",
    "        return pd.DataFrame({\"error\": [str(e)]})\n",
    "    \n",
    "    # Check if the 'data' key exists and contains a list of dictionaries\n",
    "    if 'data' in data:\n",
    "        if isinstance(data['data'], list):\n",
    "            return pd.DataFrame(data['data'])\n",
    "        else:\n",
    "            return pd.DataFrame({\"error\": [\"'data' key does not contain a list\"]})\n",
    "    else:\n",
    "        return pd.DataFrame({\"error\": [\"'data' key not found in the response\"]})\n",
    "\n",
    "# Example usage\n",
    "\n",
    "df_projects = GetProjects(token)\n",
    "\n",
    "def GetDevelopments(token: str):\n",
    "    headers = {\"Authorization\": f\"Bearer {token}\"}\n",
    "    url = \"https://dashboard.colorines.paitesting.com/api/v1/developments\"\n",
    "    try:\n",
    "        response = requests.get(url, headers=headers)\n",
    "        response.raise_for_status()  # Raise an exception for HTTP errors\n",
    "        data = response.json()\n",
    "    except requests.exceptions.RequestException as e:\n",
    "        return pd.DataFrame({\"error\": [str(e)]})\n",
    "    \n",
    "    # Check if the 'data' key exists and contains a list of dictionaries\n",
    "    if 'data' in data:\n",
    "        if isinstance(data['data'], list):\n",
    "            return pd.DataFrame(data['data'])\n",
    "        else:\n",
    "            return pd.DataFrame({\"error\": [\"'data' key does not contain a list\"]})\n",
    "    else:\n",
    "        return pd.DataFrame({\"error\": [\"'data' key not found in the response\"]})\n",
    "\n",
    "# Example usage\n",
    "\n",
    "#df_devs = GetDevelopments(token)\n",
    "\n"
   ]
  },
  {
   "cell_type": "markdown",
   "metadata": {},
   "source": [
    "### Sales"
   ]
  },
  {
   "cell_type": "code",
   "execution_count": 7,
   "metadata": {
    "tags": []
   },
   "outputs": [],
   "source": [
    "def GetSales(token: str, status: str = None, customer_id: int = None):\n",
    "    headers = {\n",
    "        \"Authorization\": f\"Bearer {token}\",\n",
    "        \"Accept\": \"application/json\"  # Ensures the server knows you expect JSON\n",
    "    }\n",
    "    url = \"https://dashboard.colorines.paitesting.com/api/v1/sales\"\n",
    "    params={}\n",
    "    if status:\n",
    "        params.update({\"filter[status]\": status})\n",
    "        \n",
    "    if customer_id:\n",
    "        params.update({\"customer_id\": customer_id})\n",
    "    \n",
    "    try:\n",
    "        response = requests.get(url, headers=headers, params=params)\n",
    "        #print(\"Status Code:\", response.status_code)  # Log the status code\n",
    "        #print(\"Response Body:\", response.text)   \n",
    "        response.raise_for_status()  # Raise an exception for HTTP errors\n",
    "        \n",
    "        # Check if the response contains any content\n",
    "        if response.content:\n",
    "            data = response.json()\n",
    "        else:\n",
    "            return pd.DataFrame({\"error\": [\"Empty response from the server\"]})\n",
    "        \n",
    "    except requests.exceptions.RequestException as e:\n",
    "        return pd.DataFrame({\"error\": [str(e)]})\n",
    "    except ValueError as ve:\n",
    "        return pd.DataFrame({\"error\": [\"Error parsing JSON response\"]})\n",
    "    \n",
    "    # Check if the 'data' key exists and contains a list of dictionaries\n",
    "    if 'data' in data:\n",
    "        if isinstance(data['data'], list):\n",
    "            return pd.DataFrame(data['data'])\n",
    "        else:\n",
    "            return pd.DataFrame({\"error\": [\"'data' key does not contain a list\"]})\n",
    "    else:\n",
    "        return pd.DataFrame({\"error\": [\"'data' key not found in the response\"]})\n",
    "\n",
    "def PreprocessSales(df):\n",
    "    df['property_name'] = df['property'].apply(lambda x: x.get('alias'))\n",
    "\n",
    "    return df"
   ]
  },
  {
   "cell_type": "markdown",
   "metadata": {},
   "source": [
    "### Customers"
   ]
  },
  {
   "cell_type": "code",
   "execution_count": 8,
   "metadata": {
    "tags": []
   },
   "outputs": [],
   "source": [
    "def GetCustomers(token: str):\n",
    "    headers = {\n",
    "        \"Authorization\": f\"Bearer {token}\",\n",
    "        \"Accept\": \"application/json\"  # Ensures the server knows you expect JSON\n",
    "    }\n",
    "    url = \"https://dashboard.colorines.paitesting.com/api/v1/customers\"\n",
    "\n",
    "    try:\n",
    "        response = requests.get(url, headers=headers)\n",
    "        response.raise_for_status()  # Raise an exception for HTTP errors\n",
    "        \n",
    "        # Check if the response contains any content\n",
    "        if response.content:\n",
    "            data = response.json()\n",
    "        else:\n",
    "            return pd.DataFrame({\"error\": [\"Empty response from the server\"]})\n",
    "        \n",
    "    except requests.exceptions.RequestException as e:\n",
    "        return pd.DataFrame({\"error\": [str(e)]})\n",
    "    except ValueError as ve:\n",
    "        return pd.DataFrame({\"error\": [\"Error parsing JSON response\"]})\n",
    "    \n",
    "    # Check if the 'data' key exists and contains a list of dictionaries\n",
    "    if 'data' in data:\n",
    "        if isinstance(data['data'], list):\n",
    "            return pd.DataFrame(data['data'])\n",
    "        else:\n",
    "            return pd.DataFrame({\"error\": [\"'data' key does not contain a list\"]})\n",
    "    else:\n",
    "        return pd.DataFrame({\"error\": [\"'data' key not found in the response\"]})\n",
    "\n",
    "def GetCustomerID(df, email):\n",
    "    df_filtered = df[df['email'] == email]\n",
    "    if (len(df_filtered)>0):\n",
    "        return df_filtered.iloc[0].id\n",
    "    else:\n",
    "        return None"
   ]
  },
  {
   "cell_type": "markdown",
   "metadata": {},
   "source": [
    "## Clean functions"
   ]
  },
  {
   "cell_type": "code",
   "execution_count": 10,
   "metadata": {
    "tags": []
   },
   "outputs": [],
   "source": [
    "def CleanProjects(df):\n",
    "    df_clean = df[['name', 'development_name', 'active_steps']]\n",
    "    df_clean = df_clean.rename(columns={'name': 'nombre_proyecto', 'development_name': 'nombre_desarrollo', 'active_steps': 'etapa'})\n",
    "    return df_clean.to_json(orient='records', force_ascii=False)\n",
    "\n",
    "def CleanProperties(df):\n",
    "    df_clean = df[['alias', 'status', 'project_name', 'development_name', 'step_number', 'total_amount_mxn', 'total_amount_usd']]\n",
    "    \n",
    "    df_clean = df_clean.rename(columns={'alias': 'nombre_propiedad',\n",
    "                                        'project_name': 'nombre_proyecto',\n",
    "                                        'development_name': 'nombre_desarrollo',\n",
    "                                        'step_number': 'etapa',\n",
    "                                        'total_amount_mxn': 'precio_MXN',\n",
    "                                        'total_amount_usd': 'precio_USD'\n",
    "                                       })\n",
    "    return df_clean.to_json(orient='records', force_ascii=False)\n",
    "\n",
    "def CleanSalesByCustomer(df):\n",
    "    df_clean = df[['property_name', 'currency', 'reserve_amount', 'property_amount', 'property_discount_amount', 'down_payment_amount', 'down_payment_percent', 'number_installments', 'installments_amount', 'installments_individual_amount', 'sqft_price_amount', 'status', 'amount_total', 'amount_paid', 'amount_remaining', 'next_payment_date', 'advance_percent', 'overdue_installments_count', 'overdue_installments_amount']]\n",
    "    return df_clean.to_json(orient='records', force_ascii=False)"
   ]
  },
  {
   "cell_type": "markdown",
   "metadata": {},
   "source": [
    "## Tools"
   ]
  },
  {
   "cell_type": "code",
   "execution_count": 11,
   "metadata": {
    "tags": []
   },
   "outputs": [],
   "source": [
    "@tool\n",
    "def get_active_properties(token: str) -> str:\n",
    "    \"\"\"\n",
    "    Uses the token to fetch the active properties from colorines API.\n",
    "    \n",
    "    Args:\n",
    "        token (str): The authorization token required to access the API.\n",
    "\n",
    "    Returns:\n",
    "        str: The JSON response from the API as a string.\n",
    "    \"\"\"\n",
    "    properties_df = GetProperties(token)\n",
    "    properties_df = properties_df[properties_df['is_active'] == True]\n",
    "    \n",
    "\n",
    "    response = requests.get(url, headers=headers, params=params)\n",
    "    # Check if the response was successful\n",
    "    if response.status_code == 200:\n",
    "        try:\n",
    "            return json.dumps(response.json())  # Convert JSON response to string\n",
    "        except ValueError:  # Catch JSON errors\n",
    "            return json.dumps({\"error\": \"Error parsing JSON\"})\n",
    "    else:\n",
    "        return json.dumps({\"error\": f\"Received status code {response.status_code}\"})\n",
    "\n",
    "\n",
    "\n",
    "@tool\n",
    "def get_last_sale(token: str) -> str:\n",
    "    \"\"\"\n",
    "    Uses the token to fetch the last sale from colorines API.\n",
    "    \n",
    "    Args:\n",
    "        token (str): The authorization token required to access the API.\n",
    "\n",
    "    Returns:\n",
    "        str: The JSON response from the API as a string.\n",
    "    \"\"\"\n",
    "    headers = {\"Authorization\": f\"Bearer {token}\"}\n",
    "    url = \"https://dashboard.colorines.paitesting.com/api/v1/sales\"\n",
    "    params = {\"per_page\": 1, \"sort\": \"-created_at\"}\n",
    "    \n",
    "    try:\n",
    "        response = requests.get(url, headers=headers, params=params)\n",
    "        # Check if the response was successful\n",
    "        if response.status_code == 200:\n",
    "            try:\n",
    "                return json.dumps(response.json())  # Convert JSON response to string\n",
    "            except ValueError:  # Catch JSON errors\n",
    "                return json.dumps({\"error\": \"Error parsing JSON\"})\n",
    "        else:\n",
    "            return json.dumps({\"error\": f\"Received status code {response.status_code}\"})\n",
    "    except requests.exceptions.RequestException as e:\n",
    "        return json.dumps({\"error\": str(e)})\n",
    "\n"
   ]
  },
  {
   "cell_type": "markdown",
   "metadata": {},
   "source": [
    "### Properties, developments and Steps"
   ]
  },
  {
   "cell_type": "code",
   "execution_count": 12,
   "metadata": {
    "tags": []
   },
   "outputs": [],
   "source": [
    "@tool\n",
    "def get_active_projects(token: str) -> str:   \n",
    "    \"\"\"\n",
    "    Uses the token to fetch the active (available) projects from colorines API.\n",
    "    \n",
    "    Args:\n",
    "        token (str): The authorization token required to access the API.\n",
    "\n",
    "    Returns:\n",
    "        str: The JSON response from the API as a string.\n",
    "    \"\"\"\n",
    "    df = GetProjects(token)\n",
    "    pre_df = PreprocessProjects(df)\n",
    "    return CleanProjects(pre_df)\n",
    "    \n",
    "@tool\n",
    "def get_active_properties(token: str)-> str:\n",
    "    \"\"\"\n",
    "    Uses the token to fetch the active (available) properties from colorines API.\n",
    "    \n",
    "    Args:\n",
    "        token (str): The authorization token required to access the API.\n",
    "\n",
    "    Returns:\n",
    "        str: The JSON response from the API as a string.\n",
    "    \"\"\"\n",
    "    \n",
    "    df = GetProperties(token)\n",
    "    pre_df = PreprocessProperties(df)\n",
    "    return CleanProperties(pre_df)\n",
    "\n"
   ]
  },
  {
   "cell_type": "markdown",
   "metadata": {},
   "source": [
    "### Sales"
   ]
  },
  {
   "cell_type": "code",
   "execution_count": 17,
   "metadata": {
    "tags": []
   },
   "outputs": [],
   "source": [
    "@tool\n",
    "def count_sales_by_status(token: str, status: str)-> int:\n",
    "    \"\"\"\n",
    "    Count the number of sales the user has with a specific status.\n",
    "    \n",
    "    \n",
    "    Args:\n",
    "        token (str): The authorization token required to access the API.\n",
    "        status (str): The status to filter the API request. Acceptable status by the API: reserved, documents, contract, active, canceled, overdue, finalized, deeded.\n",
    "\n",
    "    Returns:\n",
    "        int: The number of sales with the requested status.\n",
    "    \"\"\"\n",
    "    \n",
    "    df = GetSales(token=token, status=status)\n",
    "    count = len(df)\n",
    "    return count\n",
    "\n",
    "@tool\n",
    "def get_sales_by_customer(token: str, email: str) -> str:\n",
    "    \"\"\"\n",
    "    Retrieves and returns a list of sales associated with a customer identified by their email.\n",
    "\n",
    "    This function performs the following steps:\n",
    "    1. Uses the provided email to search for the customer ID.\n",
    "    2. Retrieves the sales attached to that customer ID.\n",
    "    3. Returns relevant sales information in JSON format.\n",
    "\n",
    "    Args:\n",
    "        token (str): The authorization token required to access the API.\n",
    "        email (str): The email address used to identify the customer.\n",
    "\n",
    "    Returns:\n",
    "        str: A JSON response containing information about sales made to the customer.\n",
    "             The JSON includes details about each sale that will be listed to the user by the agent.\n",
    "    \"\"\"\n",
    "    # Function implementation here\n",
    "    customers = GetCustomers(token)\n",
    "    customer_id = GetCustomerID(customers, email=email)\n",
    "    if customer_id:\n",
    "        df = GetSales(token=token, customer_id=customer_id)\n",
    "        df = PreprocessSales(df)\n",
    "        return CleanSalesByCustomer(df)\n",
    "    else:\n",
    "        return 'No se encontró ningún cliente con ese correo electrónico, pregunta al cliente si el correo es correcto'\n",
    "\n",
    "\n"
   ]
  },
  {
   "cell_type": "markdown",
   "metadata": {},
   "source": [
    "## Test agent"
   ]
  },
  {
   "cell_type": "code",
   "execution_count": 19,
   "metadata": {
    "tags": []
   },
   "outputs": [],
   "source": [
    "    \n",
    "# Define the prompt template\n",
    "prompt = ChatPromptTemplate.from_messages([\n",
    "    (\"system\", \"you're a helpful assistant who will use the {token} to use the tools to bring information to the user\"),\n",
    "    (\"human\", \"{input}\"),\n",
    "    (\"placeholder\", \"{agent_scratchpad}\"),\n",
    "])\n",
    "\n",
    "# Example of integrating with langchain agent framework\n",
    "api_key = os.getenv('OPENAI_API_KEY')\n",
    "llm = ChatOpenAI(model=\"gpt-3.5-turbo\", api_key=api_key)\n",
    "\n",
    "# Add the `get_sales` function to the list of tools\n",
    "tools_api = [get_last_sale, get_active_projects, count_sales_by_status, get_sales_by_customer] \n",
    "\n",
    "# Create the agent\n",
    "agent = create_tool_calling_agent(llm, tools_api, prompt)\n",
    "agent_executor = AgentExecutor(agent=agent, tools=tools_api, verbose=True)\n",
    "\n",
    "# Example usage:\n",
    "# token = 'your_actual_token_here'\n",
    "# base_url = 'https://api.yourdomain.com'\n"
   ]
  },
  {
   "cell_type": "code",
   "execution_count": 20,
   "metadata": {
    "tags": []
   },
   "outputs": [
    {
     "data": {
      "text/plain": [
       "'admin@platform.com'"
      ]
     },
     "execution_count": 20,
     "metadata": {},
     "output_type": "execute_result"
    }
   ],
   "source": [
    "TEST_MAIL"
   ]
  },
  {
   "cell_type": "code",
   "execution_count": 22,
   "metadata": {
    "tags": []
   },
   "outputs": [
    {
     "name": "stdout",
     "output_type": "stream",
     "text": [
      "\n",
      "\n",
      "\u001b[1m> Entering new AgentExecutor chain...\u001b[0m\n",
      "\u001b[32;1m\u001b[1;3m\n",
      "Invoking: `get_sales_by_customer` with `{'token': '2131|giWSu5ExntZysSSBLFu9OQIKnqfiy7P4Kgpu13Ct47e1c195', 'email': 'admin@platform.com'}`\n",
      "\n",
      "\n",
      "\u001b[0m\u001b[36;1m\u001b[1;3m[{\"property_name\":\"TR-04-354\",\"currency\":\"MXN\",\"reserve_amount\":3500,\"property_amount\":517916,\"property_discount_amount\":51791.6,\"down_payment_amount\":186449.0,\"down_payment_percent\":40,\"number_installments\":24,\"installments_amount\":279675.4,\"installments_individual_amount\":11653.0,\"sqft_price_amount\":1260.0,\"status\":{\"name\":\"Contrato firmado\",\"short_code\":\"contract\",\"percent\":75},\"amount_total\":466124.4,\"amount_paid\":46612.0,\"amount_remaining\":419512.4,\"next_payment_date\":\"2024-07-02T06:00:00.000000Z\",\"advance_percent\":9.9999056046,\"overdue_installments_count\":0,\"overdue_installments_amount\":0},{\"property_name\":\"TR-04-040\",\"currency\":\"MXN\",\"reserve_amount\":3500,\"property_amount\":850360,\"property_discount_amount\":42518.0,\"down_payment_amount\":0.0,\"down_payment_percent\":0,\"number_installments\":57,\"installments_amount\":807842.0,\"installments_individual_amount\":14172.0,\"sqft_price_amount\":1330.0,\"status\":{\"name\":\"Documentación\",\"short_code\":\"documents\",\"percent\":50},\"amount_total\":807842.0,\"amount_paid\":0.0,\"amount_remaining\":807842.0,\"next_payment_date\":\"2024-07-02T06:00:00.000000Z\",\"advance_percent\":0.0,\"overdue_installments_count\":0,\"overdue_installments_amount\":0},{\"property_name\":\"TR-04-037\",\"currency\":\"MXN\",\"reserve_amount\":3500,\"property_amount\":400456,\"property_discount_amount\":0.0,\"down_payment_amount\":120136.0,\"down_payment_percent\":30,\"number_installments\":24,\"installments_amount\":280320.0,\"installments_individual_amount\":11680.0,\"sqft_price_amount\":1400.0,\"status\":{\"name\":\"Contrato firmado\",\"short_code\":\"contract\",\"percent\":75},\"amount_total\":400456.0,\"amount_paid\":0.0,\"amount_remaining\":400456.0,\"next_payment_date\":\"2024-07-02T06:00:00.000000Z\",\"advance_percent\":0.0,\"overdue_installments_count\":0,\"overdue_installments_amount\":0},{\"property_name\":\"TR-04-036\",\"currency\":\"MXN\",\"reserve_amount\":3500,\"property_amount\":407638,\"property_discount_amount\":0.0,\"down_payment_amount\":122291.0,\"down_payment_percent\":30,\"number_installments\":24,\"installments_amount\":285347.0,\"installments_individual_amount\":11889.0,\"sqft_price_amount\":1400.0,\"status\":{\"name\":\"Contrato firmado\",\"short_code\":\"contract\",\"percent\":75},\"amount_total\":407638.0,\"amount_paid\":0.0,\"amount_remaining\":407638.0,\"next_payment_date\":\"2024-07-02T06:00:00.000000Z\",\"advance_percent\":0.0,\"overdue_installments_count\":0,\"overdue_installments_amount\":0},{\"property_name\":\"TR-04-034\",\"currency\":\"MXN\",\"reserve_amount\":3500,\"property_amount\":422002,\"property_discount_amount\":0.0,\"down_payment_amount\":126600.0,\"down_payment_percent\":30,\"number_installments\":24,\"installments_amount\":295402.0,\"installments_individual_amount\":12308.0,\"sqft_price_amount\":1400.0,\"status\":{\"name\":\"Contrato firmado\",\"short_code\":\"contract\",\"percent\":75},\"amount_total\":422002.0,\"amount_paid\":61540.0,\"amount_remaining\":360462.0,\"next_payment_date\":\"2024-07-02T06:00:00.000000Z\",\"advance_percent\":14.5828692755,\"overdue_installments_count\":0,\"overdue_installments_amount\":0},{\"property_name\":\"TR-04-031\",\"currency\":\"MXN\",\"reserve_amount\":3500,\"property_amount\":443562,\"property_discount_amount\":0.0,\"down_payment_amount\":133068.0,\"down_payment_percent\":30,\"number_installments\":24,\"installments_amount\":310494.0,\"installments_individual_amount\":12937.0,\"sqft_price_amount\":1400.0,\"status\":{\"name\":\"Documentación\",\"short_code\":\"documents\",\"percent\":50},\"amount_total\":443562.0,\"amount_paid\":0.0,\"amount_remaining\":443562.0,\"next_payment_date\":\"2024-07-02T06:00:00.000000Z\",\"advance_percent\":0.0,\"overdue_installments_count\":0,\"overdue_installments_amount\":0},{\"property_name\":\"TR-04-039\",\"currency\":\"MXN\",\"reserve_amount\":3500,\"property_amount\":386078,\"property_discount_amount\":38607.8,\"down_payment_amount\":69494.0,\"down_payment_percent\":20,\"number_installments\":24,\"installments_amount\":277976.2,\"installments_individual_amount\":11582.0,\"sqft_price_amount\":1260.0,\"status\":{\"name\":\"Contrato firmado\",\"short_code\":\"contract\",\"percent\":75},\"amount_total\":347470.2,\"amount_paid\":81076.0,\"amount_remaining\":266394.2,\"next_payment_date\":\"2024-09-02T06:00:00.000000Z\",\"advance_percent\":23.3332239714,\"overdue_installments_count\":0,\"overdue_installments_amount\":0},{\"property_name\":\"TR-04-038\",\"currency\":\"MXN\",\"reserve_amount\":3500,\"property_amount\":393260,\"property_discount_amount\":19663.0,\"down_payment_amount\":74719.4,\"down_payment_percent\":20,\"number_installments\":50,\"installments_amount\":298877.6,\"installments_individual_amount\":5977.0,\"sqft_price_amount\":1330.0,\"status\":{\"name\":\"Contrato firmado\",\"short_code\":\"contract\",\"percent\":75},\"amount_total\":373597.0,\"amount_paid\":0.0,\"amount_remaining\":373597.0,\"next_payment_date\":\"2024-07-02T06:00:00.000000Z\",\"advance_percent\":0.0,\"overdue_installments_count\":0,\"overdue_installments_amount\":0},{\"property_name\":\"TR-04-047\",\"currency\":\"MXN\",\"reserve_amount\":3500,\"property_amount\":420000,\"property_discount_amount\":33600.0,\"down_payment_amount\":115920.0,\"down_payment_percent\":30,\"number_installments\":24,\"installments_amount\":270480.0,\"installments_individual_amount\":11270.0,\"sqft_price_amount\":1288.0,\"status\":{\"name\":\"Contrato firmado\",\"short_code\":\"contract\",\"percent\":75},\"amount_total\":386400.0,\"amount_paid\":0.0,\"amount_remaining\":386400.0,\"next_payment_date\":\"2024-07-02T06:00:00.000000Z\",\"advance_percent\":0.0,\"overdue_installments_count\":0,\"overdue_installments_amount\":0},{\"property_name\":\"TR-04-044\",\"currency\":\"MXN\",\"reserve_amount\":3500,\"property_amount\":420000,\"property_discount_amount\":42000.0,\"down_payment_amount\":113400.0,\"down_payment_percent\":30,\"number_installments\":24,\"installments_amount\":264600.0,\"installments_individual_amount\":11025.0,\"sqft_price_amount\":1260.0,\"status\":{\"name\":\"Contrato firmado\",\"short_code\":\"contract\",\"percent\":75},\"amount_total\":378000.0,\"amount_paid\":0.0,\"amount_remaining\":378000.0,\"next_payment_date\":\"2024-07-02T06:00:00.000000Z\",\"advance_percent\":0.0,\"overdue_installments_count\":0,\"overdue_installments_amount\":0},{\"property_name\":\"TR-04-035\",\"currency\":\"MXN\",\"reserve_amount\":3500,\"property_amount\":414820,\"property_discount_amount\":0.0,\"down_payment_amount\":124446.0,\"down_payment_percent\":30,\"number_installments\":24,\"installments_amount\":290374.0,\"installments_individual_amount\":12098.0,\"sqft_price_amount\":1400.0,\"status\":{\"name\":\"Contrato firmado\",\"short_code\":\"contract\",\"percent\":75},\"amount_total\":414820.0,\"amount_paid\":197034.0,\"amount_remaining\":217786.0,\"next_payment_date\":\"2025-02-02T06:00:00.000000Z\",\"advance_percent\":47.4986741237,\"overdue_installments_count\":0,\"overdue_installments_amount\":0},{\"property_name\":\"TR-04-041\",\"currency\":\"MXN\",\"reserve_amount\":3500,\"property_amount\":638694,\"property_discount_amount\":0.0,\"down_payment_amount\":191608.2,\"down_payment_percent\":30,\"number_installments\":24,\"installments_amount\":447085.8,\"installments_individual_amount\":18628.0,\"sqft_price_amount\":1400.0,\"status\":{\"name\":\"Contrato firmado\",\"short_code\":\"contract\",\"percent\":75},\"amount_total\":638694.0,\"amount_paid\":0.0,\"amount_remaining\":638694.0,\"next_payment_date\":\"2024-06-13T06:00:00.000000Z\",\"advance_percent\":0.0,\"overdue_installments_count\":0,\"overdue_installments_amount\":0},{\"property_name\":\"TR-04-043\",\"currency\":\"MXN\",\"reserve_amount\":3500,\"property_amount\":420000,\"property_discount_amount\":42000.0,\"down_payment_amount\":75600.0,\"down_payment_percent\":20,\"number_installments\":60,\"installments_amount\":302400.0,\"installments_individual_amount\":5040.0,\"sqft_price_amount\":1260.0,\"status\":{\"name\":\"Contrato firmado\",\"short_code\":\"contract\",\"percent\":75},\"amount_total\":378000.0,\"amount_paid\":0.0,\"amount_remaining\":378000.0,\"next_payment_date\":\"2024-06-13T06:00:00.000000Z\",\"advance_percent\":0.0,\"overdue_installments_count\":0,\"overdue_installments_amount\":0},{\"property_name\":\"TR-04-024\",\"currency\":\"MXN\",\"reserve_amount\":3500,\"property_amount\":493864,\"property_discount_amount\":0.0,\"down_payment_amount\":148159.2,\"down_payment_percent\":30,\"number_installments\":72,\"installments_amount\":345704.8,\"installments_individual_amount\":4801.0,\"sqft_price_amount\":1400.0,\"status\":{\"name\":\"Documentación\",\"short_code\":\"documents\",\"percent\":50},\"amount_total\":493864.0,\"amount_paid\":0.0,\"amount_remaining\":493864.0,\"next_payment_date\":\"2024-06-12T06:00:00.000000Z\",\"advance_percent\":0.0,\"overdue_installments_count\":0,\"overdue_installments_amount\":0},{\"property_name\":\"TR-04-031\",\"currency\":\"MXN\",\"reserve_amount\":3500,\"property_amount\":443562,\"property_discount_amount\":0.0,\"down_payment_amount\":133068.6,\"down_payment_percent\":30,\"number_installments\":24,\"installments_amount\":310493.4,\"installments_individual_amount\":12937.0,\"sqft_price_amount\":1400.0,\"status\":{\"name\":\"Apartado\",\"short_code\":\"reserved\",\"percent\":25},\"amount_total\":443562.0,\"amount_paid\":0.0,\"amount_remaining\":443562.0,\"next_payment_date\":\"2024-06-12T06:00:00.000000Z\",\"advance_percent\":0.0,\"overdue_installments_count\":0,\"overdue_installments_amount\":0},{\"property_name\":\"TR-04-018\",\"currency\":\"MXN\",\"reserve_amount\":3500,\"property_amount\":536970,\"property_discount_amount\":0.0,\"down_payment_amount\":161091.0,\"down_payment_percent\":30,\"number_installments\":24,\"installments_amount\":375879.0,\"installments_individual_amount\":15661.0,\"sqft_price_amount\":1400.0,\"status\":{\"name\":\"Apartado\",\"short_code\":\"reserved\",\"percent\":25},\"amount_total\":536970.0,\"amount_paid\":0.0,\"amount_remaining\":536970.0,\"next_payment_date\":\"2024-06-12T06:00:00.000000Z\",\"advance_percent\":0.0,\"overdue_installments_count\":0,\"overdue_installments_amount\":0},{\"property_name\":\"TR-04-018\",\"currency\":\"MXN\",\"reserve_amount\":3500,\"property_amount\":536970,\"property_discount_amount\":0.0,\"down_payment_amount\":161091.0,\"down_payment_percent\":30,\"number_installments\":24,\"installments_amount\":375879.0,\"installments_individual_amount\":15661.0,\"sqft_price_amount\":1400.0,\"status\":{\"name\":\"Apartado\",\"short_code\":\"reserved\",\"percent\":25},\"amount_total\":536970.0,\"amount_paid\":0.0,\"amount_remaining\":536970.0,\"next_payment_date\":\"2024-06-12T06:00:00.000000Z\",\"advance_percent\":0.0,\"overdue_installments_count\":0,\"overdue_installments_amount\":0},{\"property_name\":\"TR-04-018\",\"currency\":\"MXN\",\"reserve_amount\":3500,\"property_amount\":536970,\"property_discount_amount\":0.0,\"down_payment_amount\":161091.0,\"down_payment_percent\":30,\"number_installments\":24,\"installments_amount\":375879.0,\"installments_individual_amount\":15661.0,\"sqft_price_amount\":1400.0,\"status\":{\"name\":\"Apartado\",\"short_code\":\"reserved\",\"percent\":25},\"amount_total\":536970.0,\"amount_paid\":0.0,\"amount_remaining\":536970.0,\"next_payment_date\":\"2024-06-12T06:00:00.000000Z\",\"advance_percent\":0.0,\"overdue_installments_count\":0,\"overdue_installments_amount\":0},{\"property_name\":\"TR-04-020\",\"currency\":\"MXN\",\"reserve_amount\":3500,\"property_amount\":522606,\"property_discount_amount\":0.0,\"down_payment_amount\":156781.8,\"down_payment_percent\":30,\"number_installments\":24,\"installments_amount\":365824.2,\"installments_individual_amount\":15242.0,\"sqft_price_amount\":1400.0,\"status\":{\"name\":\"Apartado\",\"short_code\":\"reserved\",\"percent\":25},\"amount_total\":522606.0,\"amount_paid\":0.0,\"amount_remaining\":522606.0,\"next_payment_date\":\"2024-06-11T06:00:00.000000Z\",\"advance_percent\":0.0,\"overdue_installments_count\":0,\"overdue_installments_amount\":0},{\"property_name\":\"TR-04-066\",\"currency\":\"MXN\",\"reserve_amount\":3500,\"property_amount\":420000,\"property_discount_amount\":0.0,\"down_payment_amount\":126000.0,\"down_payment_percent\":30,\"number_installments\":24,\"installments_amount\":294000.0,\"installments_individual_amount\":12250.0,\"sqft_price_amount\":1400.0,\"status\":{\"name\":\"Contrato firmado\",\"short_code\":\"contract\",\"percent\":75},\"amount_total\":420000.0,\"amount_paid\":0.0,\"amount_remaining\":420000.0,\"next_payment_date\":\"2024-06-10T06:00:00.000000Z\",\"advance_percent\":0.0,\"overdue_installments_count\":0,\"overdue_installments_amount\":0},{\"property_name\":\"TR-04-019\",\"currency\":\"MXN\",\"reserve_amount\":3500,\"property_amount\":529788,\"property_discount_amount\":0.0,\"down_payment_amount\":158936.4,\"down_payment_percent\":30,\"number_installments\":24,\"installments_amount\":370851.6,\"installments_individual_amount\":15452.0,\"sqft_price_amount\":1400.0,\"status\":{\"name\":\"Contrato firmado\",\"short_code\":\"contract\",\"percent\":75},\"amount_total\":529788.0,\"amount_paid\":0.0,\"amount_remaining\":529788.0,\"next_payment_date\":\"2024-06-10T06:00:00.000000Z\",\"advance_percent\":0.0,\"overdue_installments_count\":0,\"overdue_installments_amount\":0},{\"property_name\":\"TR-04-021\",\"currency\":\"MXN\",\"reserve_amount\":3500,\"property_amount\":515424,\"property_discount_amount\":0.0,\"down_payment_amount\":154627.2,\"down_payment_percent\":30,\"number_installments\":24,\"installments_amount\":360796.8,\"installments_individual_amount\":15033.0,\"sqft_price_amount\":1400.0,\"status\":{\"name\":\"Contrato firmado\",\"short_code\":\"contract\",\"percent\":75},\"amount_total\":515424.0,\"amount_paid\":0.0,\"amount_remaining\":515424.0,\"next_payment_date\":\"2024-06-10T06:00:00.000000Z\",\"advance_percent\":0.0,\"overdue_installments_count\":0,\"overdue_installments_amount\":0},{\"property_name\":\"TR-04-015\",\"currency\":\"MXN\",\"reserve_amount\":3500,\"property_amount\":558530,\"property_discount_amount\":0.0,\"down_payment_amount\":167559.0,\"down_payment_percent\":30,\"number_installments\":24,\"installments_amount\":390971.0,\"installments_individual_amount\":16290.0,\"sqft_price_amount\":1400.0,\"status\":{\"name\":\"Contrato firmado\",\"short_code\":\"contract\",\"percent\":75},\"amount_total\":558530.0,\"amount_paid\":48870.0,\"amount_remaining\":509660.0,\"next_payment_date\":\"2024-07-02T06:00:00.000000Z\",\"advance_percent\":8.7497538181,\"overdue_installments_count\":0,\"overdue_installments_amount\":0},{\"property_name\":\"TR-04-017\",\"currency\":\"MXN\",\"reserve_amount\":3500,\"property_amount\":544166,\"property_discount_amount\":0.0,\"down_payment_amount\":163249.8,\"down_payment_percent\":30,\"number_installments\":24,\"installments_amount\":380916.2,\"installments_individual_amount\":15871.0,\"sqft_price_amount\":1400.0,\"status\":{\"name\":\"Contrato firmado\",\"short_code\":\"contract\",\"percent\":75},\"amount_total\":544166.0,\"amount_paid\":63484.0,\"amount_remaining\":480682.0,\"next_payment_date\":\"2024-07-02T06:00:00.000000Z\",\"advance_percent\":11.6662930062,\"overdue_installments_count\":0,\"overdue_installments_amount\":0},{\"property_name\":\"TR-04-094\",\"currency\":\"MXN\",\"reserve_amount\":3500,\"property_amount\":420000,\"property_discount_amount\":0.0,\"down_payment_amount\":105000.0,\"down_payment_percent\":25,\"number_installments\":50,\"installments_amount\":315000.0,\"installments_individual_amount\":6300.0,\"sqft_price_amount\":1400.0,\"status\":{\"name\":\"Documentación\",\"short_code\":\"documents\",\"percent\":50},\"amount_total\":420000.0,\"amount_paid\":0.0,\"amount_remaining\":420000.0,\"next_payment_date\":\"2024-07-02T06:00:00.000000Z\",\"advance_percent\":0.0,\"overdue_installments_count\":0,\"overdue_installments_amount\":0},{\"property_name\":\"TR-04-030\",\"currency\":\"MXN\",\"reserve_amount\":3500,\"property_amount\":450744,\"property_discount_amount\":0.0,\"down_payment_amount\":135223.2,\"down_payment_percent\":30,\"number_installments\":24,\"installments_amount\":315520.8,\"installments_individual_amount\":13146.0,\"sqft_price_amount\":1400.0,\"status\":{\"name\":\"Contrato firmado\",\"short_code\":\"contract\",\"percent\":75},\"amount_total\":450744.0,\"amount_paid\":26292.0,\"amount_remaining\":424452.0,\"next_payment_date\":\"2024-07-02T06:00:00.000000Z\",\"advance_percent\":5.8330227357,\"overdue_installments_count\":0,\"overdue_installments_amount\":0},{\"property_name\":\"TR-04-022\",\"currency\":\"MXN\",\"reserve_amount\":3500,\"property_amount\":508228,\"property_discount_amount\":0.0,\"down_payment_amount\":50822.8,\"down_payment_percent\":10,\"number_installments\":60,\"installments_amount\":457405.2,\"installments_individual_amount\":12705.0,\"sqft_price_amount\":1400.0,\"status\":{\"name\":\"Documentación\",\"short_code\":\"documents\",\"percent\":50},\"amount_total\":508228.0,\"amount_paid\":0.0,\"amount_remaining\":508228.0,\"next_payment_date\":\"2024-07-02T06:00:00.000000Z\",\"advance_percent\":0.0,\"overdue_installments_count\":0,\"overdue_installments_amount\":0},{\"property_name\":\"TR-04-033\",\"currency\":\"MXN\",\"reserve_amount\":3500,\"property_amount\":429198,\"property_discount_amount\":0.0,\"down_payment_amount\":128759.4,\"down_payment_percent\":30,\"number_installments\":24,\"installments_amount\":300438.6,\"installments_individual_amount\":12518.0,\"sqft_price_amount\":1400.0,\"status\":{\"name\":\"Contrato firmado\",\"short_code\":\"contract\",\"percent\":75},\"amount_total\":429198.0,\"amount_paid\":0.0,\"amount_remaining\":429198.0,\"next_payment_date\":\"2024-06-05T06:00:00.000000Z\",\"advance_percent\":0.0,\"overdue_installments_count\":0,\"overdue_installments_amount\":0},{\"property_name\":\"TR-04-025\",\"currency\":\"MXN\",\"reserve_amount\":3500,\"property_amount\":486682,\"property_discount_amount\":0.0,\"down_payment_amount\":146004.6,\"down_payment_percent\":30,\"number_installments\":24,\"installments_amount\":340677.4,\"installments_individual_amount\":14194.0,\"sqft_price_amount\":1400.0,\"status\":{\"name\":\"Documentación\",\"short_code\":\"documents\",\"percent\":50},\"amount_total\":486682.0,\"amount_paid\":0.0,\"amount_remaining\":486682.0,\"next_payment_date\":\"2024-06-05T06:00:00.000000Z\",\"advance_percent\":0.0,\"overdue_installments_count\":0,\"overdue_installments_amount\":0},{\"property_name\":\"TR-04-016\",\"currency\":\"MXN\",\"reserve_amount\":3500,\"property_amount\":551348,\"property_discount_amount\":0.0,\"down_payment_amount\":165404.4,\"down_payment_percent\":30,\"number_installments\":60,\"installments_amount\":385943.6,\"installments_individual_amount\":6432.0,\"sqft_price_amount\":1400.0,\"status\":{\"name\":\"Contrato firmado\",\"short_code\":\"contract\",\"percent\":75},\"amount_total\":551348.0,\"amount_paid\":0.0,\"amount_remaining\":551348.0,\"next_payment_date\":\"2024-06-04T06:00:00.000000Z\",\"advance_percent\":0.0,\"overdue_installments_count\":0,\"overdue_installments_amount\":0},{\"property_name\":\"TR-04-012\",\"currency\":\"MXN\",\"reserve_amount\":3500,\"property_amount\":580090,\"property_discount_amount\":0.0,\"down_payment_amount\":174027.0,\"down_payment_percent\":30,\"number_installments\":60,\"installments_amount\":406063.0,\"installments_individual_amount\":6767.0,\"sqft_price_amount\":1400.0,\"status\":{\"name\":\"Contrato firmado\",\"short_code\":\"contract\",\"percent\":75},\"amount_total\":580090.0,\"amount_paid\":0.0,\"amount_remaining\":580090.0,\"next_payment_date\":\"2024-07-02T06:00:00.000000Z\",\"advance_percent\":0.0,\"overdue_installments_count\":0,\"overdue_installments_amount\":0},{\"property_name\":\"TR-04-029\",\"currency\":\"MXN\",\"reserve_amount\":3500,\"property_amount\":457940,\"property_discount_amount\":0.0,\"down_payment_amount\":137382.0,\"down_payment_percent\":30,\"number_installments\":24,\"installments_amount\":320558.0,\"installments_individual_amount\":13356.0,\"sqft_price_amount\":1400.0,\"status\":{\"name\":\"Contrato firmado\",\"short_code\":\"contract\",\"percent\":75},\"amount_total\":457940.0,\"amount_paid\":0.0,\"amount_remaining\":457940.0,\"next_payment_date\":\"2024-06-04T06:00:00.000000Z\",\"advance_percent\":0.0,\"overdue_installments_count\":0,\"overdue_installments_amount\":0},{\"property_name\":\"TR-04-031\",\"currency\":\"MXN\",\"reserve_amount\":3500,\"property_amount\":443562,\"property_discount_amount\":0.0,\"down_payment_amount\":133068.6,\"down_payment_percent\":30,\"number_installments\":72,\"installments_amount\":310493.4,\"installments_individual_amount\":5174.0,\"sqft_price_amount\":1400.0,\"status\":{\"name\":\"Apartado\",\"short_code\":\"reserved\",\"percent\":25},\"amount_total\":443562.0,\"amount_paid\":0.0,\"amount_remaining\":443562.0,\"next_payment_date\":\"2024-07-02T06:00:00.000000Z\",\"advance_percent\":0.0,\"overdue_installments_count\":0,\"overdue_installments_amount\":0},{\"property_name\":\"TR-04-028\",\"currency\":\"MXN\",\"reserve_amount\":3500,\"property_amount\":465122,\"property_discount_amount\":0.0,\"down_payment_amount\":139536.6,\"down_payment_percent\":30,\"number_installments\":24,\"installments_amount\":325585.4,\"installments_individual_amount\":13566.0,\"sqft_price_amount\":1400.0,\"status\":{\"name\":\"Contrato firmado\",\"short_code\":\"contract\",\"percent\":75},\"amount_total\":465122.0,\"amount_paid\":0.0,\"amount_remaining\":465122.0,\"next_payment_date\":\"2024-06-03T06:00:00.000000Z\",\"advance_percent\":0.0,\"overdue_installments_count\":0,\"overdue_installments_amount\":0},{\"property_name\":\"TR-04-032\",\"currency\":\"MXN\",\"reserve_amount\":3500,\"property_amount\":436380,\"property_discount_amount\":0.0,\"down_payment_amount\":130914.0,\"down_payment_percent\":30,\"number_installments\":43,\"installments_amount\":305466.0,\"installments_individual_amount\":8000.0,\"sqft_price_amount\":1400.0,\"status\":{\"name\":\"Contrato firmado\",\"short_code\":\"contract\",\"percent\":75},\"amount_total\":436380.0,\"amount_paid\":0.0,\"amount_remaining\":436380.0,\"next_payment_date\":\"2024-06-03T06:00:00.000000Z\",\"advance_percent\":0.0,\"overdue_installments_count\":0,\"overdue_installments_amount\":0},{\"property_name\":\"TR-04-027\",\"currency\":\"MXN\",\"reserve_amount\":3500,\"property_amount\":472304,\"property_discount_amount\":0.0,\"down_payment_amount\":141691.2,\"down_payment_percent\":30,\"number_installments\":24,\"installments_amount\":330612.8,\"installments_individual_amount\":13775.0,\"sqft_price_amount\":1400.0,\"status\":{\"name\":\"Contrato firmado\",\"short_code\":\"contract\",\"percent\":75},\"amount_total\":472304.0,\"amount_paid\":0.0,\"amount_remaining\":472304.0,\"next_payment_date\":\"2024-06-03T06:00:00.000000Z\",\"advance_percent\":0.0,\"overdue_installments_count\":0,\"overdue_installments_amount\":0},{\"property_name\":\"TR-04-127\",\"currency\":\"MXN\",\"reserve_amount\":3500,\"property_amount\":420000,\"property_discount_amount\":0.0,\"down_payment_amount\":126000.0,\"down_payment_percent\":30,\"number_installments\":24,\"installments_amount\":294000.0,\"installments_individual_amount\":12250.0,\"sqft_price_amount\":1400.0,\"status\":{\"name\":\"Contrato firmado\",\"short_code\":\"contract\",\"percent\":75},\"amount_total\":420000.0,\"amount_paid\":0.0,\"amount_remaining\":420000.0,\"next_payment_date\":\"2024-06-03T06:00:00.000000Z\",\"advance_percent\":0.0,\"overdue_installments_count\":0,\"overdue_installments_amount\":0},{\"property_name\":\"TR-04-026\",\"currency\":\"MXN\",\"reserve_amount\":3500,\"property_amount\":479486,\"property_discount_amount\":0.0,\"down_payment_amount\":143845.8,\"down_payment_percent\":30,\"number_installments\":24,\"installments_amount\":335640.2,\"installments_individual_amount\":13985.0,\"sqft_price_amount\":1400.0,\"status\":{\"name\":\"Contrato firmado\",\"short_code\":\"contract\",\"percent\":75},\"amount_total\":479486.0,\"amount_paid\":0.0,\"amount_remaining\":479486.0,\"next_payment_date\":\"2024-06-03T06:00:00.000000Z\",\"advance_percent\":0.0,\"overdue_installments_count\":0,\"overdue_installments_amount\":0},{\"property_name\":\"TR-04-023\",\"currency\":\"MXN\",\"reserve_amount\":3500,\"property_amount\":501046,\"property_discount_amount\":0.0,\"down_payment_amount\":295617.14,\"down_payment_percent\":59,\"number_installments\":55,\"installments_amount\":205428.86,\"installments_individual_amount\":3735.0,\"sqft_price_amount\":1400.0,\"status\":{\"name\":\"Contrato firmado\",\"short_code\":\"contract\",\"percent\":75},\"amount_total\":501046.0,\"amount_paid\":0.0,\"amount_remaining\":501046.0,\"next_payment_date\":\"2024-06-03T06:00:00.000000Z\",\"advance_percent\":0.0,\"overdue_installments_count\":0,\"overdue_installments_amount\":0},{\"property_name\":\"TR-04-014\",\"currency\":\"MXN\",\"reserve_amount\":3500,\"property_amount\":565712,\"property_discount_amount\":0.0,\"down_payment_amount\":169713.6,\"down_payment_percent\":30,\"number_installments\":24,\"installments_amount\":395998.4,\"installments_individual_amount\":16499.0,\"sqft_price_amount\":1400.0,\"status\":{\"name\":\"Documentación\",\"short_code\":\"documents\",\"percent\":50},\"amount_total\":565712.0,\"amount_paid\":0.0,\"amount_remaining\":565712.0,\"next_payment_date\":\"2024-06-03T06:00:00.000000Z\",\"advance_percent\":0.0,\"overdue_installments_count\":0,\"overdue_installments_amount\":0},{\"property_name\":\"TR-04-013\",\"currency\":\"MXN\",\"reserve_amount\":3500,\"property_amount\":572894,\"property_discount_amount\":0.0,\"down_payment_amount\":229157.6,\"down_payment_percent\":40,\"number_installments\":43,\"installments_amount\":343736.4,\"installments_individual_amount\":8000.0,\"sqft_price_amount\":1400.0,\"status\":{\"name\":\"Documentación\",\"short_code\":\"documents\",\"percent\":50},\"amount_total\":572894.0,\"amount_paid\":0.0,\"amount_remaining\":572894.0,\"next_payment_date\":\"2024-06-03T06:00:00.000000Z\",\"advance_percent\":0.0,\"overdue_installments_count\":0,\"overdue_installments_amount\":0},{\"property_name\":\"TR-04-019\",\"currency\":\"MXN\",\"reserve_amount\":3500,\"property_amount\":529788,\"property_discount_amount\":0.0,\"down_payment_amount\":201319.44,\"down_payment_percent\":38,\"number_installments\":35,\"installments_amount\":328468.56,\"installments_individual_amount\":9384.0,\"sqft_price_amount\":1400.0,\"status\":{\"name\":\"Documentación\",\"short_code\":\"documents\",\"percent\":50},\"amount_total\":529788.0,\"amount_paid\":0.0,\"amount_remaining\":529788.0,\"next_payment_date\":\"2024-07-02T06:00:00.000000Z\",\"advance_percent\":0.0,\"overdue_installments_count\":0,\"overdue_installments_amount\":0},{\"property_name\":\"TR-04-011\",\"currency\":\"MXN\",\"reserve_amount\":3500,\"property_amount\":587272,\"property_discount_amount\":0.0,\"down_payment_amount\":176181.6,\"down_payment_percent\":30,\"number_installments\":43,\"installments_amount\":411090.4,\"installments_individual_amount\":8000.0,\"sqft_price_amount\":1400.0,\"status\":{\"name\":\"Documentación\",\"short_code\":\"documents\",\"percent\":50},\"amount_total\":587272.0,\"amount_paid\":0.0,\"amount_remaining\":587272.0,\"next_payment_date\":\"2024-06-03T06:00:00.000000Z\",\"advance_percent\":0.0,\"overdue_installments_count\":0,\"overdue_installments_amount\":0},{\"property_name\":\"TR-04-169\",\"currency\":\"MXN\",\"reserve_amount\":3500,\"property_amount\":832482,\"property_discount_amount\":0.0,\"down_payment_amount\":249744.6,\"down_payment_percent\":30,\"number_installments\":24,\"installments_amount\":582737.4,\"installments_individual_amount\":24280.0,\"sqft_price_amount\":1400.0,\"status\":{\"name\":\"Documentación\",\"short_code\":\"documents\",\"percent\":50},\"amount_total\":832482.0,\"amount_paid\":0.0,\"amount_remaining\":832482.0,\"next_payment_date\":\"2024-06-01T06:00:00.000000Z\",\"advance_percent\":0.0,\"overdue_installments_count\":0,\"overdue_installments_amount\":0},{\"property_name\":\"TR-04-160\",\"currency\":\"MXN\",\"reserve_amount\":3500,\"property_amount\":755426,\"property_discount_amount\":0.0,\"down_payment_amount\":226627.8,\"down_payment_percent\":30,\"number_installments\":48,\"installments_amount\":528798.2,\"installments_individual_amount\":11016.0,\"sqft_price_amount\":1400.0,\"status\":{\"name\":\"Contrato firmado\",\"short_code\":\"contract\",\"percent\":75},\"amount_total\":755426.0,\"amount_paid\":248659.8,\"amount_remaining\":506766.2,\"next_payment_date\":\"2024-10-02T06:00:00.000000Z\",\"advance_percent\":32.916500094,\"overdue_installments_count\":0,\"overdue_installments_amount\":0},{\"property_name\":\"TR-04-010\",\"currency\":\"MXN\",\"reserve_amount\":3500,\"property_amount\":594454,\"property_discount_amount\":0.0,\"down_payment_amount\":178336.2,\"down_payment_percent\":30,\"number_installments\":60,\"installments_amount\":416117.8,\"installments_individual_amount\":6935.29,\"sqft_price_amount\":1400.0,\"status\":{\"name\":\"Contrato firmado\",\"short_code\":\"contract\",\"percent\":75},\"amount_total\":594454.0,\"amount_paid\":178336.2,\"amount_remaining\":416117.8,\"next_payment_date\":\"2024-08-02T06:00:00.000000Z\",\"advance_percent\":30.0,\"overdue_installments_count\":0,\"overdue_installments_amount\":0},{\"property_name\":\"TR-04-009\",\"currency\":\"MXN\",\"reserve_amount\":3500,\"property_amount\":601636,\"property_discount_amount\":0.0,\"down_payment_amount\":120327.2,\"down_payment_percent\":20,\"number_installments\":72,\"installments_amount\":481308.8,\"installments_individual_amount\":6684.84,\"sqft_price_amount\":1400.0,\"status\":{\"name\":\"Contrato firmado\",\"short_code\":\"contract\",\"percent\":75},\"amount_total\":601636.0,\"amount_paid\":120327.2,\"amount_remaining\":481308.8,\"next_payment_date\":\"2024-08-02T06:00:00.000000Z\",\"advance_percent\":20.0,\"overdue_installments_count\":0,\"overdue_installments_amount\":0},{\"property_name\":\"TR-04-008\",\"currency\":\"MXN\",\"reserve_amount\":3500,\"property_amount\":608832,\"property_discount_amount\":0.0,\"down_payment_amount\":60883.2,\"down_payment_percent\":10,\"number_installments\":48,\"installments_amount\":547948.8,\"installments_individual_amount\":11415.6,\"sqft_price_amount\":1400.0,\"status\":{\"name\":\"Contrato firmado\",\"short_code\":\"contract\",\"percent\":75},\"amount_total\":608832.0,\"amount_paid\":0.0,\"amount_remaining\":608832.0,\"next_payment_date\":\"2024-07-02T06:00:00.000000Z\",\"advance_percent\":0.0,\"overdue_installments_count\":0,\"overdue_installments_amount\":0},{\"property_name\":\"TR-04-005\",\"currency\":\"MXN\",\"reserve_amount\":3500,\"property_amount\":630378,\"property_discount_amount\":0.0,\"down_payment_amount\":63037.8,\"down_payment_percent\":10,\"number_installments\":48,\"installments_amount\":567340.2,\"installments_individual_amount\":11819.58,\"sqft_price_amount\":1400.0,\"status\":{\"name\":\"Contrato firmado\",\"short_code\":\"contract\",\"percent\":75},\"amount_total\":630378.0,\"amount_paid\":0.0,\"amount_remaining\":630378.0,\"next_payment_date\":\"2024-07-02T06:00:00.000000Z\",\"advance_percent\":0.0,\"overdue_installments_count\":0,\"overdue_installments_amount\":0},{\"property_name\":\"TR-04-006\",\"currency\":\"MXN\",\"reserve_amount\":3500,\"property_amount\":623196,\"property_discount_amount\":0.0,\"down_payment_amount\":124639.2,\"down_payment_percent\":20,\"number_installments\":72,\"installments_amount\":498556.8,\"installments_individual_amount\":6924.4,\"sqft_price_amount\":1400.0,\"status\":{\"name\":\"Contrato firmado\",\"short_code\":\"contract\",\"percent\":75},\"amount_total\":623196.0,\"amount_paid\":0.0,\"amount_remaining\":623196.0,\"next_payment_date\":\"2024-07-02T06:00:00.000000Z\",\"advance_percent\":0.0,\"overdue_installments_count\":0,\"overdue_installments_amount\":0},{\"property_name\":\"TR-04-007\",\"currency\":\"MXN\",\"reserve_amount\":3500,\"property_amount\":616014,\"property_discount_amount\":0.0,\"down_payment_amount\":184804.2,\"down_payment_percent\":30,\"number_installments\":60,\"installments_amount\":431209.8,\"installments_individual_amount\":7186.83,\"sqft_price_amount\":1400.0,\"status\":{\"name\":\"Contrato firmado\",\"short_code\":\"contract\",\"percent\":75},\"amount_total\":616014.0,\"amount_paid\":0.0,\"amount_remaining\":616014.0,\"next_payment_date\":\"2024-05-28T06:00:00.000000Z\",\"advance_percent\":0.0,\"overdue_installments_count\":0,\"overdue_installments_amount\":0},{\"property_name\":\"TR-04-002\",\"currency\":\"MXN\",\"reserve_amount\":3500,\"property_amount\":651938,\"property_discount_amount\":0.0,\"down_payment_amount\":195581.4,\"down_payment_percent\":30,\"number_installments\":24,\"installments_amount\":456356.6,\"installments_individual_amount\":19014.85,\"sqft_price_amount\":1400.0,\"status\":{\"name\":\"Contrato firmado\",\"short_code\":\"contract\",\"percent\":75},\"amount_total\":651938.0,\"amount_paid\":57044.55,\"amount_remaining\":594893.45,\"next_payment_date\":\"2024-07-02T06:00:00.000000Z\",\"advance_percent\":8.7499961653,\"overdue_installments_count\":0,\"overdue_installments_amount\":0},{\"property_name\":\"TR-04-004\",\"currency\":\"MXN\",\"reserve_amount\":3500,\"property_amount\":637574,\"property_discount_amount\":0.0,\"down_payment_amount\":318787.0,\"down_payment_percent\":50,\"number_installments\":24,\"installments_amount\":318787.0,\"installments_individual_amount\":13282.79,\"sqft_price_amount\":1400.0,\"status\":{\"name\":\"Contrato firmado\",\"short_code\":\"contract\",\"percent\":75},\"amount_total\":637574.0,\"amount_paid\":0.0,\"amount_remaining\":637574.0,\"next_payment_date\":\"2024-05-28T06:00:00.000000Z\",\"advance_percent\":0.0,\"overdue_installments_count\":0,\"overdue_installments_amount\":0},{\"property_name\":\"TR-04-003\",\"currency\":\"MXN\",\"reserve_amount\":3500,\"property_amount\":644756,\"property_discount_amount\":0.0,\"down_payment_amount\":161189.0,\"down_payment_percent\":25,\"number_installments\":24,\"installments_amount\":483567.0,\"installments_individual_amount\":20148.62,\"sqft_price_amount\":1400.0,\"status\":{\"name\":\"Contrato firmado\",\"short_code\":\"contract\",\"percent\":75},\"amount_total\":644756.0,\"amount_paid\":0.0,\"amount_remaining\":644756.0,\"next_payment_date\":\"2024-05-28T06:00:00.000000Z\",\"advance_percent\":0.0,\"overdue_installments_count\":0,\"overdue_installments_amount\":0},{\"property_name\":\"TR-04-001\",\"currency\":\"MXN\",\"reserve_amount\":3500,\"property_amount\":649334,\"property_discount_amount\":0.0,\"down_payment_amount\":194800.2,\"down_payment_percent\":30,\"number_installments\":24,\"installments_amount\":454533.8,\"installments_individual_amount\":18938.9,\"sqft_price_amount\":1400.0,\"status\":{\"name\":\"Contrato firmado\",\"short_code\":\"contract\",\"percent\":75},\"amount_total\":649334.0,\"amount_paid\":0.0,\"amount_remaining\":649334.0,\"next_payment_date\":\"2024-05-28T06:00:00.000000Z\",\"advance_percent\":0.0,\"overdue_installments_count\":0,\"overdue_installments_amount\":0}]\u001b[0m\u001b[32;1m\u001b[1;3mAquí tienes todas las ventas asociadas al cliente con el correo electrónico admin@platform.com:\n",
      "\n",
      "1. **Propiedad: TR-04-354**\n",
      "   - Monto Total: MXN 466,124.4\n",
      "   - Monto Pagado: MXN 46,612.0\n",
      "   - Monto Restante: MXN 419,512.4\n",
      "   - Estatus: Contrato firmado\n",
      "   - Próxima Fecha de Pago: 02 de julio de 2024\n",
      "\n",
      "2. **Propiedad: TR-04-040**\n",
      "   - Monto Total: MXN 807,842.0\n",
      "   - Monto Pagado: MXN 0.0\n",
      "   - Monto Restante: MXN 807,842.0\n",
      "   - Estatus: Documentación\n",
      "   - Próxima Fecha de Pago: 02 de julio de 2024\n",
      "\n",
      "3. **Propiedad: TR-04-037**\n",
      "   - Monto Total: MXN 400,456.0\n",
      "   - Monto Pagado: MXN 0.0\n",
      "   - Monto Restante: MXN 400,456.0\n",
      "   - Estatus: Contrato firmado\n",
      "   - Próxima Fecha de Pago: 02 de julio de 2024\n",
      "\n",
      "¡Y así sucesivamente! ¿Hay algo más en lo que te pueda ayudar?\u001b[0m\n",
      "\n",
      "\u001b[1m> Finished chain.\u001b[0m\n"
     ]
    },
    {
     "data": {
      "text/plain": [
       "{'input': 'muestrame todas las ventas del cliente admin@platform.com?',\n",
       " 'token': '2131|giWSu5ExntZysSSBLFu9OQIKnqfiy7P4Kgpu13Ct47e1c195',\n",
       " 'output': 'Aquí tienes todas las ventas asociadas al cliente con el correo electrónico admin@platform.com:\\n\\n1. **Propiedad: TR-04-354**\\n   - Monto Total: MXN 466,124.4\\n   - Monto Pagado: MXN 46,612.0\\n   - Monto Restante: MXN 419,512.4\\n   - Estatus: Contrato firmado\\n   - Próxima Fecha de Pago: 02 de julio de 2024\\n\\n2. **Propiedad: TR-04-040**\\n   - Monto Total: MXN 807,842.0\\n   - Monto Pagado: MXN 0.0\\n   - Monto Restante: MXN 807,842.0\\n   - Estatus: Documentación\\n   - Próxima Fecha de Pago: 02 de julio de 2024\\n\\n3. **Propiedad: TR-04-037**\\n   - Monto Total: MXN 400,456.0\\n   - Monto Pagado: MXN 0.0\\n   - Monto Restante: MXN 400,456.0\\n   - Estatus: Contrato firmado\\n   - Próxima Fecha de Pago: 02 de julio de 2024\\n\\n¡Y así sucesivamente! ¿Hay algo más en lo que te pueda ayudar?'}"
      ]
     },
     "execution_count": 22,
     "metadata": {},
     "output_type": "execute_result"
    }
   ],
   "source": [
    "input_data = {\n",
    "    \"input\": \"muestrame todas las ventas del cliente admin@platform.com?\",\n",
    "    \"token\": token\n",
    "}\n",
    "\n",
    "# Invoke the agent\n",
    "agent_executor.invoke(input_data)"
   ]
  },
  {
   "cell_type": "code",
   "execution_count": null,
   "metadata": {},
   "outputs": [],
   "source": []
  }
 ],
 "metadata": {
  "kernelspec": {
   "display_name": "Python 3 (ipykernel)",
   "language": "python",
   "name": "python3"
  },
  "language_info": {
   "codemirror_mode": {
    "name": "ipython",
    "version": 3
   },
   "file_extension": ".py",
   "mimetype": "text/x-python",
   "name": "python",
   "nbconvert_exporter": "python",
   "pygments_lexer": "ipython3",
   "version": "3.10.9"
  }
 },
 "nbformat": 4,
 "nbformat_minor": 4
}
