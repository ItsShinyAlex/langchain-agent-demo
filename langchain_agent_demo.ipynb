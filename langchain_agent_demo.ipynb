{
 "cells": [
  {
   "cell_type": "code",
   "execution_count": 8,
   "metadata": {},
   "outputs": [],
   "source": [
    "import os\n",
    "from dotenv import load_dotenv\n",
    "from sqlalchemy import create_engine, text\n",
    "import pandas as pd\n",
    "from langchain_core.prompts import ChatPromptTemplate\n",
    "from langchain_core.tools import tool\n",
    "from langchain.agents import create_tool_calling_agent, AgentExecutor\n",
    "from langchain_openai import ChatOpenAI\n",
    "import json\n",
    "import requests\n",
    "\n",
    "# Load environment variables from the .env file\n",
    "load_dotenv()\n",
    "\n",
    "# Database file path\n",
    "database_file_path = \"./db/test.db\"\n",
    "\n",
    "# Create the SQLAlchemy engine\n",
    "engine = create_engine(f'sqlite:///{database_file_path}')\n",
    "\n",
    "@tool\n",
    "def calculate_price(product_list: list) -> float:\n",
    "    \"\"\"\n",
    "    Calculates the total price of a list of products.\n",
    "\n",
    "    Args:\n",
    "        product_list (list): A list of dictionaries representing products.\n",
    "        \n",
    "    Returns:\n",
    "        float: The total price of the products.\n",
    "    \"\"\"\n",
    "    total_price = sum(product['price'] for product in product_list)\n",
    "    return total_price\n",
    "\n",
    "@tool\n",
    "def get_product_price(product_name: str) -> str:\n",
    "    \"\"\"\n",
    "    Retrieves the price of a specific product.\n",
    "\n",
    "    Args:\n",
    "        product_name (str): The name of the product.\n",
    "        \n",
    "    Returns:\n",
    "        str: The price of the product in JSON format.\n",
    "    \"\"\"\n",
    "    try:\n",
    "        query = text(\"\"\"\n",
    "            SELECT name, price\n",
    "            FROM Product\n",
    "            WHERE name LIKE :product_name;\n",
    "        \"\"\")\n",
    "\n",
    "        with engine.connect() as connection:\n",
    "            result = pd.read_sql_query(query, connection, params={\"product_name\": f\"%{product_name}%\"})\n",
    "        \n",
    "        if not result.empty:\n",
    "            return json.dumps(result.to_dict('records')[0])\n",
    "        else:\n",
    "            return json.dumps({\"product_name\": product_name, \"price\": None})\n",
    "    except Exception as e:\n",
    "        return json.dumps({\"error\": str(e)})\n",
    "\n",
    "@tool\n",
    "def get_products_available() -> str:\n",
    "    \"\"\"\n",
    "    Retrieves the list of products that are available.\n",
    "\n",
    "    Returns:\n",
    "        str: A list of available products in JSON format.\n",
    "    \"\"\"\n",
    "    try: \n",
    "        query = text(\"\"\"\n",
    "            SELECT name, price\n",
    "            FROM Product\n",
    "            WHERE available = 1;\n",
    "        \"\"\")\n",
    "\n",
    "        with engine.connect() as connection:\n",
    "            result = pd.read_sql_query(query, connection)\n",
    "        \n",
    "        if not result.empty:\n",
    "            return json.dumps(result.to_dict('records'))\n",
    "        else:\n",
    "            return json.dumps({\"available_products\": []})\n",
    "    except Exception as e:\n",
    "        return json.dumps({\"error\": str(e)})\n",
    "\n",
    "# Define the prompt template\n",
    "prompt = ChatPromptTemplate.from_messages([\n",
    "    (\"system\", \"you're a helpful assistant\"),\n",
    "    (\"human\", \"{input}\"),\n",
    "    (\"placeholder\", \"{agent_scratchpad}\"),\n",
    "])\n",
    "\n",
    "# Define the tools\n",
    "tools_sql = [get_product_price, get_products_available, calculate_price]\n",
    "\n",
    "# Get the API key from environment variables\n",
    "api_key = os.getenv('OPENAI_API_KEY')\n",
    "llm = ChatOpenAI(model=\"gpt-3.5-turbo\", api_key=api_key)\n",
    "\n",
    "# Create the agent\n",
    "agent = create_tool_calling_agent(llm, tools_sql, prompt)\n",
    "agent_executor = AgentExecutor(agent=agent, tools=tools_sql, verbose=True)\n",
    "\n",
    "# Example usage\n",
    "# agent_executor.invoke({\"input\": \"What is the total cost for a portable charger and a keyboard?\"})\n"
   ]
  },
  {
   "cell_type": "markdown",
   "metadata": {},
   "source": [
    "## Tools / API calls"
   ]
  },
  {
   "cell_type": "code",
   "execution_count": 39,
   "metadata": {},
   "outputs": [],
   "source": [
    "baseURL = 'https://dashboard.colorines.paitesting.com/api'\n",
    "base_url = 'https://dashboard.colorines.paitesting.com/api'"
   ]
  },
  {
   "cell_type": "markdown",
   "metadata": {},
   "source": [
    "### Token"
   ]
  },
  {
   "cell_type": "code",
   "execution_count": 17,
   "metadata": {},
   "outputs": [
    {
     "name": "stdout",
     "output_type": "stream",
     "text": [
      "<Response [200]>\n",
      "Token: 1850|H9OzmsWezfLR9ylNncWlmncGpd0Y16SeUGM0uDZg891c7ee3\n"
     ]
    }
   ],
   "source": [
    "# Set the URL for the token API\n",
    "url_token = baseURL+\"/v1/token\"\n",
    "\n",
    "# Set the data for the POST request\n",
    "data = {\n",
    "    \"email\": \"sale@platform.com\",\n",
    "    \"password\": os.getenv('CONSULTANT_PASSWORD'),\n",
    "    \"device_name\": \"colorina_2\",\n",
    "    \"role\": \"consultant\"\n",
    "}\n",
    "\n",
    "# Send a POST request\n",
    "response = requests.post(url_token, json=data)\n",
    "\n",
    "print(response)\n",
    "\n",
    "# Extract the token from the response\n",
    "token = response.json().get('data').get('token')\n",
    "\n",
    "print(\"Token:\", token)\n"
   ]
  },
  {
   "cell_type": "code",
   "execution_count": 19,
   "metadata": {},
   "outputs": [
    {
     "name": "stdout",
     "output_type": "stream",
     "text": [
      "Stored 'token' (str)\n"
     ]
    }
   ],
   "source": [
    "%store token"
   ]
  },
  {
   "cell_type": "code",
   "execution_count": 53,
   "metadata": {},
   "outputs": [
    {
     "data": {
      "text/plain": [
       "'1850|H9OzmsWezfLR9ylNncWlmncGpd0Y16SeUGM0uDZg891c7ee3'"
      ]
     },
     "execution_count": 53,
     "metadata": {},
     "output_type": "execute_result"
    }
   ],
   "source": [
    "token"
   ]
  },
  {
   "cell_type": "markdown",
   "metadata": {},
   "source": [
    "## Sales"
   ]
  },
  {
   "cell_type": "code",
   "execution_count": 54,
   "metadata": {},
   "outputs": [
    {
     "name": "stdout",
     "output_type": "stream",
     "text": [
      "<Response [200]>\n",
      "Error parsing JSON\n"
     ]
    }
   ],
   "source": [
    "def get_sales(base_url: str, token: str):\n",
    "    \"\"\"\n",
    "    Fetches a list of sales from the specified API endpoint.\n",
    "\n",
    "    Args:\n",
    "    - base_url (str): The base URL of the API.\n",
    "    - token (str): The authorization token required to access the API.\n",
    "\n",
    "    Returns:\n",
    "    - str: The JSON response from the API as a string.\n",
    "    \"\"\"\n",
    "    headers = {\"Authorization\": f\"Bearer {token}\"}\n",
    "    url_list_sales = f\"{base_url}/v1/sales\"\n",
    "    response = requests.get(url_list_sales, headers=headers)\n",
    "    print(response)\n",
    "    # Check if the response was successful\n",
    "    if response.status_code == 200:\n",
    "        try:\n",
    "            return response.json()  # Try to parse JSON if the status code is 200\n",
    "        except ValueError:  # Catch JSON errors\n",
    "            return \"Error parsing JSON\"\n",
    "    else:\n",
    "        return f\"Error: Received status code {response.status_code}\"\n",
    "\n",
    "# Example usage:\n",
    "# token = 'your_actual_token_here'\n",
    "# base_url = 'https://api.yourdomain.com'\n",
    "sales_data = get_sales(base_url, token)\n",
    "print(sales_data)\n"
   ]
  },
  {
   "cell_type": "code",
   "execution_count": 51,
   "metadata": {},
   "outputs": [
    {
     "ename": "JSONDecodeError",
     "evalue": "Expecting value: line 1 column 1 (char 0)",
     "output_type": "error",
     "traceback": [
      "\u001b[0;31m---------------------------------------------------------------------------\u001b[0m",
      "\u001b[0;31mJSONDecodeError\u001b[0m                           Traceback (most recent call last)",
      "File \u001b[0;32m~/anaconda3/lib/python3.10/site-packages/requests/models.py:974\u001b[0m, in \u001b[0;36mResponse.json\u001b[0;34m(self, **kwargs)\u001b[0m\n\u001b[1;32m    973\u001b[0m \u001b[38;5;28;01mtry\u001b[39;00m:\n\u001b[0;32m--> 974\u001b[0m     \u001b[38;5;28;01mreturn\u001b[39;00m \u001b[43mcomplexjson\u001b[49m\u001b[38;5;241;43m.\u001b[39;49m\u001b[43mloads\u001b[49m\u001b[43m(\u001b[49m\u001b[38;5;28;43mself\u001b[39;49m\u001b[38;5;241;43m.\u001b[39;49m\u001b[43mtext\u001b[49m\u001b[43m,\u001b[49m\u001b[43m \u001b[49m\u001b[38;5;241;43m*\u001b[39;49m\u001b[38;5;241;43m*\u001b[39;49m\u001b[43mkwargs\u001b[49m\u001b[43m)\u001b[49m\n\u001b[1;32m    975\u001b[0m \u001b[38;5;28;01mexcept\u001b[39;00m JSONDecodeError \u001b[38;5;28;01mas\u001b[39;00m e:\n\u001b[1;32m    976\u001b[0m     \u001b[38;5;66;03m# Catch JSON-related errors and raise as requests.JSONDecodeError\u001b[39;00m\n\u001b[1;32m    977\u001b[0m     \u001b[38;5;66;03m# This aliases json.JSONDecodeError and simplejson.JSONDecodeError\u001b[39;00m\n",
      "File \u001b[0;32m~/anaconda3/lib/python3.10/site-packages/simplejson/__init__.py:514\u001b[0m, in \u001b[0;36mloads\u001b[0;34m(s, encoding, cls, object_hook, parse_float, parse_int, parse_constant, object_pairs_hook, use_decimal, allow_nan, **kw)\u001b[0m\n\u001b[1;32m    510\u001b[0m \u001b[38;5;28;01mif\u001b[39;00m (\u001b[38;5;28mcls\u001b[39m \u001b[38;5;129;01mis\u001b[39;00m \u001b[38;5;28;01mNone\u001b[39;00m \u001b[38;5;129;01mand\u001b[39;00m encoding \u001b[38;5;129;01mis\u001b[39;00m \u001b[38;5;28;01mNone\u001b[39;00m \u001b[38;5;129;01mand\u001b[39;00m object_hook \u001b[38;5;129;01mis\u001b[39;00m \u001b[38;5;28;01mNone\u001b[39;00m \u001b[38;5;129;01mand\u001b[39;00m\n\u001b[1;32m    511\u001b[0m         parse_int \u001b[38;5;129;01mis\u001b[39;00m \u001b[38;5;28;01mNone\u001b[39;00m \u001b[38;5;129;01mand\u001b[39;00m parse_float \u001b[38;5;129;01mis\u001b[39;00m \u001b[38;5;28;01mNone\u001b[39;00m \u001b[38;5;129;01mand\u001b[39;00m\n\u001b[1;32m    512\u001b[0m         parse_constant \u001b[38;5;129;01mis\u001b[39;00m \u001b[38;5;28;01mNone\u001b[39;00m \u001b[38;5;129;01mand\u001b[39;00m object_pairs_hook \u001b[38;5;129;01mis\u001b[39;00m \u001b[38;5;28;01mNone\u001b[39;00m\n\u001b[1;32m    513\u001b[0m         \u001b[38;5;129;01mand\u001b[39;00m \u001b[38;5;129;01mnot\u001b[39;00m use_decimal \u001b[38;5;129;01mand\u001b[39;00m \u001b[38;5;129;01mnot\u001b[39;00m allow_nan \u001b[38;5;129;01mand\u001b[39;00m \u001b[38;5;129;01mnot\u001b[39;00m kw):\n\u001b[0;32m--> 514\u001b[0m     \u001b[38;5;28;01mreturn\u001b[39;00m \u001b[43m_default_decoder\u001b[49m\u001b[38;5;241;43m.\u001b[39;49m\u001b[43mdecode\u001b[49m\u001b[43m(\u001b[49m\u001b[43ms\u001b[49m\u001b[43m)\u001b[49m\n\u001b[1;32m    515\u001b[0m \u001b[38;5;28;01mif\u001b[39;00m \u001b[38;5;28mcls\u001b[39m \u001b[38;5;129;01mis\u001b[39;00m \u001b[38;5;28;01mNone\u001b[39;00m:\n",
      "File \u001b[0;32m~/anaconda3/lib/python3.10/site-packages/simplejson/decoder.py:386\u001b[0m, in \u001b[0;36mJSONDecoder.decode\u001b[0;34m(self, s, _w, _PY3)\u001b[0m\n\u001b[1;32m    385\u001b[0m     s \u001b[38;5;241m=\u001b[39m \u001b[38;5;28mstr\u001b[39m(s, \u001b[38;5;28mself\u001b[39m\u001b[38;5;241m.\u001b[39mencoding)\n\u001b[0;32m--> 386\u001b[0m obj, end \u001b[38;5;241m=\u001b[39m \u001b[38;5;28;43mself\u001b[39;49m\u001b[38;5;241;43m.\u001b[39;49m\u001b[43mraw_decode\u001b[49m\u001b[43m(\u001b[49m\u001b[43ms\u001b[49m\u001b[43m)\u001b[49m\n\u001b[1;32m    387\u001b[0m end \u001b[38;5;241m=\u001b[39m _w(s, end)\u001b[38;5;241m.\u001b[39mend()\n",
      "File \u001b[0;32m~/anaconda3/lib/python3.10/site-packages/simplejson/decoder.py:416\u001b[0m, in \u001b[0;36mJSONDecoder.raw_decode\u001b[0;34m(self, s, idx, _w, _PY3)\u001b[0m\n\u001b[1;32m    415\u001b[0m         idx \u001b[38;5;241m+\u001b[39m\u001b[38;5;241m=\u001b[39m \u001b[38;5;241m3\u001b[39m\n\u001b[0;32m--> 416\u001b[0m \u001b[38;5;28;01mreturn\u001b[39;00m \u001b[38;5;28;43mself\u001b[39;49m\u001b[38;5;241;43m.\u001b[39;49m\u001b[43mscan_once\u001b[49m\u001b[43m(\u001b[49m\u001b[43ms\u001b[49m\u001b[43m,\u001b[49m\u001b[43m \u001b[49m\u001b[43midx\u001b[49m\u001b[38;5;241;43m=\u001b[39;49m\u001b[43m_w\u001b[49m\u001b[43m(\u001b[49m\u001b[43ms\u001b[49m\u001b[43m,\u001b[49m\u001b[43m \u001b[49m\u001b[43midx\u001b[49m\u001b[43m)\u001b[49m\u001b[38;5;241;43m.\u001b[39;49m\u001b[43mend\u001b[49m\u001b[43m(\u001b[49m\u001b[43m)\u001b[49m\u001b[43m)\u001b[49m\n",
      "\u001b[0;31mJSONDecodeError\u001b[0m: Expecting value: line 1 column 1 (char 0)",
      "\nDuring handling of the above exception, another exception occurred:\n",
      "\u001b[0;31mJSONDecodeError\u001b[0m                           Traceback (most recent call last)",
      "Cell \u001b[0;32mIn[51], line 20\u001b[0m\n\u001b[1;32m     17\u001b[0m     \u001b[38;5;28;01mreturn\u001b[39;00m response\u001b[38;5;241m.\u001b[39mjson()\n\u001b[1;32m     19\u001b[0m \u001b[38;5;66;03m# Example usage:\u001b[39;00m\n\u001b[0;32m---> 20\u001b[0m customers_data \u001b[38;5;241m=\u001b[39m \u001b[43mget_customers\u001b[49m\u001b[43m(\u001b[49m\u001b[43mbase_url\u001b[49m\u001b[43m,\u001b[49m\u001b[43m \u001b[49m\u001b[43mtoken\u001b[49m\u001b[43m)\u001b[49m\n\u001b[1;32m     21\u001b[0m \u001b[38;5;28mprint\u001b[39m(customers_data)\n",
      "Cell \u001b[0;32mIn[51], line 17\u001b[0m, in \u001b[0;36mget_customers\u001b[0;34m(base_url, token)\u001b[0m\n\u001b[1;32m     15\u001b[0m url_list_customers \u001b[38;5;241m=\u001b[39m \u001b[38;5;124mf\u001b[39m\u001b[38;5;124m\"\u001b[39m\u001b[38;5;132;01m{\u001b[39;00mbase_url\u001b[38;5;132;01m}\u001b[39;00m\u001b[38;5;124m/v1/customers\u001b[39m\u001b[38;5;124m\"\u001b[39m\n\u001b[1;32m     16\u001b[0m response \u001b[38;5;241m=\u001b[39m requests\u001b[38;5;241m.\u001b[39mget(url_list_customers, headers\u001b[38;5;241m=\u001b[39mheaders)\n\u001b[0;32m---> 17\u001b[0m \u001b[38;5;28;01mreturn\u001b[39;00m \u001b[43mresponse\u001b[49m\u001b[38;5;241;43m.\u001b[39;49m\u001b[43mjson\u001b[49m\u001b[43m(\u001b[49m\u001b[43m)\u001b[49m\n",
      "File \u001b[0;32m~/anaconda3/lib/python3.10/site-packages/requests/models.py:978\u001b[0m, in \u001b[0;36mResponse.json\u001b[0;34m(self, **kwargs)\u001b[0m\n\u001b[1;32m    974\u001b[0m     \u001b[38;5;28;01mreturn\u001b[39;00m complexjson\u001b[38;5;241m.\u001b[39mloads(\u001b[38;5;28mself\u001b[39m\u001b[38;5;241m.\u001b[39mtext, \u001b[38;5;241m*\u001b[39m\u001b[38;5;241m*\u001b[39mkwargs)\n\u001b[1;32m    975\u001b[0m \u001b[38;5;28;01mexcept\u001b[39;00m JSONDecodeError \u001b[38;5;28;01mas\u001b[39;00m e:\n\u001b[1;32m    976\u001b[0m     \u001b[38;5;66;03m# Catch JSON-related errors and raise as requests.JSONDecodeError\u001b[39;00m\n\u001b[1;32m    977\u001b[0m     \u001b[38;5;66;03m# This aliases json.JSONDecodeError and simplejson.JSONDecodeError\u001b[39;00m\n\u001b[0;32m--> 978\u001b[0m     \u001b[38;5;28;01mraise\u001b[39;00m RequestsJSONDecodeError(e\u001b[38;5;241m.\u001b[39mmsg, e\u001b[38;5;241m.\u001b[39mdoc, e\u001b[38;5;241m.\u001b[39mpos)\n",
      "\u001b[0;31mJSONDecodeError\u001b[0m: Expecting value: line 1 column 1 (char 0)"
     ]
    }
   ],
   "source": [
    "def get_customers(base_url: str, token: str) -> str:\n",
    "    \"\"\"\n",
    "    Fetches a list of customers from Colorines API endpoint.\n",
    "\n",
    "    Args:\n",
    "    - base_url (str): The base URL of the API.\n",
    "    - token (str): The authorization token required to access the API.\n",
    "\n",
    "    Returns:\n",
    "    - str: The JSON response from the API as a string.\n",
    "    \"\"\"\n",
    "    headers = {\n",
    "        \"Authorization\": f\"Bearer {token}\"\n",
    "    }\n",
    "    url_list_customers = f\"{base_url}/v1/customers\"\n",
    "    response = requests.get(url_list_customers, headers=headers)\n",
    "    return response.json()\n",
    "\n",
    "# Example usage:\n",
    "customers_data = get_customers(base_url, token)\n",
    "print(customers_data)"
   ]
  },
  {
   "cell_type": "code",
   "execution_count": 3,
   "metadata": {},
   "outputs": [
    {
     "name": "stdout",
     "output_type": "stream",
     "text": [
      "\n",
      "\n",
      "\u001b[1m> Entering new AgentExecutor chain...\u001b[0m\n",
      "\u001b[32;1m\u001b[1;3m\n",
      "Invoking: `get_products_available` with `{}`\n",
      "\n",
      "\n",
      "\u001b[0m\u001b[33;1m\u001b[1;3m[{\"name\": \"Teclado\", \"price\": 75.25}, {\"name\": \"Laptop\", \"price\": 1000.0}, {\"name\": \"Smartphone\", \"price\": 800.0}, {\"name\": \"Tablet\", \"price\": 300.0}, {\"name\": \"Impresora\", \"price\": 200.0}, {\"name\": \"Mano\", \"price\": 150.0}, {\"name\": \"C\\u00e1mara\", \"price\": 400.0}, {\"name\": \"Televisor\", \"price\": 700.0}, {\"name\": \"Router\", \"price\": 80.0}, {\"name\": \"Reproductor Blu-ray\", \"price\": 180.0}, {\"name\": \"Teclado inal\\u00e1mbrico\", \"price\": 60.0}, {\"name\": \"Mouse inal\\u00e1mbrico\", \"price\": 80.0}, {\"name\": \"Webcam\", \"price\": 70.0}, {\"name\": \"Tarjeta de video\", \"price\": 250.0}, {\"name\": \"Memoria RAM\", \"price\": 120.0}, {\"name\": \"Disco duro externo\", \"price\": 150.0}, {\"name\": \"Tarjeta madre\", \"price\": 350.0}, {\"name\": \"Procesador\", \"price\": 300.0}, {\"name\": \"Gabinete para PC\", \"price\": 80.0}, {\"name\": \"Fuente de poder\", \"price\": 100.0}, {\"name\": \"Router inal\\u00e1mbrico\", \"price\": 50.0}, {\"name\": \"Adaptador Wi-Fi USB\", \"price\": 30.0}, {\"name\": \"Cargador port\\u00e1til\", \"price\": 40.0}, {\"name\": \"Bater\\u00eda de repuesto\", \"price\": 50.0}, {\"name\": \"Mochila para laptop\", \"price\": 40.0}, {\"name\": \"Estuche para tablet\", \"price\": 20.0}, {\"name\": \"Cable HDMI\", \"price\": 10.0}, {\"name\": \"Adaptador de corriente\", \"price\": 20.0}, {\"name\": \"Soporte para monitor\", \"price\": 30.0}, {\"name\": \"Base para laptop\", \"price\": 25.0}, {\"name\": \"Teclado num\\u00e9rico\", \"price\": 15.0}, {\"name\": \"Mouse ergon\\u00f3mico\", \"price\": 35.0}, {\"name\": \"Auriculares con micr\\u00f3fono\", \"price\": 50.0}, {\"name\": \"Control remoto universal\", \"price\": 20.0}, {\"name\": \"Base para smartphone\", \"price\": 15.0}, {\"name\": \"Adaptador de audio Bluetooth\", \"price\": 25.0}, {\"name\": \"Lector de tarjetas de memoria\", \"price\": 15.0}, {\"name\": \"Cable USB-C\", \"price\": 10.0}, {\"name\": \"Cable VGA\", \"price\": 10.0}, {\"name\": \"Cable DisplayPort\", \"price\": 10.0}, {\"name\": \"Cable de red Ethernet\", \"price\": 10.0}, {\"name\": \"Bolsa para laptop\", \"price\": 25.0}, {\"name\": \"Almohadilla para mouse\", \"price\": 15.0}, {\"name\": \"Hola\", \"price\": 20.0}, {\"name\": \"Hola\", \"price\": 20.0}, {\"name\": \"Hola\", \"price\": 20.0}]\u001b[0m\u001b[32;1m\u001b[1;3m\n",
      "Invoking: `get_product_price` with `{'product_name': 'Cargador portátil'}`\n",
      "\n",
      "\n",
      "\u001b[0m\u001b[36;1m\u001b[1;3m{\"name\": \"Cargador port\\u00e1til\", \"price\": 40.0}\u001b[0m\u001b[32;1m\u001b[1;3m\n",
      "Invoking: `get_product_price` with `{'product_name': 'Teclado'}`\n",
      "\n",
      "\n",
      "\u001b[0m\u001b[36;1m\u001b[1;3m{\"name\": \"Teclado\", \"price\": 75.25}\u001b[0m\u001b[32;1m\u001b[1;3m\n",
      "Invoking: `calculate_price` with `{'product_list': [{'name': 'Cargador portátil', 'price': 40.0}, {'name': 'Teclado', 'price': 75.25}]}`\n",
      "\n",
      "\n",
      "\u001b[0m\u001b[38;5;200m\u001b[1;3m115.25\u001b[0m\u001b[32;1m\u001b[1;3mEl total para comprar un Cargador portátil y un teclado es de $115.25.\u001b[0m\n",
      "\n",
      "\u001b[1m> Finished chain.\u001b[0m\n"
     ]
    },
    {
     "data": {
      "text/plain": [
       "{'input': 'Quiero comprar un Cargador portátil y un teclado, cual es el total?',\n",
       " 'output': 'El total para comprar un Cargador portátil y un teclado es de $115.25.'}"
      ]
     },
     "execution_count": 3,
     "metadata": {},
     "output_type": "execute_result"
    }
   ],
   "source": [
    "# Prueba la ejecución del agente\n",
    "# agent_executor.invoke({\"input\": \"Quiero comprar Un teclado un una camara cuanto me costaria\"})\n",
    "\n",
    "# Prueba de disponibilidad de productos\n",
    "# agent_executor.invoke({\"input\": \"Que productos tienes disponibles?\"})\n",
    "agent_executor.invoke({\"input\": \"Quiero comprar un Cargador portátil y un teclado, cual es el total?\"})"
   ]
  }
 ],
 "metadata": {
  "kernelspec": {
   "display_name": "Python 3 (ipykernel)",
   "language": "python",
   "name": "python3"
  },
  "language_info": {
   "codemirror_mode": {
    "name": "ipython",
    "version": 3
   },
   "file_extension": ".py",
   "mimetype": "text/x-python",
   "name": "python",
   "nbconvert_exporter": "python",
   "pygments_lexer": "ipython3",
   "version": "3.10.9"
  }
 },
 "nbformat": 4,
 "nbformat_minor": 4
}
