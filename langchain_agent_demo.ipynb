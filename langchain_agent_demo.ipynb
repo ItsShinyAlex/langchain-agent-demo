{
 "cells": [
  {
   "cell_type": "code",
   "execution_count": 83,
   "metadata": {
    "tags": []
   },
   "outputs": [],
   "source": [
    "import os\n",
    "from dotenv import load_dotenv\n",
    "from sqlalchemy import create_engine, text\n",
    "import pandas as pd\n",
    "from langchain_core.prompts import ChatPromptTemplate\n",
    "from langchain_core.tools import tool\n",
    "from langchain.agents import create_tool_calling_agent, AgentExecutor\n",
    "from langchain_openai import ChatOpenAI\n",
    "from langchain_core.output_parsers import StrOutputParser, CommaSeparatedListOutputParser, JsonOutputParser\n",
    "from langchain_core.pydantic_v1 import BaseModel, Field\n",
    "from langchain.tools import MoveFileTool, format_tool_to_openai_function\n",
    "from langchain.chat_models import ChatOpenAI\n",
    "from langchain.schema import HumanMessage, AIMessage, ChatMessage, FunctionMessage\n",
    "from langchain.tools import MoveFileTool, format_tool_to_openai_function\n",
    "from langchain.tools import BaseTool\n",
    "from typing import Optional, Type\n",
    "from langchain.agents import initialize_agent, Tool\n",
    "from langchain.agents import AgentType\n",
    "from langchain_openai import ChatOpenAI\n",
    "import json\n",
    "import requests\n",
    "import pandas as pd\n",
    "import numpy\n",
    "\n",
    "\n",
    "# Load environment variables from the .env file\n",
    "load_dotenv()\n",
    "api_key = os.getenv('OPENAI_API_KEY')\n",
    "model = ChatOpenAI(model=\"gpt-3.5-turbo\", api_key=api_key, temperature=0)\n",
    "llm = model\n",
    "\n",
    "pd.set_option('display.max_columns', None)\n",
    "pd.set_option('display.max_colwidth', None) \n"
   ]
  },
  {
   "cell_type": "code",
   "execution_count": 84,
   "metadata": {},
   "outputs": [],
   "source": [
    "#LangSmith details, not mandatory\n",
    "api_key_langsmith = os.getenv('LANGSMITH_API_KEY')\n",
    "\n",
    "LANGCHAIN_TRACING_V2=True\n",
    "LANGCHAIN_ENDPOINT=\"https://api.smith.langchain.com\"\n",
    "LANGCHAIN_API_KEY=api_key_langsmith\n",
    "LANGCHAIN_PROJECT=\"colorina\""
   ]
  },
  {
   "cell_type": "code",
   "execution_count": 28,
   "metadata": {
    "tags": []
   },
   "outputs": [
    {
     "name": "stdout",
     "output_type": "stream",
     "text": [
      "Name: langchainNote: you may need to restart the kernel to use updated packages.\n",
      "\n",
      "Version: 0.2.5\n",
      "Summary: Building applications with LLMs through composability\n",
      "Home-page: https://github.com/langchain-ai/langchain\n",
      "Author: \n",
      "Author-email: \n",
      "License: MIT\n",
      "Location: C:\\Users\\starm\\AppData\\Roaming\\Python\\Python311\\site-packages\n",
      "Requires: aiohttp, langchain-core, langchain-text-splitters, langsmith, numpy, pydantic, PyYAML, requests, SQLAlchemy, tenacity\n",
      "Required-by: langchain-community\n"
     ]
    }
   ],
   "source": [
    "pip show langchain\n"
   ]
  },
  {
   "cell_type": "code",
   "execution_count": 85,
   "metadata": {
    "tags": []
   },
   "outputs": [],
   "source": [
    "TEST_MAIL = 'admin@platform.com'"
   ]
  },
  {
   "cell_type": "markdown",
   "metadata": {},
   "source": [
    "## Token"
   ]
  },
  {
   "cell_type": "code",
   "execution_count": 86,
   "metadata": {
    "tags": []
   },
   "outputs": [],
   "source": [
    "base_url = 'https://dashboard.colorines.paitesting.com/api'\n",
    "\n",
    "# Set the URL for the token API\n",
    "url_token = base_url+\"/v1/token\"\n",
    "\n",
    "# Set the data for the POST request\n",
    "data = {\n",
    "    \"email\": \"sale@platform.com\",\n",
    "    \"password\": os.getenv('CONSULTANT_PASSWORD'),\n",
    "    \"device_name\": \"colorina_2\",\n",
    "    \"role\": \"consultant\"\n",
    "}\n",
    "\n",
    "# Send a POST request\n",
    "response = requests.post(url_token, json=data)\n",
    "\n",
    "#print(response)\n",
    "\n",
    "# Extract the token from the response\n",
    "token = response.json().get('data').get('token')\n",
    "\n",
    "#print(\"Token:\", token)\n",
    "token_str = f\"mi auth token: {token}\""
   ]
  },
  {
   "cell_type": "markdown",
   "metadata": {},
   "source": [
    "## Components"
   ]
  },
  {
   "cell_type": "code",
   "execution_count": 5,
   "metadata": {
    "tags": []
   },
   "outputs": [],
   "source": [
    "#TODO: API need to add a filter by 'is_active'\n",
    "\n",
    "def GetProperties(token: str):\n",
    "    headers = {\"Authorization\": f\"Bearer {token}\"}\n",
    "    url = \"https://dashboard.colorines.paitesting.com/api/v1/properties\"\n",
    "    params = {'include': 'step,project,development', 'filter[status]': 'available'} \n",
    "    try:\n",
    "        response = requests.get(url, headers=headers, params=params)\n",
    "        response.raise_for_status()  # Raise an exception for HTTP errors\n",
    "        \n",
    "        # Check if the response contains any content\n",
    "        if response.content:\n",
    "            data = response.json()\n",
    "        else:\n",
    "            return pd.DataFrame({\"error\": [\"Empty response from the server\"]})\n",
    "        \n",
    "    except requests.exceptions.RequestException as e:\n",
    "        return pd.DataFrame({\"error\": [str(e)]})\n",
    "    except ValueError as ve:\n",
    "        return pd.DataFrame({\"error\": [\"Error parsing JSON response\"]})\n",
    "    \n",
    "    # Check if the 'data' key exists and contains a list of dictionaries\n",
    "    if 'data' in data:\n",
    "        if isinstance(data['data'], list):\n",
    "            return pd.DataFrame(data['data'])\n",
    "        else:\n",
    "            return pd.DataFrame({\"error\": [\"'data' key does not contain a list\"]})\n",
    "    else:\n",
    "        return pd.DataFrame({\"error\": [\"'data' key not found in the response\"]})\n",
    "    \n",
    "#PREPROCESS projects\n",
    "def PreprocessProjects(df):\n",
    "    df['development_name'] = df['development'].apply(lambda x: x.get('name'))\n",
    "    \n",
    "    def filter_active_steps(steps):\n",
    "        return [step['step_number'] for step in steps if step['is_active']]\n",
    "\n",
    "    # Applying the function to create the new column\n",
    "    df['active_steps'] = df['steps'].apply(filter_active_steps)\n",
    "\n",
    "    return df\n",
    "\n",
    "#PREPROCESS Properties\n",
    "def PreprocessProperties(df):\n",
    "    df['project_name'] = df['project'].apply(lambda x: x.get('name'))\n",
    "    df['development_name'] = df['development'].apply(lambda x: x.get('name'))\n",
    "    df['step_number'] = df['step'].apply(lambda x: x.get('step_number')) #numero de etapa\n",
    "\n",
    "    def extract_total_amount(prices, currency_code):\n",
    "        total_amount = None  # Initialize to None or any default value as needed\n",
    "        for entry in prices:\n",
    "            if entry['type'] == 'property' and entry['currency_code'] == currency_code:\n",
    "                total_amount = entry['total_amount']\n",
    "                break  # Exit loop once found\n",
    "        return total_amount\n",
    "\n",
    "    # Extracting total_amount_mxn and total_amount_usd\n",
    "    df['total_amount_mxn'] = df['prices'].apply(lambda x: extract_total_amount(x, 'MXN'))\n",
    "    df['total_amount_usd'] = df['prices'].apply(lambda x: extract_total_amount(x, 'USD'))\n",
    "\n",
    "    return df\n",
    "\n",
    "\n",
    "# Example usage\n",
    "\n",
    "#df_properties = GetProperties(token)\n",
    "\n",
    "def GetProjects(token: str):\n",
    "    headers = {\"Authorization\": f\"Bearer {token}\"}\n",
    "    url = \"https://dashboard.colorines.paitesting.com/api/v1/projects\"\n",
    "    params = {'include': 'steps,development', 'is_active': 'True'} \n",
    "    try:\n",
    "        response = requests.get(url, headers=headers, params=params)\n",
    "        response.raise_for_status()  # Raise an exception for HTTP errors\n",
    "        data = response.json()\n",
    "    except requests.exceptions.RequestException as e:\n",
    "        return pd.DataFrame({\"error\": [str(e)]})\n",
    "    \n",
    "    # Check if the 'data' key exists and contains a list of dictionaries\n",
    "    if 'data' in data:\n",
    "        if isinstance(data['data'], list):\n",
    "            return pd.DataFrame(data['data'])\n",
    "        else:\n",
    "            return pd.DataFrame({\"error\": [\"'data' key does not contain a list\"]})\n",
    "    else:\n",
    "        return pd.DataFrame({\"error\": [\"'data' key not found in the response\"]})\n",
    "\n",
    "def GetDevelopments(token: str):\n",
    "    headers = {\"Authorization\": f\"Bearer {token}\"}\n",
    "    url = \"https://dashboard.colorines.paitesting.com/api/v1/developments\"\n",
    "    try:\n",
    "        response = requests.get(url, headers=headers)\n",
    "        response.raise_for_status()  # Raise an exception for HTTP errors\n",
    "        data = response.json()\n",
    "    except requests.exceptions.RequestException as e:\n",
    "        return pd.DataFrame({\"error\": [str(e)]})\n",
    "    \n",
    "    # Check if the 'data' key exists and contains a list of dictionaries\n",
    "    if 'data' in data:\n",
    "        if isinstance(data['data'], list):\n",
    "            return pd.DataFrame(data['data'])\n",
    "        else:\n",
    "            return pd.DataFrame({\"error\": [\"'data' key does not contain a list\"]})\n",
    "    else:\n",
    "        return pd.DataFrame({\"error\": [\"'data' key not found in the response\"]})\n",
    "\n",
    "# Example usage\n",
    "\n",
    "#df_devs = GetDevelopments(token)\n",
    "\n"
   ]
  },
  {
   "cell_type": "markdown",
   "metadata": {},
   "source": [
    "### Sales"
   ]
  },
  {
   "cell_type": "code",
   "execution_count": 6,
   "metadata": {
    "tags": []
   },
   "outputs": [],
   "source": [
    "def GetSales(token: str, status: str = None, customer_id: int = None, str_date: str = None, end_date: str = None):\n",
    "    headers = {\n",
    "        \"Authorization\": f\"Bearer {token}\",\n",
    "        \"Accept\": \"application/json\"  # Ensures the server knows you expect JSON\n",
    "    }\n",
    "    url = \"https://dashboard.colorines.paitesting.com/api/v1/sales\"\n",
    "    params={}\n",
    "    if status:\n",
    "        params.update({\"filter[status]\": status})\n",
    "        \n",
    "    if customer_id:\n",
    "        params.update({\"customer_id\": customer_id})\n",
    "        \n",
    "    if str_date and end_date:\n",
    "        two_dates = str_date+','+end_date\n",
    "        params.update({\"filter[created_at_between]\": two_dates})\n",
    "        \n",
    "    try:\n",
    "        response = requests.get(url, headers=headers, params=params)\n",
    "        #print(\"Status Code:\", response.status_code)  # Log the status code\n",
    "        #print(\"Response Body:\", response.text)   \n",
    "        response.raise_for_status()  # Raise an exception for HTTP errors\n",
    "        \n",
    "        # Check if the response contains any content\n",
    "        if response.content:\n",
    "            data = response.json()\n",
    "        else:\n",
    "            return pd.DataFrame({\"error\": [\"Empty response from the server\"]})\n",
    "        \n",
    "    except requests.exceptions.RequestException as e:\n",
    "        return pd.DataFrame({\"error\": [str(e)]})\n",
    "    except ValueError as ve:\n",
    "        return pd.DataFrame({\"error\": [\"Error parsing JSON response\"]})\n",
    "    \n",
    "    # Check if the 'data' key exists and contains a list of dictionaries\n",
    "    if 'data' in data:\n",
    "        if isinstance(data['data'], list):\n",
    "            return pd.DataFrame(data['data'])\n",
    "        else:\n",
    "            return pd.DataFrame({\"error\": [\"'data' key does not contain a list\"]})\n",
    "    else:\n",
    "        return pd.DataFrame({\"error\": [\"'data' key not found in the response\"]})\n",
    "\n",
    "def PreprocessSales(df):\n",
    "    df['property_name'] = df['property'].apply(lambda x: x.get('alias'))\n",
    "\n",
    "    return df"
   ]
  },
  {
   "cell_type": "markdown",
   "metadata": {},
   "source": [
    "### Customers"
   ]
  },
  {
   "cell_type": "code",
   "execution_count": 7,
   "metadata": {
    "tags": []
   },
   "outputs": [],
   "source": [
    "def GetCustomers(token: str):\n",
    "    headers = {\n",
    "        \"Authorization\": f\"Bearer {token}\",\n",
    "        \"Accept\": \"application/json\"  # Ensures the server knows you expect JSON\n",
    "    }\n",
    "    url = \"https://dashboard.colorines.paitesting.com/api/v1/customers\"\n",
    "\n",
    "    try:\n",
    "        response = requests.get(url, headers=headers)\n",
    "        response.raise_for_status()  # Raise an exception for HTTP errors\n",
    "        \n",
    "        # Check if the response contains any content\n",
    "        if response.content:\n",
    "            data = response.json()\n",
    "        else:\n",
    "            return pd.DataFrame({\"error\": [\"Empty response from the server\"]})\n",
    "        \n",
    "    except requests.exceptions.RequestException as e:\n",
    "        return pd.DataFrame({\"error\": [str(e)]})\n",
    "    except ValueError as ve:\n",
    "        return pd.DataFrame({\"error\": [\"Error parsing JSON response\"]})\n",
    "    \n",
    "    # Check if the 'data' key exists and contains a list of dictionaries\n",
    "    if 'data' in data:\n",
    "        if isinstance(data['data'], list):\n",
    "            return pd.DataFrame(data['data'])\n",
    "        else:\n",
    "            return pd.DataFrame({\"error\": [\"'data' key does not contain a list\"]})\n",
    "    else:\n",
    "        return pd.DataFrame({\"error\": [\"'data' key not found in the response\"]})\n",
    "\n",
    "def GetCustomerID(df, email):\n",
    "    df_filtered = df[df['email'] == email]\n",
    "    if (len(df_filtered)>0):\n",
    "        return df_filtered.iloc[0].id\n",
    "    else:\n",
    "        return None"
   ]
  },
  {
   "cell_type": "markdown",
   "metadata": {},
   "source": [
    "## Clean functions"
   ]
  },
  {
   "cell_type": "code",
   "execution_count": 8,
   "metadata": {
    "tags": []
   },
   "outputs": [],
   "source": [
    "def CleanProjects(df):\n",
    "    df_clean = df[['name', 'development_name', 'active_steps']]\n",
    "    df_clean = df_clean.rename(columns={'name': 'nombre_proyecto', 'development_name': 'nombre_desarrollo', 'active_steps': 'etapa'})\n",
    "    return df_clean.to_json(orient='records', force_ascii=False)\n",
    "\n",
    "def CleanProperties(df):\n",
    "    df_clean = df[['alias', 'status', 'project_name', 'development_name', 'step_number', 'total_amount_mxn', 'total_amount_usd']]\n",
    "    \n",
    "    df_clean = df_clean.rename(columns={'alias': 'nombre_propiedad',\n",
    "                                        'project_name': 'nombre_proyecto',\n",
    "                                        'development_name': 'nombre_desarrollo',\n",
    "                                        'step_number': 'etapa',\n",
    "                                        'total_amount_mxn': 'precio_MXN',\n",
    "                                        'total_amount_usd': 'precio_USD'\n",
    "                                       })\n",
    "    return df_clean.to_json(orient='records', force_ascii=False)\n",
    "\n",
    "def CleanSalesByCustomer(df):\n",
    "    df_clean = df[['property_name', 'currency', 'reserve_amount', 'property_amount', 'property_discount_amount', 'down_payment_amount', 'down_payment_percent', 'number_installments', 'installments_amount', 'status', 'amount_total', 'amount_paid', 'amount_remaining', 'next_payment_date', 'advance_percent', 'overdue_installments_count', 'overdue_installments_amount']]\n",
    "    return df_clean.to_json(orient='records', force_ascii=False)"
   ]
  },
  {
   "cell_type": "markdown",
   "metadata": {},
   "source": [
    "## Tools"
   ]
  },
  {
   "cell_type": "code",
   "execution_count": 9,
   "metadata": {
    "tags": []
   },
   "outputs": [],
   "source": [
    "@tool\n",
    "def get_active_properties(token: str) -> str:\n",
    "    \"\"\"\n",
    "    Uses the token to fetch the active properties from colorines API.\n",
    "    \n",
    "    Args:\n",
    "        token (str): The authorization token required to access the API.\n",
    "\n",
    "    Returns:\n",
    "        str: The JSON response from the API as a string.\n",
    "    \"\"\"\n",
    "    properties_df = GetProperties(token)\n",
    "    properties_df = properties_df[properties_df['is_active'] == True]\n",
    "    \n",
    "\n",
    "    response = requests.get(url, headers=headers, params=params)\n",
    "    # Check if the response was successful\n",
    "    if response.status_code == 200:\n",
    "        try:\n",
    "            return json.dumps(response.json())  # Convert JSON response to string\n",
    "        except ValueError:  # Catch JSON errors\n",
    "            return json.dumps({\"error\": \"Error parsing JSON\"})\n",
    "    else:\n",
    "        return json.dumps({\"error\": f\"Received status code {response.status_code}\"})\n",
    "\n",
    "\n",
    "\n",
    "@tool\n",
    "def get_last_sale(token: str) -> str:\n",
    "    \"\"\"\n",
    "    Uses the token to fetch the last sale from colorines API.\n",
    "    \n",
    "    Args:\n",
    "        token (str): The authorization token required to access the API.\n",
    "\n",
    "    Returns:\n",
    "        str: The JSON response from the API as a string.\n",
    "    \"\"\"\n",
    "    headers = {\"Authorization\": f\"Bearer {token}\"}\n",
    "    url = \"https://dashboard.colorines.paitesting.com/api/v1/sales\"\n",
    "    params = {\"per_page\": 1, \"sort\": \"-created_at\"}\n",
    "    \n",
    "    try:\n",
    "        response = requests.get(url, headers=headers, params=params)\n",
    "        # Check if the response was successful\n",
    "        if response.status_code == 200:\n",
    "            try:\n",
    "                return json.dumps(response.json())  # Convert JSON response to string\n",
    "            except ValueError:  # Catch JSON errors\n",
    "                return json.dumps({\"error\": \"Error parsing JSON\"})\n",
    "        else:\n",
    "            return json.dumps({\"error\": f\"Received status code {response.status_code}\"})\n",
    "    except requests.exceptions.RequestException as e:\n",
    "        return json.dumps({\"error\": str(e)})\n",
    "\n"
   ]
  },
  {
   "cell_type": "markdown",
   "metadata": {},
   "source": [
    "### Properties, developments and Steps"
   ]
  },
  {
   "cell_type": "code",
   "execution_count": 10,
   "metadata": {
    "tags": []
   },
   "outputs": [],
   "source": [
    "@tool\n",
    "def get_active_projects(token: str) -> str:   \n",
    "    \"\"\"\n",
    "    Uses the token to fetch the active (available) projects from colorines API.\n",
    "    \n",
    "    Args:\n",
    "        token (str): The authorization token required to access the API.\n",
    "\n",
    "    Returns:\n",
    "        str: The JSON response from the API as a string.\n",
    "    \"\"\"\n",
    "    df = GetProjects(token)\n",
    "    pre_df = PreprocessProjects(df)\n",
    "    return CleanProjects(pre_df)\n",
    "    \n",
    "@tool\n",
    "def get_active_properties(token: str)-> str:\n",
    "    \"\"\"\n",
    "    Uses the token to fetch the active (available) properties from colorines API.\n",
    "    \n",
    "    Args:\n",
    "        token (str): The authorization token required to access the API.\n",
    "\n",
    "    Returns:\n",
    "        str: The JSON response from the API as a string.\n",
    "    \"\"\"\n",
    "    \n",
    "    df = GetProperties(token)\n",
    "    pre_df = PreprocessProperties(df)\n",
    "    return CleanProperties(pre_df)\n",
    "\n"
   ]
  },
  {
   "cell_type": "markdown",
   "metadata": {},
   "source": [
    "### Sales"
   ]
  },
  {
   "cell_type": "code",
   "execution_count": 11,
   "metadata": {
    "tags": []
   },
   "outputs": [],
   "source": [
    "@tool\n",
    "def count_sales_by_status(token: str, status: str)-> int:\n",
    "    \"\"\"\n",
    "    Count the number of sales the user has with a specific status.\n",
    "    \n",
    "    \n",
    "    Args:\n",
    "        token (str): The authorization token required to access the API.\n",
    "        status (str): The status to filter the API request. Acceptable status by the API: reserved, documents, contract, active, canceled, overdue, finalized, deeded.\n",
    "\n",
    "    Returns:\n",
    "        int: The number of sales with the requested status.\n",
    "    \"\"\"\n",
    "    \n",
    "    df = GetSales(token=token, status=status)\n",
    "    count = len(df)\n",
    "    return count\n",
    "\n",
    "@tool\n",
    "def get_sales_by_customer(token: str, email: str) -> str:\n",
    "    \"\"\"\n",
    "    Retrieves and returns a list of sales associated with a customer identified by their email.\n",
    "\n",
    "    This function performs the following steps:\n",
    "    1. Uses the provided email to search for the customer ID.\n",
    "    2. Retrieves the sales attached to that customer ID.\n",
    "    3. Returns relevant sales information in JSON format.\n",
    "\n",
    "    Args:\n",
    "        token (str): The authorization token required to access the API.\n",
    "        email (str): The email address used to identify the customer.\n",
    "\n",
    "    Returns:\n",
    "        str: A JSON response containing information about sales made to the customer.\n",
    "             The JSON includes details about each sale that will be listed to the user by the agent.\n",
    "    \"\"\"\n",
    "    # Function implementation here\n",
    "    customers = GetCustomers(token)\n",
    "    customer_id = GetCustomerID(customers, email=email)\n",
    "    if customer_id:\n",
    "        df = GetSales(token=token, customer_id=customer_id)\n",
    "        df = PreprocessSales(df)\n",
    "        return CleanSalesByCustomer(df)\n",
    "    else:\n",
    "        return 'No se encontró ningún cliente con ese correo electrónico, pregunta al cliente si el correo es correcto'\n",
    "\n",
    "\n"
   ]
  },
  {
   "cell_type": "code",
   "execution_count": 12,
   "metadata": {
    "tags": []
   },
   "outputs": [],
   "source": [
    "def call_json_output_parser():\n",
    "    prompt = ChatPromptTemplate.from_messages([\n",
    "        (\"system\", \"Extract information from the Colorines API using the {token}.\\nFormatting Instructions: {format_instructions}\"),\n",
    "        (\"human\", \"{input}\")\n",
    "    ])\n",
    "\n",
    "    class Data(BaseModel):\n",
    "        data: str = Field(description=\"JSON with the response containing all the relevant information for the user\")\n",
    "        \n",
    "    parser = JsonOutputParser(pydantic_object=Data)\n",
    "\n",
    "    chain = prompt | model | parser\n",
    "    \n",
    "    return chain.invoke({\n",
    "        \"phrase\": \"The ingredients for a Margherita pizza are tomatoes, onions, cheese, basil\",\n",
    "        \"format_instructions\": parser.get_format_instructions()\n",
    "    })"
   ]
  },
  {
   "cell_type": "markdown",
   "metadata": {},
   "source": [
    "#### Sales remake"
   ]
  },
  {
   "cell_type": "code",
   "execution_count": 13,
   "metadata": {
    "tags": []
   },
   "outputs": [],
   "source": [
    "# Count sales\n",
    "class CountSalesInput(BaseModel):\n",
    "    \"\"\"Input to grant access to Colorines API.\"\"\"\n",
    "\n",
    "    token: str = Field(..., description=\"token to authenticate the user to consume the API\")\n",
    "    status: str = Field(..., description=\"Status to filter the sales to retrieve from the API. Acceptable status by the API: reserved, documents, contract, active, canceled, overdue, finalized, deeded\")\n",
    "    \n",
    "class CountSalesTool(BaseTool):\n",
    "    name = \"count_sales_by_status\"\n",
    "    description = \"Count the number of sales the user has with a specific status. You must input the auth token\"\n",
    "\n",
    "    def _run(self, token: str, status: str):\n",
    "        df = GetSales(token=token, status=status)\n",
    "        count = len(df)\n",
    "        return json.dumps({\"count\": count})  # Directly return JSON string\n",
    "\n",
    "\n",
    "    def _arun(self, token: str, status: str):\n",
    "        raise NotImplementedError(\"This tool does not support async\")\n",
    "\n",
    "    args_schema: Optional[Type[BaseModel]] = CountSalesInput\n",
    "    \n",
    "#list sales by email\n",
    "# Input schema for fetching sales by customer\n",
    "class GetSalesByCustomerInput(BaseModel):\n",
    "    \"\"\"Input to fetch sales by customer.\"\"\"\n",
    "\n",
    "    token: str = Field(..., description=\"Authorization token to access the API.\")\n",
    "    email: str = Field(..., description=\"Email address of the customer.\")\n",
    "\n",
    "# Tool class to retrieve sales by customer\n",
    "class GetSalesByCustomerTool(BaseTool):\n",
    "    name = \"get_sales_by_customer\"\n",
    "    description = \"Retrieve sales associated with a customer identified by email.\"\n",
    "\n",
    "    def _run(self, token: str, email: str):\n",
    "        \"\"\"\n",
    "        Retrieves and returns sales associated with a customer identified by email.\n",
    "\n",
    "        Args:\n",
    "            token (str): Authorization token to access the API.\n",
    "            email (str): Email address of the customer.\n",
    "\n",
    "        Returns:\n",
    "            str: JSON response containing information about sales made to the customer.\n",
    "        \"\"\"\n",
    "        # Replace these with your actual functions to fetch data\n",
    "        customers = GetCustomers(token)\n",
    "        customer_id = GetCustomerID(customers, email=email)\n",
    "        \n",
    "        if customer_id:\n",
    "            df = GetSales(token=token, customer_id=customer_id)\n",
    "            df = PreprocessSales(df)\n",
    "            return json.dumps(CleanSalesByCustomer(df))\n",
    "        else:\n",
    "            return json.dumps({\n",
    "                \"message\": \"No se encontró ningún cliente con ese correo electrónico. \"\n",
    "                           \"Verifica el correo proporcionado e intenta nuevamente.\"\n",
    "            })\n",
    "\n",
    "    def _arun(self, token: str, email: str):\n",
    "        raise NotImplementedError(\"This tool does not support async.\")\n",
    "\n",
    "    args_schema: Optional[Type[BaseModel]] = GetSalesByCustomerInput\n",
    "    \n",
    "\n",
    "from pydantic import BaseModel, Field\n",
    "from typing import Optional, Type\n",
    "\n",
    "class GetSalesBetweenDatesInput(BaseModel):\n",
    "    \"\"\"\n",
    "    Defines the input schema for fetching sales between specified dates.\n",
    "    \"\"\"\n",
    "    token: str = Field(..., description=\"Authorization token required to access the API.\")\n",
    "    str_date: str = Field(..., description=\"Start date to search sales created in between. Format must be: 'yyyy-mm-dd'\")\n",
    "    end_date: str = Field(..., description=\"End date to search sales created in between. Format must be: 'yyyy-mm-dd'\")\n",
    "\n",
    "class GetSalesBetweenDatesTool(BaseTool):\n",
    "    name = \"get_sales_between_dates\"  \n",
    "    description = \"Retrieve sales in a range of two dates. If only one date is provided, the same date is used for both start and end dates.\"\n",
    "\n",
    "    def _run(self, token: str, str_date: str, end_date: str):\n",
    "        \"\"\"\n",
    "        Executes a query to retrieve sales that were created between two specified dates.\n",
    "\n",
    "        Args:\n",
    "            token (str): Authorization token to access the API.\n",
    "            str_date (str): Start date to begin the search for sales.\n",
    "            end_date (str): End date to end the search for sales.\n",
    "\n",
    "        Returns:\n",
    "            str: JSON response containing information about sales in the specified date range.\n",
    "        \"\"\"\n",
    "        if str_date and end_date:\n",
    "            df = GetSales(token=token, str_date=str_date, end_date=end_date)\n",
    "            df = PreprocessSales(df)\n",
    "            return json.dumps(CleanSalesByCustomer(df))\n",
    "        else:\n",
    "            return json.dumps({\n",
    "                \"message\": \"Both start and end dates must be provided.\"\n",
    "            })\n",
    "\n",
    "    def _arun(self, token: str, str_date: str, end_date: str):\n",
    "        raise NotImplementedError(\"This tool does not support asynchronous execution.\")\n",
    "\n",
    "    args_schema: Optional[Type[BaseModel]] = GetSalesBetweenDatesInput\n",
    "\n",
    "\n"
   ]
  },
  {
   "cell_type": "code",
   "execution_count": 14,
   "metadata": {
    "tags": []
   },
   "outputs": [],
   "source": [
    "tools = [CountSalesTool(), GetSalesByCustomerTool(), GetSalesBetweenDatesTool()]"
   ]
  },
  {
   "cell_type": "code",
   "execution_count": 15,
   "metadata": {
    "tags": []
   },
   "outputs": [],
   "source": [
    "\n",
    "\n",
    "class MathOperationInput(BaseModel):\n",
    "    \"\"\"\n",
    "    Defines the input schema for a math operation with two factors.\n",
    "    \"\"\"\n",
    "    factor1: float = Field(..., description=\"The first factor for the operation.\")\n",
    "    factor2: float = Field(..., description=\"The second factor for the operation.\")\n",
    "\n",
    "class SumTool(BaseTool):\n",
    "    name = \"sum_factors\"\n",
    "    description = \"Sum two factors.\"\n",
    "\n",
    "    def _run(self, factor1: float, factor2: float):\n",
    "        \"\"\"\n",
    "        Sums two factors.\n",
    "\n",
    "        Args:\n",
    "            factor1 (float): The first factor.\n",
    "            factor2 (float): The second factor.\n",
    "\n",
    "        Returns:\n",
    "            str: JSON response containing the sum of the factors.\n",
    "        \"\"\"\n",
    "        result = factor1 + factor2\n",
    "        return json.dumps({\n",
    "            \"sum\": result\n",
    "        })\n",
    "\n",
    "    def _arun(self, factor1: float, factor2: float):\n",
    "        raise NotImplementedError(\"This tool does not support asynchronous execution.\")\n",
    "\n",
    "    args_schema: Optional[Type[BaseModel]] = MathOperationInput\n",
    "\n",
    "class MultiplyTool(BaseTool):\n",
    "    name = \"multiply_factors\"\n",
    "    description = \"Multiply two factors.\"\n",
    "\n",
    "    def _run(self, factor1: float, factor2: float):\n",
    "        \"\"\"\n",
    "        Multiplies two factors.\n",
    "\n",
    "        Args:\n",
    "            factor1 (float): The first factor.\n",
    "            factor2 (float): The second factor.\n",
    "\n",
    "        Returns:\n",
    "            str: JSON response containing the product of the factors.\n",
    "        \"\"\"\n",
    "        result = factor1 * factor2\n",
    "        return json.dumps({\n",
    "            \"product\": result\n",
    "        })\n",
    "\n",
    "    def _arun(self, factor1: float, factor2: float):\n",
    "        raise NotImplementedError(\"This tool does not support asynchronous execution.\")\n",
    "\n",
    "    args_schema: Optional[Type[BaseModel]] = MathOperationInput\n"
   ]
  },
  {
   "cell_type": "code",
   "execution_count": null,
   "metadata": {
    "tags": []
   },
   "outputs": [],
   "source": []
  },
  {
   "cell_type": "markdown",
   "metadata": {},
   "source": [
    "## Half agent use, just to select Tools"
   ]
  },
  {
   "cell_type": "code",
   "execution_count": 48,
   "metadata": {
    "tags": []
   },
   "outputs": [],
   "source": [
    "#ChatGpt model to select tools\n",
    "model = ChatOpenAI(model=\"gpt-3.5-turbo\", api_key=api_key)\n",
    "\n",
    "#The tools classes\n",
    "tool_names = [CountSalesTool().name, GetSalesByCustomerTool().name, GetSalesBetweenDatesTool().name]\n",
    "tools = [CountSalesTool(), GetSalesByCustomerTool(), GetSalesBetweenDatesTool()]\n",
    "\n",
    "#tool_names = [MultiplyTool().name, SumTool().name]\n",
    "#tools = [MultiplySalesTool(), SumSalesTool()]\n",
    "\n",
    "#Format Tools for being usable by the model\n",
    "functions = [format_tool_to_openai_function(t) for t in tools]\n",
    "\n",
    "#Token append to input string\n",
    "token_str = f\"mi auth token: {token}\"\n",
    "\n",
    "#Uses the model to predict which tool use, but we return the tool response directly\n",
    "def smart_tool_selector(input_str, token_str, model, functions, tool_names):\n",
    "    \"\"\"\n",
    "    Uses a machine learning model to predict which tool to use based on input,\n",
    "    then directly returns the response from the selected tool.\n",
    "\n",
    "    Args:\n",
    "    - input_str (str): The input string to be processed.\n",
    "    - token_str (str): The token string to be included in the input.\n",
    "    - model: The machine learning model used to predict the tool.\n",
    "    - functions (list): List of functions or tools available for selection.\n",
    "\n",
    "    Returns:\n",
    "    - tool_result: The result returned by the selected tool.\n",
    "    - _args (dict): Arguments parsed from the AI model's function call prediction.\n",
    "    - ai_message: Message object containing details of the AI model's prediction.\n",
    "    \"\"\"\n",
    "    # Prepare input data for the model prediction\n",
    "    input_data = {\n",
    "        \"input\": f\"{input_str} {token_str}\"\n",
    "    }\n",
    "    \n",
    "    # Predict the tool to use based on input using the machine learning model\n",
    "    ai_message = model.predict_messages([HumanMessage(content=input_data['input'])], functions=functions)\n",
    "    \n",
    "    # Extract arguments for the tool from the AI model's function call prediction\n",
    "    _args = json.loads(ai_message.additional_kwargs['function_call'].get('arguments'))\n",
    "    \n",
    "    print(_args)\n",
    "    \n",
    "    tool_name = ai_message.additional_kwargs['function_call']['name']\n",
    "    tool_index = tool_names.index(tool_name)\n",
    "    # Execute the selected tool and capture its result\n",
    "    tool_result = tools[tool_index](_args)  # Pass _args as keyword arguments\n",
    "    \n",
    "    # Return the tool's result, parsed arguments, and AI message\n",
    "    return tool_result, _args, ai_message\n",
    "\n"
   ]
  },
  {
   "cell_type": "code",
   "execution_count": null,
   "metadata": {
    "tags": []
   },
   "outputs": [],
   "source": [
    "input_str = 'muestrame las ventas entre el 7 de enero del 2024 y primero de junio del 2024?'\n",
    "result, args, msg = smart_tool_selector(input_str, token_str, model, functions, tool_names)\n",
    "print(msg)\n",
    "print(args)\n",
    "print(result)\n"
   ]
  },
  {
   "cell_type": "code",
   "execution_count": 41,
   "metadata": {
    "tags": []
   },
   "outputs": [
    {
     "data": {
      "text/plain": [
       "['multiply_factors', 'sum_factors']"
      ]
     },
     "execution_count": 41,
     "metadata": {},
     "output_type": "execute_result"
    }
   ],
   "source": [
    "tool_names"
   ]
  },
  {
   "cell_type": "code",
   "execution_count": null,
   "metadata": {
    "tags": []
   },
   "outputs": [],
   "source": [
    "input_str = 'cuanto es 2 + 3?'\n",
    "result, args, msg = smart_tool_selector(input_str, model, functions, tool_names)\n",
    "print(msg)\n",
    "print(args)\n",
    "print(result)"
   ]
  },
  {
   "cell_type": "code",
   "execution_count": null,
   "metadata": {
    "tags": []
   },
   "outputs": [],
   "source": [
    "input_str='muéstrame las ventas del cliente admin@platform.com'\n",
    "result, args, msg = smart_tool_selector(input_str, token_str, model, functions, tool_names)\n",
    "result"
   ]
  },
  {
   "cell_type": "code",
   "execution_count": 158,
   "metadata": {
    "tags": []
   },
   "outputs": [
    {
     "data": {
      "text/plain": [
       "'admin@platform.com'"
      ]
     },
     "execution_count": 158,
     "metadata": {},
     "output_type": "execute_result"
    }
   ],
   "source": [
    "TEST_MAIL"
   ]
  },
  {
   "cell_type": "markdown",
   "metadata": {},
   "source": [
    "## Stable old agent"
   ]
  },
  {
   "cell_type": "markdown",
   "metadata": {},
   "source": [
    "Problem: Langchain doc is wrong: https://api.python.langchain.com/en/latest/agents/langchain.agents.tool_calling_agent.base.create_tool_calling_agent.html#langchain.agents.tool_calling_agent.base.create_tool_calling_agent"
   ]
  },
  {
   "cell_type": "code",
   "execution_count": 36,
   "metadata": {
    "tags": []
   },
   "outputs": [
    {
     "ename": "TypeError",
     "evalue": "create_tool_calling_agent() got an unexpected keyword argument 'message_formatter'",
     "output_type": "error",
     "traceback": [
      "\u001b[0;31m---------------------------------------------------------------------------\u001b[0m",
      "\u001b[0;31mTypeError\u001b[0m                                 Traceback (most recent call last)",
      "Cell \u001b[0;32mIn[36], line 19\u001b[0m\n\u001b[1;32m     15\u001b[0m parser \u001b[38;5;241m=\u001b[39m JsonOutputParser(pydantic_object\u001b[38;5;241m=\u001b[39mResult)\n\u001b[1;32m     18\u001b[0m \u001b[38;5;66;03m# Create the agent message_formatter\u001b[39;00m\n\u001b[0;32m---> 19\u001b[0m agent \u001b[38;5;241m=\u001b[39m \u001b[43mcreate_tool_calling_agent\u001b[49m\u001b[43m(\u001b[49m\u001b[43mllm\u001b[49m\u001b[38;5;241;43m=\u001b[39;49m\u001b[43mllm\u001b[49m\u001b[43m,\u001b[49m\u001b[43m \u001b[49m\u001b[43mtools\u001b[49m\u001b[38;5;241;43m=\u001b[39;49m\u001b[43mtools_api\u001b[49m\u001b[43m,\u001b[49m\u001b[43m \u001b[49m\u001b[43mprompt\u001b[49m\u001b[38;5;241;43m=\u001b[39;49m\u001b[43mprompt\u001b[49m\u001b[43m,\u001b[49m\u001b[43m \u001b[49m\u001b[43mmessage_formatter\u001b[49m\u001b[38;5;241;43m=\u001b[39;49m\u001b[43mparser\u001b[49m\u001b[43m)\u001b[49m\n\u001b[1;32m     20\u001b[0m agent_executor \u001b[38;5;241m=\u001b[39m AgentExecutor(agent\u001b[38;5;241m=\u001b[39magent, tools\u001b[38;5;241m=\u001b[39mtools_api, verbose\u001b[38;5;241m=\u001b[39m\u001b[38;5;28;01mTrue\u001b[39;00m)\n\u001b[1;32m     22\u001b[0m \u001b[38;5;66;03m# Example usage:\u001b[39;00m\n\u001b[1;32m     23\u001b[0m \u001b[38;5;66;03m# token = 'your_actual_token_here'\u001b[39;00m\n\u001b[1;32m     24\u001b[0m \u001b[38;5;66;03m# base_url = 'https://api.yourdomain.com'\u001b[39;00m\n",
      "\u001b[0;31mTypeError\u001b[0m: create_tool_calling_agent() got an unexpected keyword argument 'message_formatter'"
     ]
    }
   ],
   "source": [
    "    \n",
    "# Define the prompt template\n",
    "prompt = ChatPromptTemplate.from_messages([\n",
    "    (\"system\", \"you're a helpful assistant who will use the {token} to use the tools to bring information to the user\"),\n",
    "    (\"human\", \"{input}\"),\n",
    "    (\"placeholder\", \"{agent_scratchpad}\"),\n",
    "])\n",
    "\n",
    "\n",
    "# Add the `get_sales` function to the list of tools\n",
    "tools_api = [get_last_sale, get_active_projects, count_sales_by_status, get_sales_by_customer] \n",
    "\n",
    "class Result(BaseModel):\n",
    "    data: str = Field(description=\"The API response returned by a tool\")\n",
    "\n",
    "parser = JsonOutputParser(pydantic_object=Result)\n",
    "\n",
    "\n",
    "# Create the agent message_formatter\n",
    "agent = create_tool_calling_agent(llm=llm, tools=tools_api, prompt=prompt, message_formatter=parser)\n",
    "agent_executor = AgentExecutor(agent=agent, tools=tools_api, verbose=True)\n",
    "\n",
    "# Example usage:\n",
    "# token = 'your_actual_token_here'\n",
    "# base_url = 'https://api.yourdomain.com'\n"
   ]
  },
  {
   "cell_type": "code",
   "execution_count": 37,
   "metadata": {},
   "outputs": [
    {
     "name": "stdout",
     "output_type": "stream",
     "text": [
      "Help on function create_tool_calling_agent in module langchain.agents.tool_calling_agent.base:\n",
      "\n",
      "create_tool_calling_agent(llm: langchain_core.language_models.base.BaseLanguageModel, tools: Sequence[langchain_core.tools.BaseTool], prompt: langchain_core.prompts.chat.ChatPromptTemplate) -> langchain_core.runnables.base.Runnable\n",
      "    Create an agent that uses tools.\n",
      "    \n",
      "    Args:\n",
      "        llm: LLM to use as the agent.\n",
      "        tools: Tools this agent has access to.\n",
      "        prompt: The prompt to use. See Prompt section below for more on the expected\n",
      "            input variables.\n",
      "    \n",
      "    Returns:\n",
      "        A Runnable sequence representing an agent. It takes as input all the same input\n",
      "        variables as the prompt passed in does. It returns as output either an\n",
      "        AgentAction or AgentFinish.\n",
      "    \n",
      "    Example:\n",
      "    \n",
      "        .. code-block:: python\n",
      "    \n",
      "            from langchain.agents import AgentExecutor, create_tool_calling_agent, tool\n",
      "            from langchain_anthropic import ChatAnthropic\n",
      "            from langchain_core.prompts import ChatPromptTemplate\n",
      "    \n",
      "            prompt = ChatPromptTemplate.from_messages(\n",
      "                [\n",
      "                    (\"system\", \"You are a helpful assistant\"),\n",
      "                    (\"placeholder\", \"{chat_history}\"),\n",
      "                    (\"human\", \"{input}\"),\n",
      "                    (\"placeholder\", \"{agent_scratchpad}\"),\n",
      "                ]\n",
      "            )\n",
      "            model = ChatAnthropic(model=\"claude-3-opus-20240229\")\n",
      "    \n",
      "            @tool\n",
      "            def magic_function(input: int) -> int:\n",
      "                \"\"\"Applies a magic function to an input.\"\"\"\n",
      "                return input + 2\n",
      "    \n",
      "            tools = [magic_function]\n",
      "    \n",
      "            agent = create_tool_calling_agent(model, tools, prompt)\n",
      "            agent_executor = AgentExecutor(agent=agent, tools=tools, verbose=True)\n",
      "    \n",
      "            agent_executor.invoke({\"input\": \"what is the value of magic_function(3)?\"})\n",
      "    \n",
      "            # Using with chat history\n",
      "            from langchain_core.messages import AIMessage, HumanMessage\n",
      "            agent_executor.invoke(\n",
      "                {\n",
      "                    \"input\": \"what's my name?\",\n",
      "                    \"chat_history\": [\n",
      "                        HumanMessage(content=\"hi! my name is bob\"),\n",
      "                        AIMessage(content=\"Hello Bob! How can I assist you today?\"),\n",
      "                    ],\n",
      "                }\n",
      "            )\n",
      "    \n",
      "    Prompt:\n",
      "    \n",
      "        The agent prompt must have an `agent_scratchpad` key that is a\n",
      "            ``MessagesPlaceholder``. Intermediate agent actions and tool output\n",
      "            messages will be passed in here.\n",
      "\n"
     ]
    }
   ],
   "source": [
    "help(create_tool_calling_agent)"
   ]
  },
  {
   "cell_type": "code",
   "execution_count": 15,
   "metadata": {
    "tags": []
   },
   "outputs": [
    {
     "data": {
      "text/plain": [
       "'admin@platform.com'"
      ]
     },
     "execution_count": 15,
     "metadata": {},
     "output_type": "execute_result"
    }
   ],
   "source": [
    "TEST_MAIL"
   ]
  },
  {
   "cell_type": "code",
   "execution_count": 18,
   "metadata": {},
   "outputs": [
    {
     "data": {
      "text/plain": [
       "{'input': \"('cuantas ventas en la etapa de documentos tengo?',) mi auth token: 2356|Dj2SBZSQ9VhrYZHef5LQ4CmxxLD4WOphIdsNEoIkf255bcba\"}"
      ]
     },
     "execution_count": 18,
     "metadata": {},
     "output_type": "execute_result"
    }
   ],
   "source": [
    "input_data"
   ]
  },
  {
   "cell_type": "code",
   "execution_count": 20,
   "metadata": {},
   "outputs": [
    {
     "data": {
      "text/plain": [
       "\"('cuantas ventas en la etapa de documentos tengo?',) mi auth token: 2356|Dj2SBZSQ9VhrYZHef5LQ4CmxxLD4WOphIdsNEoIkf255bcba\""
      ]
     },
     "execution_count": 20,
     "metadata": {},
     "output_type": "execute_result"
    }
   ],
   "source": [
    "inp"
   ]
  },
  {
   "cell_type": "code",
   "execution_count": 26,
   "metadata": {},
   "outputs": [
    {
     "data": {
      "text/plain": [
       "'cuantas ventas en la etapa de documentos tengo? mi auth token: 2356|Dj2SBZSQ9VhrYZHef5LQ4CmxxLD4WOphIdsNEoIkf255bcba'"
      ]
     },
     "execution_count": 26,
     "metadata": {},
     "output_type": "execute_result"
    }
   ],
   "source": [
    "inp"
   ]
  },
  {
   "cell_type": "code",
   "execution_count": 33,
   "metadata": {},
   "outputs": [],
   "source": [
    "input_str = \"cuantas ventas en la etapa de documentos tengo?\"\n",
    "\n",
    "input_data = {\n",
    "        \"input\": f\"{input_str} {token_str}\"\n",
    "}\n",
    "\n",
    "inp = f\"{input_str} {token_str}\"\n",
    "\n",
    "input_data_old = {\n",
    "        \"input\": input_str,\n",
    "        \"token\": token\n",
    "}"
   ]
  },
  {
   "cell_type": "code",
   "execution_count": 34,
   "metadata": {
    "tags": []
   },
   "outputs": [
    {
     "name": "stdout",
     "output_type": "stream",
     "text": [
      "\n",
      "\n",
      "\u001b[1m> Entering new AgentExecutor chain...\u001b[0m\n",
      "\u001b[32;1m\u001b[1;3m\n",
      "Invoking: `count_sales_by_status` with `{'token': '2356|Dj2SBZSQ9VhrYZHef5LQ4CmxxLD4WOphIdsNEoIkf255bcba', 'status': 'documents'}`\n",
      "\n",
      "\n",
      "\u001b[0m\u001b[38;5;200m\u001b[1;3m13\u001b[0m\u001b[32;1m\u001b[1;3mTienes un total de 13 ventas en la etapa de documentos.\u001b[0m\n",
      "\n",
      "\u001b[1m> Finished chain.\u001b[0m\n"
     ]
    },
    {
     "data": {
      "text/plain": [
       "{'input': 'cuantas ventas en la etapa de documentos tengo?',\n",
       " 'token': '2356|Dj2SBZSQ9VhrYZHef5LQ4CmxxLD4WOphIdsNEoIkf255bcba',\n",
       " 'output': 'Tienes un total de 13 ventas en la etapa de documentos.'}"
      ]
     },
     "execution_count": 34,
     "metadata": {},
     "output_type": "execute_result"
    }
   ],
   "source": [
    "\n",
    "\n",
    "# Invoke the agent\n",
    "agent_executor.invoke(input_data_old)"
   ]
  },
  {
   "cell_type": "markdown",
   "metadata": {},
   "source": [
    "## Demo from zero"
   ]
  },
  {
   "cell_type": "code",
   "execution_count": null,
   "metadata": {},
   "outputs": [],
   "source": []
  },
  {
   "cell_type": "code",
   "execution_count": null,
   "metadata": {},
   "outputs": [],
   "source": [
    "import requests\n",
    "from langchain.chat_models import ChatOpenAI\n",
    "from langchain.chains import SimpleChain\n",
    "\n",
    "# Configuración del modelo\n",
    "model = ChatOpenAI(api_key='your_openai_api_key')\n",
    "\n",
    "# Definición de herramientas\n",
    "def query_api(endpoint, params):\n",
    "    response = requests.get(endpoint, params=params)\n",
    "    return response.json()\n",
    "\n",
    "tools = {\n",
    "    'query_api': GetSalesByCustomerTool\n",
    "}\n",
    "\n",
    "# Creación del prompt\n",
    "prompt = \"\"\"\n",
    "Actúa como un asistente inteligente que consulta la API de nuestro cliente. Cuando recibas una solicitud, utiliza las herramientas disponibles para obtener la información necesaria y devuélvela en formato JSON.\n",
    "\n",
    "Solicitud: {user_input}\n",
    "\"\"\"\n",
    "\n",
    "# Configuración del parser\n",
    "def parse_response(response):\n",
    "    return {\n",
    "        'status': response.get('status'),\n",
    "        'data': response.get('data')\n",
    "    }\n",
    "\n",
    "# Integración de LangChain\n",
    "chain = SimpleChain(\n",
    "    model=model,\n",
    "    prompt=prompt,\n",
    "    tools=tools,\n",
    "    parser=parse_response\n",
    ")\n",
    "\n",
    "# Uso del chatbot\n",
    "user_input = \"Consultar datos del cliente con ID 123\"\n",
    "response = chain.run(user_input)\n",
    "print(response)"
   ]
  },
  {
   "cell_type": "markdown",
   "metadata": {},
   "source": [
    "## Demo json out parser langchain doc"
   ]
  },
  {
   "cell_type": "code",
   "execution_count": 19,
   "metadata": {
    "tags": []
   },
   "outputs": [],
   "source": [
    "from langchain_core.output_parsers import JsonOutputParser\n",
    "from langchain_core.prompts import PromptTemplate\n",
    "from langchain_core.pydantic_v1 import BaseModel, Field\n",
    "from langchain_openai import ChatOpenAI\n",
    "\n",
    "class Add(BaseModel):\n",
    "    \"\"\"Add two integers together.\"\"\"\n",
    "\n",
    "    a: int = Field(..., description=\"First integer\")\n",
    "    b: int = Field(..., description=\"Second integer\")\n",
    "\n",
    "\n",
    "class Multiply(BaseModel):\n",
    "    \"\"\"Multiply two integers together.\"\"\"\n",
    "\n",
    "    a: int = Field(..., description=\"First integer\")\n",
    "    b: int = Field(..., description=\"Second integer\")\n",
    "\n",
    "\n",
    "tools = [Add, Multiply]\n",
    "\n",
    "llm_with_tools = model.bind_tools(tools)\n",
    "\n",
    "\n",
    "\n",
    "\n",
    "# Define your desired data structure.\n",
    "class Result(BaseModel):\n",
    "    data: str = Field(description=\"Data with the API response\")\n",
    "\n",
    "\n",
    "# And a query intented to prompt a language model to populate the data structure.\n",
    "\n",
    "input_str = \"Can you tell me my auth token?\"\n",
    "\n",
    "input_data = {\n",
    "    \"input\": f\"{input_str} {token_str}\"\n",
    "}\n",
    "\n",
    "# Set up a parser + inject instructions into the prompt template.\n",
    "parser = JsonOutputParser(pydantic_object=Result)\n",
    "\n",
    "prompt = PromptTemplate(\n",
    "    template=\"Answer the user query.\\n{format_instructions}\\n{query}\\n\",\n",
    "    input_variables=[\"query\"],\n",
    "    partial_variables={\"format_instructions\": parser.get_format_instructions()},\n",
    ")\n",
    "\n",
    "chain = prompt | model | parser\n",
    "\n",
    "#chain.invoke({\"query\": input_data})"
   ]
  },
  {
   "cell_type": "code",
   "execution_count": null,
   "metadata": {},
   "outputs": [],
   "source": []
  },
  {
   "cell_type": "code",
   "execution_count": 20,
   "metadata": {
    "tags": []
   },
   "outputs": [
    {
     "data": {
      "text/plain": [
       "AIMessage(content='', additional_kwargs={'tool_calls': [{'id': 'call_I3zUsKh7jKOKHSRGZ1VZiUb0', 'function': {'arguments': '{\"a\":3,\"b\":12}', 'name': 'Multiply'}, 'type': 'function'}]}, response_metadata={'token_usage': {'completion_tokens': 18, 'prompt_tokens': 95, 'total_tokens': 113}, 'model_name': 'gpt-3.5-turbo-0125', 'system_fingerprint': None, 'finish_reason': 'tool_calls', 'logprobs': None}, id='run-d7822315-c674-483a-bee9-567e1cd386b4-0', tool_calls=[{'name': 'Multiply', 'args': {'a': 3, 'b': 12}, 'id': 'call_I3zUsKh7jKOKHSRGZ1VZiUb0'}], usage_metadata={'input_tokens': 95, 'output_tokens': 18, 'total_tokens': 113})"
      ]
     },
     "execution_count": 20,
     "metadata": {},
     "output_type": "execute_result"
    }
   ],
   "source": []
  },
  {
   "cell_type": "markdown",
   "metadata": {},
   "source": [
    "##  Chatgpt tests"
   ]
  },
  {
   "cell_type": "code",
   "execution_count": 24,
   "metadata": {
    "tags": []
   },
   "outputs": [
    {
     "ename": "ImportError",
     "evalue": "cannot import name 'ToolSelector' from 'langchain.tools' (C:\\Users\\starm\\AppData\\Roaming\\Python\\Python311\\site-packages\\langchain\\tools\\__init__.py)",
     "output_type": "error",
     "traceback": [
      "\u001b[1;31m---------------------------------------------------------------------------\u001b[0m",
      "\u001b[1;31mImportError\u001b[0m                               Traceback (most recent call last)",
      "Cell \u001b[1;32mIn[24], line 1\u001b[0m\n\u001b[1;32m----> 1\u001b[0m \u001b[38;5;28;01mfrom\u001b[39;00m \u001b[38;5;21;01mlangchain\u001b[39;00m\u001b[38;5;21;01m.\u001b[39;00m\u001b[38;5;21;01mtools\u001b[39;00m \u001b[38;5;28;01mimport\u001b[39;00m Tool, ToolSelector\n",
      "\u001b[1;31mImportError\u001b[0m: cannot import name 'ToolSelector' from 'langchain.tools' (C:\\Users\\starm\\AppData\\Roaming\\Python\\Python311\\site-packages\\langchain\\tools\\__init__.py)"
     ]
    }
   ],
   "source": [
    "from langchain.tools import Tool, ToolSelector"
   ]
  },
  {
   "cell_type": "code",
   "execution_count": 25,
   "metadata": {
    "tags": []
   },
   "outputs": [
    {
     "ename": "ImportError",
     "evalue": "cannot import name 'Model' from 'langchain' (C:\\Users\\starm\\AppData\\Roaming\\Python\\Python311\\site-packages\\langchain\\__init__.py)",
     "output_type": "error",
     "traceback": [
      "\u001b[1;31m---------------------------------------------------------------------------\u001b[0m",
      "\u001b[1;31mImportError\u001b[0m                               Traceback (most recent call last)",
      "Cell \u001b[1;32mIn[25], line 3\u001b[0m\n\u001b[0;32m      1\u001b[0m \u001b[38;5;28;01mimport\u001b[39;00m \u001b[38;5;21;01mos\u001b[39;00m\n\u001b[0;32m      2\u001b[0m \u001b[38;5;28;01mimport\u001b[39;00m \u001b[38;5;21;01mopenai\u001b[39;00m\n\u001b[1;32m----> 3\u001b[0m \u001b[38;5;28;01mfrom\u001b[39;00m \u001b[38;5;21;01mlangchain\u001b[39;00m \u001b[38;5;28;01mimport\u001b[39;00m LLMChain, Prompt, Model, JsonOutputParser\n\u001b[0;32m      4\u001b[0m \u001b[38;5;28;01mfrom\u001b[39;00m \u001b[38;5;21;01mlangchain\u001b[39;00m\u001b[38;5;21;01m.\u001b[39;00m\u001b[38;5;21;01mtools\u001b[39;00m \u001b[38;5;28;01mimport\u001b[39;00m Tool\n\u001b[0;32m      6\u001b[0m \u001b[38;5;66;03m# Set your OpenAI API key\u001b[39;00m\n",
      "\u001b[1;31mImportError\u001b[0m: cannot import name 'Model' from 'langchain' (C:\\Users\\starm\\AppData\\Roaming\\Python\\Python311\\site-packages\\langchain\\__init__.py)"
     ]
    }
   ],
   "source": [
    "import os\n",
    "import openai\n",
    "from langchain import LLMChain, Prompt, Model, JsonOutputParser\n",
    "from langchain.tools import Tool\n",
    "\n",
    "# Set your OpenAI API key\n",
    "openai.api_key = 'your-openai-api-key'\n",
    "\n",
    "# Define the prompt template\n",
    "prompt_template = \"\"\"\n",
    "You are a helpful assistant. Answer the following question in a JSON format. If the question involves arithmetic calculations, use the provided tools to compute the answer.\n",
    "Question: {question}\n",
    "\"\"\"\n",
    "\n",
    "# Create the Prompt object\n",
    "prompt = Prompt(template=prompt_template)\n",
    "\n",
    "# Define the model (ChatGPT)\n",
    "model = Model(\n",
    "    model_name=\"gpt-3.5-turbo\",  # You can change this to the desired model\n",
    "    max_tokens=150  # Adjust based on your needs\n",
    ")\n",
    "\n",
    "# Define the summation tool\n",
    "def sum_tool(question):\n",
    "    try:\n",
    "        # Extract numbers from the question and calculate the sum\n",
    "        numbers = [float(num) for num in question.split() if num.replace('.', '', 1).isdigit()]\n",
    "        result = sum(numbers)\n",
    "        return {\"result\": result}\n",
    "    except Exception as e:\n",
    "        return {\"error\": str(e)}\n",
    "\n",
    "# Create a Tool object for the summation tool\n",
    "sum_tool_obj = Tool(\n",
    "    name=\"SumTool\",\n",
    "    description=\"Performs summation of numbers.\",\n",
    "    func=sum_tool\n",
    ")\n",
    "\n",
    "# Define the multiplication tool\n",
    "def multiply_tool(question):\n",
    "    try:\n",
    "        # Extract numbers from the question and calculate the product\n",
    "        numbers = [float(num) for num in question.split() if num.replace('.', '', 1).isdigit()]\n",
    "        result = 1\n",
    "        for num in numbers:\n",
    "            result *= num\n",
    "        return {\"result\": result}\n",
    "    except Exception as e:\n",
    "        return {\"error\": str(e)}\n",
    "\n",
    "# Create a Tool object for the multiplication tool\n",
    "multiply_tool_obj = Tool(\n",
    "    name=\"MultiplyTool\",\n",
    "    description=\"Performs multiplication of numbers.\",\n",
    "    func=multiply_tool\n",
    ")\n",
    "\n",
    "# Define the JSON output parser\n",
    "json_output_parser = JsonOutputParser()\n",
    "\n",
    "# Create the chain with tools\n",
    "chain = LLMChain(\n",
    "    prompt=prompt,\n",
    "    model=model,\n",
    "    tools=[sum_tool_obj, multiply_tool_obj],\n",
    "    output_parser=json_output_parser\n",
    ")\n",
    "\n",
    "# Define a function to run the chain\n",
    "def run_chain(question):\n",
    "    input_data = {\"question\": question}\n",
    "    result = chain.run(input_data)\n",
    "    return result\n",
    "\n",
    "# Example usage\n",
    "question = \"What is the sum of 5 and 3?\"\n",
    "response = run_chain(question)\n",
    "print(response)\n",
    "\n",
    "# Another example\n",
    "question = \"What is the product of 5 and 3?\"\n",
    "response = run_chain(question)\n",
    "print(response)\n"
   ]
  },
  {
   "cell_type": "markdown",
   "metadata": {},
   "source": [
    "## Test YT LangChain Tutorial (Python) #6: Self-Reasoning Agents with Tools\n",
    "\n",
    "Video: https://www.youtube.com/watch?v=uyAyeUcXps8"
   ]
  },
  {
   "cell_type": "code",
   "execution_count": 16,
   "metadata": {
    "tags": []
   },
   "outputs": [],
   "source": [
    "from langchain_core.prompts import ChatPromptTemplate, MessagesPlaceholder\n",
    "from langchain.agents import create_openai_functions_agent, AgentExecutor"
   ]
  },
  {
   "cell_type": "code",
   "execution_count": 17,
   "metadata": {
    "tags": []
   },
   "outputs": [
    {
     "data": {
      "text/plain": [
       "[CountSalesTool(), GetSalesByCustomerTool(), GetSalesBetweenDatesTool()]"
      ]
     },
     "execution_count": 17,
     "metadata": {},
     "output_type": "execute_result"
    }
   ],
   "source": [
    "tools"
   ]
  },
  {
   "cell_type": "code",
   "execution_count": 18,
   "metadata": {
    "tags": []
   },
   "outputs": [
    {
     "data": {
      "text/plain": [
       "'admin@platform.com'"
      ]
     },
     "execution_count": 18,
     "metadata": {},
     "output_type": "execute_result"
    }
   ],
   "source": [
    "TEST_MAIL"
   ]
  },
  {
   "cell_type": "code",
   "execution_count": 41,
   "metadata": {},
   "outputs": [],
   "source": [
    "#added this line from langchian docs\n",
    "llm_with_tools = model.bind_tools(tools)"
   ]
  },
  {
   "cell_type": "code",
   "execution_count": 63,
   "metadata": {
    "tags": []
   },
   "outputs": [
    {
     "name": "stdout",
     "output_type": "stream",
     "text": [
      "\n",
      "\n",
      "\u001b[1m> Entering new AgentExecutor chain...\u001b[0m\n",
      "\u001b[32;1m\u001b[1;3m\n",
      "Invoking: `get_sales_by_customer` with `{'token': '2360|7AW3cznNikqW7Zy9PlghuOAZLl0LhRpzvRQes2CG8bca1bab', 'email': 'admin@platform.com'}`\n",
      "\n",
      "\n",
      "\u001b[0m\u001b[33;1m\u001b[1;3m\"[{\\\"property_name\\\":\\\"TR-04-070\\\",\\\"currency\\\":\\\"MXN\\\",\\\"reserve_amount\\\":3500,\\\"property_amount\\\":420000,\\\"property_discount_amount\\\":0.0,\\\"down_payment_amount\\\":126000.0,\\\"down_payment_percent\\\":30,\\\"number_installments\\\":120,\\\"installments_amount\\\":294000.0,\\\"status\\\":{\\\"name\\\":\\\"Apartado\\\",\\\"short_code\\\":\\\"reserved\\\",\\\"percent\\\":25},\\\"amount_total\\\":420000.0,\\\"amount_paid\\\":0,\\\"amount_remaining\\\":420000.0,\\\"next_payment_date\\\":\\\"2024-07-18T06:00:00.000000Z\\\",\\\"advance_percent\\\":0.0,\\\"overdue_installments_count\\\":0,\\\"overdue_installments_amount\\\":0},{\\\"property_name\\\":\\\"TR-04-055\\\",\\\"currency\\\":\\\"MXN\\\",\\\"reserve_amount\\\":3500,\\\"property_amount\\\":420000,\\\"property_discount_amount\\\":0.0,\\\"down_payment_amount\\\":126000.0,\\\"down_payment_percent\\\":30,\\\"number_installments\\\":24,\\\"installments_amount\\\":294000.0,\\\"status\\\":{\\\"name\\\":\\\"Apartado\\\",\\\"short_code\\\":\\\"reserved\\\",\\\"percent\\\":25},\\\"amount_total\\\":420000.0,\\\"amount_paid\\\":0,\\\"amount_remaining\\\":420000.0,\\\"next_payment_date\\\":\\\"2024-07-18T06:00:00.000000Z\\\",\\\"advance_percent\\\":0.0,\\\"overdue_installments_count\\\":0,\\\"overdue_installments_amount\\\":0},{\\\"property_name\\\":\\\"TR-04-069\\\",\\\"currency\\\":\\\"MXN\\\",\\\"reserve_amount\\\":3500,\\\"property_amount\\\":420000,\\\"property_discount_amount\\\":21000.0,\\\"down_payment_amount\\\":119700.0,\\\"down_payment_percent\\\":30,\\\"number_installments\\\":24,\\\"installments_amount\\\":279300.0,\\\"status\\\":{\\\"name\\\":\\\"Apartado\\\",\\\"short_code\\\":\\\"reserved\\\",\\\"percent\\\":25},\\\"amount_total\\\":399000.0,\\\"amount_paid\\\":0,\\\"amount_remaining\\\":399000.0,\\\"next_payment_date\\\":\\\"2024-08-02T06:00:00.000000Z\\\",\\\"advance_percent\\\":0.0,\\\"overdue_installments_count\\\":0,\\\"overdue_installments_amount\\\":0},{\\\"property_name\\\":\\\"TR-04-111\\\",\\\"currency\\\":\\\"MXN\\\",\\\"reserve_amount\\\":3500,\\\"property_amount\\\":420000,\\\"property_discount_amount\\\":0.0,\\\"down_payment_amount\\\":210000.0,\\\"down_payment_percent\\\":50,\\\"number_installments\\\":24,\\\"installments_amount\\\":210000.0,\\\"status\\\":{\\\"name\\\":\\\"Contrato firmado\\\",\\\"short_code\\\":\\\"contract\\\",\\\"percent\\\":75},\\\"amount_total\\\":420000.0,\\\"amount_paid\\\":0,\\\"amount_remaining\\\":420000.0,\\\"next_payment_date\\\":\\\"2024-08-02T06:00:00.000000Z\\\",\\\"advance_percent\\\":0.0,\\\"overdue_installments_count\\\":0,\\\"overdue_installments_amount\\\":0},{\\\"property_name\\\":\\\"TR-04-068\\\",\\\"currency\\\":\\\"MXN\\\",\\\"reserve_amount\\\":3500,\\\"property_amount\\\":420000,\\\"property_discount_amount\\\":0.0,\\\"down_payment_amount\\\":126000.0,\\\"down_payment_percent\\\":30,\\\"number_installments\\\":24,\\\"installments_amount\\\":294000.0,\\\"status\\\":{\\\"name\\\":\\\"Contrato firmado\\\",\\\"short_code\\\":\\\"contract\\\",\\\"percent\\\":75},\\\"amount_total\\\":420000.0,\\\"amount_paid\\\":0,\\\"amount_remaining\\\":420000.0,\\\"next_payment_date\\\":\\\"2024-08-02T06:00:00.000000Z\\\",\\\"advance_percent\\\":0.0,\\\"overdue_installments_count\\\":0,\\\"overdue_installments_amount\\\":0},{\\\"property_name\\\":\\\"TR-04-056\\\",\\\"currency\\\":\\\"MXN\\\",\\\"reserve_amount\\\":3500,\\\"property_amount\\\":420000,\\\"property_discount_amount\\\":0.0,\\\"down_payment_amount\\\":126000.0,\\\"down_payment_percent\\\":30,\\\"number_installments\\\":24,\\\"installments_amount\\\":294000.0,\\\"status\\\":{\\\"name\\\":\\\"Documentaci\\u00f3n\\\",\\\"short_code\\\":\\\"documents\\\",\\\"percent\\\":50},\\\"amount_total\\\":420000.0,\\\"amount_paid\\\":0,\\\"amount_remaining\\\":420000.0,\\\"next_payment_date\\\":\\\"2024-08-02T06:00:00.000000Z\\\",\\\"advance_percent\\\":0.0,\\\"overdue_installments_count\\\":0,\\\"overdue_installments_amount\\\":0},{\\\"property_name\\\":\\\"TR-04-059\\\",\\\"currency\\\":\\\"MXN\\\",\\\"reserve_amount\\\":3500,\\\"property_amount\\\":420000,\\\"property_discount_amount\\\":0.0,\\\"down_payment_amount\\\":126000.0,\\\"down_payment_percent\\\":30,\\\"number_installments\\\":24,\\\"installments_amount\\\":294000.0,\\\"status\\\":{\\\"name\\\":\\\"Contrato firmado\\\",\\\"short_code\\\":\\\"contract\\\",\\\"percent\\\":75},\\\"amount_total\\\":420000.0,\\\"amount_paid\\\":0,\\\"amount_remaining\\\":420000.0,\\\"next_payment_date\\\":\\\"2024-08-02T06:00:00.000000Z\\\",\\\"advance_percent\\\":0.0,\\\"overdue_installments_count\\\":0,\\\"overdue_installments_amount\\\":0},{\\\"property_name\\\":\\\"TR-04-061\\\",\\\"currency\\\":\\\"MXN\\\",\\\"reserve_amount\\\":3500,\\\"property_amount\\\":420000,\\\"property_discount_amount\\\":0.0,\\\"down_payment_amount\\\":126000.0,\\\"down_payment_percent\\\":30,\\\"number_installments\\\":24,\\\"installments_amount\\\":294000.0,\\\"status\\\":{\\\"name\\\":\\\"Documentaci\\u00f3n\\\",\\\"short_code\\\":\\\"documents\\\",\\\"percent\\\":50},\\\"amount_total\\\":420000.0,\\\"amount_paid\\\":0,\\\"amount_remaining\\\":420000.0,\\\"next_payment_date\\\":\\\"2024-08-02T06:00:00.000000Z\\\",\\\"advance_percent\\\":0.0,\\\"overdue_installments_count\\\":0,\\\"overdue_installments_amount\\\":0},{\\\"property_name\\\":\\\"TR-04-060\\\",\\\"currency\\\":\\\"MXN\\\",\\\"reserve_amount\\\":3500,\\\"property_amount\\\":420000,\\\"property_discount_amount\\\":0.0,\\\"down_payment_amount\\\":126000.0,\\\"down_payment_percent\\\":30,\\\"number_installments\\\":24,\\\"installments_amount\\\":294000.0,\\\"status\\\":{\\\"name\\\":\\\"Contrato firmado\\\",\\\"short_code\\\":\\\"contract\\\",\\\"percent\\\":75},\\\"amount_total\\\":420000.0,\\\"amount_paid\\\":0,\\\"amount_remaining\\\":420000.0,\\\"next_payment_date\\\":\\\"2024-08-02T06:00:00.000000Z\\\",\\\"advance_percent\\\":0.0,\\\"overdue_installments_count\\\":0,\\\"overdue_installments_amount\\\":0},{\\\"property_name\\\":\\\"TR-04-049\\\",\\\"currency\\\":\\\"MXN\\\",\\\"reserve_amount\\\":3500,\\\"property_amount\\\":1126384,\\\"property_discount_amount\\\":0.0,\\\"down_payment_amount\\\":337915.0,\\\"down_payment_percent\\\":30,\\\"number_installments\\\":24,\\\"installments_amount\\\":788469.0,\\\"status\\\":{\\\"name\\\":\\\"Documentaci\\u00f3n\\\",\\\"short_code\\\":\\\"documents\\\",\\\"percent\\\":50},\\\"amount_total\\\":1126384.0,\\\"amount_paid\\\":0,\\\"amount_remaining\\\":1126384.0,\\\"next_payment_date\\\":\\\"2024-08-02T06:00:00.000000Z\\\",\\\"advance_percent\\\":0.0,\\\"overdue_installments_count\\\":0,\\\"overdue_installments_amount\\\":0},{\\\"property_name\\\":\\\"TR-04-048\\\",\\\"currency\\\":\\\"MXN\\\",\\\"reserve_amount\\\":3500,\\\"property_amount\\\":420000,\\\"property_discount_amount\\\":0.0,\\\"down_payment_amount\\\":0.0,\\\"down_payment_percent\\\":0,\\\"number_installments\\\":120,\\\"installments_amount\\\":420000.0,\\\"status\\\":{\\\"name\\\":\\\"Cancelada\\\",\\\"short_code\\\":\\\"canceled\\\",\\\"percent\\\":100},\\\"amount_total\\\":420000.0,\\\"amount_paid\\\":0,\\\"amount_remaining\\\":420000.0,\\\"next_payment_date\\\":\\\"2024-08-02T06:00:00.000000Z\\\",\\\"advance_percent\\\":0.0,\\\"overdue_installments_count\\\":0,\\\"overdue_installments_amount\\\":0},{\\\"property_name\\\":\\\"TR-04-046\\\",\\\"currency\\\":\\\"MXN\\\",\\\"reserve_amount\\\":3500,\\\"property_amount\\\":420000,\\\"property_discount_amount\\\":0.0,\\\"down_payment_amount\\\":126000.0,\\\"down_payment_percent\\\":30,\\\"number_installments\\\":24,\\\"installments_amount\\\":294000.0,\\\"status\\\":{\\\"name\\\":\\\"Cancelada\\\",\\\"short_code\\\":\\\"canceled\\\",\\\"percent\\\":100},\\\"amount_total\\\":420000.0,\\\"amount_paid\\\":0,\\\"amount_remaining\\\":420000.0,\\\"next_payment_date\\\":\\\"2024-08-02T06:00:00.000000Z\\\",\\\"advance_percent\\\":0.0,\\\"overdue_installments_count\\\":0,\\\"overdue_installments_amount\\\":0},{\\\"property_name\\\":\\\"TR-04-040\\\",\\\"currency\\\":\\\"MXN\\\",\\\"reserve_amount\\\":3500,\\\"property_amount\\\":850360,\\\"property_discount_amount\\\":42518.0,\\\"down_payment_amount\\\":0.0,\\\"down_payment_percent\\\":0,\\\"number_installments\\\":57,\\\"installments_amount\\\":807842.0,\\\"status\\\":{\\\"name\\\":\\\"Documentaci\\u00f3n\\\",\\\"short_code\\\":\\\"documents\\\",\\\"percent\\\":50},\\\"amount_total\\\":807842.0,\\\"amount_paid\\\":0,\\\"amount_remaining\\\":807842.0,\\\"next_payment_date\\\":\\\"2024-07-02T06:00:00.000000Z\\\",\\\"advance_percent\\\":0.0,\\\"overdue_installments_count\\\":1,\\\"overdue_installments_amount\\\":14172},{\\\"property_name\\\":\\\"TR-04-037\\\",\\\"currency\\\":\\\"MXN\\\",\\\"reserve_amount\\\":3500,\\\"property_amount\\\":400456,\\\"property_discount_amount\\\":0.0,\\\"down_payment_amount\\\":120136.0,\\\"down_payment_percent\\\":30,\\\"number_installments\\\":24,\\\"installments_amount\\\":280320.0,\\\"status\\\":{\\\"name\\\":\\\"Contrato firmado\\\",\\\"short_code\\\":\\\"contract\\\",\\\"percent\\\":75},\\\"amount_total\\\":400456.0,\\\"amount_paid\\\":0,\\\"amount_remaining\\\":400456.0,\\\"next_payment_date\\\":\\\"2024-07-02T06:00:00.000000Z\\\",\\\"advance_percent\\\":0.0,\\\"overdue_installments_count\\\":0,\\\"overdue_installments_amount\\\":0},{\\\"property_name\\\":\\\"TR-04-036\\\",\\\"currency\\\":\\\"MXN\\\",\\\"reserve_amount\\\":3500,\\\"property_amount\\\":407638,\\\"property_discount_amount\\\":0.0,\\\"down_payment_amount\\\":122291.0,\\\"down_payment_percent\\\":30,\\\"number_installments\\\":24,\\\"installments_amount\\\":285347.0,\\\"status\\\":{\\\"name\\\":\\\"Contrato firmado\\\",\\\"short_code\\\":\\\"contract\\\",\\\"percent\\\":75},\\\"amount_total\\\":407638.0,\\\"amount_paid\\\":0,\\\"amount_remaining\\\":407638.0,\\\"next_payment_date\\\":\\\"2024-07-02T06:00:00.000000Z\\\",\\\"advance_percent\\\":0.0,\\\"overdue_installments_count\\\":0,\\\"overdue_installments_amount\\\":0},{\\\"property_name\\\":\\\"TR-04-034\\\",\\\"currency\\\":\\\"MXN\\\",\\\"reserve_amount\\\":3500,\\\"property_amount\\\":422002,\\\"property_discount_amount\\\":0.0,\\\"down_payment_amount\\\":126600.0,\\\"down_payment_percent\\\":30,\\\"number_installments\\\":24,\\\"installments_amount\\\":295402.0,\\\"status\\\":{\\\"name\\\":\\\"Contrato firmado\\\",\\\"short_code\\\":\\\"contract\\\",\\\"percent\\\":75},\\\"amount_total\\\":422002.0,\\\"amount_paid\\\":61540,\\\"amount_remaining\\\":360462.0,\\\"next_payment_date\\\":\\\"2024-07-02T06:00:00.000000Z\\\",\\\"advance_percent\\\":14.5828692755,\\\"overdue_installments_count\\\":0,\\\"overdue_installments_amount\\\":0},{\\\"property_name\\\":\\\"TR-04-031\\\",\\\"currency\\\":\\\"MXN\\\",\\\"reserve_amount\\\":3500,\\\"property_amount\\\":443562,\\\"property_discount_amount\\\":0.0,\\\"down_payment_amount\\\":133068.0,\\\"down_payment_percent\\\":30,\\\"number_installments\\\":24,\\\"installments_amount\\\":310494.0,\\\"status\\\":{\\\"name\\\":\\\"Documentaci\\u00f3n\\\",\\\"short_code\\\":\\\"documents\\\",\\\"percent\\\":50},\\\"amount_total\\\":443562.0,\\\"amount_paid\\\":0,\\\"amount_remaining\\\":443562.0,\\\"next_payment_date\\\":\\\"2024-07-02T06:00:00.000000Z\\\",\\\"advance_percent\\\":0.0,\\\"overdue_installments_count\\\":0,\\\"overdue_installments_amount\\\":0},{\\\"property_name\\\":\\\"TR-04-039\\\",\\\"currency\\\":\\\"MXN\\\",\\\"reserve_amount\\\":3500,\\\"property_amount\\\":386078,\\\"property_discount_amount\\\":38607.8,\\\"down_payment_amount\\\":69494.0,\\\"down_payment_percent\\\":20,\\\"number_installments\\\":24,\\\"installments_amount\\\":277976.2,\\\"status\\\":{\\\"name\\\":\\\"Contrato firmado\\\",\\\"short_code\\\":\\\"contract\\\",\\\"percent\\\":75},\\\"amount_total\\\":347470.2,\\\"amount_paid\\\":81076,\\\"amount_remaining\\\":266394.2,\\\"next_payment_date\\\":\\\"2024-09-02T06:00:00.000000Z\\\",\\\"advance_percent\\\":23.3332239714,\\\"overdue_installments_count\\\":0,\\\"overdue_installments_amount\\\":0},{\\\"property_name\\\":\\\"TR-04-038\\\",\\\"currency\\\":\\\"MXN\\\",\\\"reserve_amount\\\":3500,\\\"property_amount\\\":393260,\\\"property_discount_amount\\\":19663.0,\\\"down_payment_amount\\\":74719.4,\\\"down_payment_percent\\\":20,\\\"number_installments\\\":50,\\\"installments_amount\\\":298877.6,\\\"status\\\":{\\\"name\\\":\\\"Contrato firmado\\\",\\\"short_code\\\":\\\"contract\\\",\\\"percent\\\":75},\\\"amount_total\\\":373597.0,\\\"amount_paid\\\":0,\\\"amount_remaining\\\":373597.0,\\\"next_payment_date\\\":\\\"2024-07-02T06:00:00.000000Z\\\",\\\"advance_percent\\\":0.0,\\\"overdue_installments_count\\\":0,\\\"overdue_installments_amount\\\":0},{\\\"property_name\\\":\\\"TR-04-047\\\",\\\"currency\\\":\\\"MXN\\\",\\\"reserve_amount\\\":3500,\\\"property_amount\\\":420000,\\\"property_discount_amount\\\":33600.0,\\\"down_payment_amount\\\":115920.0,\\\"down_payment_percent\\\":30,\\\"number_installments\\\":24,\\\"installments_amount\\\":270480.0,\\\"status\\\":{\\\"name\\\":\\\"Contrato firmado\\\",\\\"short_code\\\":\\\"contract\\\",\\\"percent\\\":75},\\\"amount_total\\\":386400.0,\\\"amount_paid\\\":0,\\\"amount_remaining\\\":386400.0,\\\"next_payment_date\\\":\\\"2024-07-02T06:00:00.000000Z\\\",\\\"advance_percent\\\":0.0,\\\"overdue_installments_count\\\":0,\\\"overdue_installments_amount\\\":0},{\\\"property_name\\\":\\\"TR-04-044\\\",\\\"currency\\\":\\\"MXN\\\",\\\"reserve_amount\\\":3500,\\\"property_amount\\\":420000,\\\"property_discount_amount\\\":42000.0,\\\"down_payment_amount\\\":113400.0,\\\"down_payment_percent\\\":30,\\\"number_installments\\\":24,\\\"installments_amount\\\":264600.0,\\\"status\\\":{\\\"name\\\":\\\"Contrato firmado\\\",\\\"short_code\\\":\\\"contract\\\",\\\"percent\\\":75},\\\"amount_total\\\":378000.0,\\\"amount_paid\\\":0,\\\"amount_remaining\\\":378000.0,\\\"next_payment_date\\\":\\\"2024-07-02T06:00:00.000000Z\\\",\\\"advance_percent\\\":0.0,\\\"overdue_installments_count\\\":0,\\\"overdue_installments_amount\\\":0},{\\\"property_name\\\":\\\"TR-04-035\\\",\\\"currency\\\":\\\"MXN\\\",\\\"reserve_amount\\\":3500,\\\"property_amount\\\":414820,\\\"property_discount_amount\\\":0.0,\\\"down_payment_amount\\\":124446.0,\\\"down_payment_percent\\\":30,\\\"number_installments\\\":24,\\\"installments_amount\\\":290374.0,\\\"status\\\":{\\\"name\\\":\\\"Contrato firmado\\\",\\\"short_code\\\":\\\"contract\\\",\\\"percent\\\":75},\\\"amount_total\\\":414820.0,\\\"amount_paid\\\":197034,\\\"amount_remaining\\\":217786.0,\\\"next_payment_date\\\":\\\"2025-02-02T06:00:00.000000Z\\\",\\\"advance_percent\\\":47.4986741237,\\\"overdue_installments_count\\\":0,\\\"overdue_installments_amount\\\":0},{\\\"property_name\\\":\\\"TR-04-041\\\",\\\"currency\\\":\\\"MXN\\\",\\\"reserve_amount\\\":3500,\\\"property_amount\\\":638694,\\\"property_discount_amount\\\":0.0,\\\"down_payment_amount\\\":191608.2,\\\"down_payment_percent\\\":30,\\\"number_installments\\\":24,\\\"installments_amount\\\":447085.8,\\\"status\\\":{\\\"name\\\":\\\"Contrato firmado\\\",\\\"short_code\\\":\\\"contract\\\",\\\"percent\\\":75},\\\"amount_total\\\":638694.0,\\\"amount_paid\\\":0,\\\"amount_remaining\\\":638694.0,\\\"next_payment_date\\\":\\\"2024-06-13T06:00:00.000000Z\\\",\\\"advance_percent\\\":0.0,\\\"overdue_installments_count\\\":0,\\\"overdue_installments_amount\\\":0},{\\\"property_name\\\":\\\"TR-04-043\\\",\\\"currency\\\":\\\"MXN\\\",\\\"reserve_amount\\\":3500,\\\"property_amount\\\":420000,\\\"property_discount_amount\\\":42000.0,\\\"down_payment_amount\\\":75600.0,\\\"down_payment_percent\\\":20,\\\"number_installments\\\":60,\\\"installments_amount\\\":302400.0,\\\"status\\\":{\\\"name\\\":\\\"Contrato firmado\\\",\\\"short_code\\\":\\\"contract\\\",\\\"percent\\\":75},\\\"amount_total\\\":378000.0,\\\"amount_paid\\\":0,\\\"amount_remaining\\\":378000.0,\\\"next_payment_date\\\":\\\"2024-06-13T06:00:00.000000Z\\\",\\\"advance_percent\\\":0.0,\\\"overdue_installments_count\\\":0,\\\"overdue_installments_amount\\\":0},{\\\"property_name\\\":\\\"TR-04-024\\\",\\\"currency\\\":\\\"MXN\\\",\\\"reserve_amount\\\":3500,\\\"property_amount\\\":493864,\\\"property_discount_amount\\\":0.0,\\\"down_payment_amount\\\":148159.2,\\\"down_payment_percent\\\":30,\\\"number_installments\\\":72,\\\"installments_amount\\\":345704.8,\\\"status\\\":{\\\"name\\\":\\\"Documentaci\\u00f3n\\\",\\\"short_code\\\":\\\"documents\\\",\\\"percent\\\":50},\\\"amount_total\\\":493864.0,\\\"amount_paid\\\":0,\\\"amount_remaining\\\":493864.0,\\\"next_payment_date\\\":\\\"2024-06-12T06:00:00.000000Z\\\",\\\"advance_percent\\\":0.0,\\\"overdue_installments_count\\\":0,\\\"overdue_installments_amount\\\":0},{\\\"property_name\\\":\\\"TR-04-031\\\",\\\"currency\\\":\\\"MXN\\\",\\\"reserve_amount\\\":3500,\\\"property_amount\\\":443562,\\\"property_discount_amount\\\":0.0,\\\"down_payment_amount\\\":133068.6,\\\"down_payment_percent\\\":30,\\\"number_installments\\\":24,\\\"installments_amount\\\":310493.4,\\\"status\\\":{\\\"name\\\":\\\"Apartado\\\",\\\"short_code\\\":\\\"reserved\\\",\\\"percent\\\":25},\\\"amount_total\\\":443562.0,\\\"amount_paid\\\":0,\\\"amount_remaining\\\":443562.0,\\\"next_payment_date\\\":\\\"2024-06-12T06:00:00.000000Z\\\",\\\"advance_percent\\\":0.0,\\\"overdue_installments_count\\\":0,\\\"overdue_installments_amount\\\":0},{\\\"property_name\\\":\\\"TR-04-018\\\",\\\"currency\\\":\\\"MXN\\\",\\\"reserve_amount\\\":3500,\\\"property_amount\\\":536970,\\\"property_discount_amount\\\":0.0,\\\"down_payment_amount\\\":161091.0,\\\"down_payment_percent\\\":30,\\\"number_installments\\\":24,\\\"installments_amount\\\":375879.0,\\\"status\\\":{\\\"name\\\":\\\"Apartado\\\",\\\"short_code\\\":\\\"reserved\\\",\\\"percent\\\":25},\\\"amount_total\\\":536970.0,\\\"amount_paid\\\":0,\\\"amount_remaining\\\":536970.0,\\\"next_payment_date\\\":\\\"2024-06-12T06:00:00.000000Z\\\",\\\"advance_percent\\\":0.0,\\\"overdue_installments_count\\\":0,\\\"overdue_installments_amount\\\":0},{\\\"property_name\\\":\\\"TR-04-018\\\",\\\"currency\\\":\\\"MXN\\\",\\\"reserve_amount\\\":3500,\\\"property_amount\\\":536970,\\\"property_discount_amount\\\":0.0,\\\"down_payment_amount\\\":161091.0,\\\"down_payment_percent\\\":30,\\\"number_installments\\\":24,\\\"installments_amount\\\":375879.0,\\\"status\\\":{\\\"name\\\":\\\"Apartado\\\",\\\"short_code\\\":\\\"reserved\\\",\\\"percent\\\":25},\\\"amount_total\\\":536970.0,\\\"amount_paid\\\":0,\\\"amount_remaining\\\":536970.0,\\\"next_payment_date\\\":\\\"2024-06-12T06:00:00.000000Z\\\",\\\"advance_percent\\\":0.0,\\\"overdue_installments_count\\\":0,\\\"overdue_installments_amount\\\":0},{\\\"property_name\\\":\\\"TR-04-018\\\",\\\"currency\\\":\\\"MXN\\\",\\\"reserve_amount\\\":3500,\\\"property_amount\\\":536970,\\\"property_discount_amount\\\":0.0,\\\"down_payment_amount\\\":161091.0,\\\"down_payment_percent\\\":30,\\\"number_installments\\\":24,\\\"installments_amount\\\":375879.0,\\\"status\\\":{\\\"name\\\":\\\"Apartado\\\",\\\"short_code\\\":\\\"reserved\\\",\\\"percent\\\":25},\\\"amount_total\\\":536970.0,\\\"amount_paid\\\":0,\\\"amount_remaining\\\":536970.0,\\\"next_payment_date\\\":\\\"2024-06-12T06:00:00.000000Z\\\",\\\"advance_percent\\\":0.0,\\\"overdue_installments_count\\\":0,\\\"overdue_installments_amount\\\":0},{\\\"property_name\\\":\\\"TR-04-020\\\",\\\"currency\\\":\\\"MXN\\\",\\\"reserve_amount\\\":3500,\\\"property_amount\\\":522606,\\\"property_discount_amount\\\":0.0,\\\"down_payment_amount\\\":156781.8,\\\"down_payment_percent\\\":30,\\\"number_installments\\\":24,\\\"installments_amount\\\":365824.2,\\\"status\\\":{\\\"name\\\":\\\"Apartado\\\",\\\"short_code\\\":\\\"reserved\\\",\\\"percent\\\":25},\\\"amount_total\\\":522606.0,\\\"amount_paid\\\":0,\\\"amount_remaining\\\":522606.0,\\\"next_payment_date\\\":\\\"2024-06-11T06:00:00.000000Z\\\",\\\"advance_percent\\\":0.0,\\\"overdue_installments_count\\\":0,\\\"overdue_installments_amount\\\":0},{\\\"property_name\\\":\\\"TR-04-066\\\",\\\"currency\\\":\\\"MXN\\\",\\\"reserve_amount\\\":3500,\\\"property_amount\\\":420000,\\\"property_discount_amount\\\":0.0,\\\"down_payment_amount\\\":126000.0,\\\"down_payment_percent\\\":30,\\\"number_installments\\\":24,\\\"installments_amount\\\":294000.0,\\\"status\\\":{\\\"name\\\":\\\"Contrato firmado\\\",\\\"short_code\\\":\\\"contract\\\",\\\"percent\\\":75},\\\"amount_total\\\":420000.0,\\\"amount_paid\\\":0,\\\"amount_remaining\\\":420000.0,\\\"next_payment_date\\\":\\\"2024-06-10T06:00:00.000000Z\\\",\\\"advance_percent\\\":0.0,\\\"overdue_installments_count\\\":0,\\\"overdue_installments_amount\\\":0},{\\\"property_name\\\":\\\"TR-04-019\\\",\\\"currency\\\":\\\"MXN\\\",\\\"reserve_amount\\\":3500,\\\"property_amount\\\":529788,\\\"property_discount_amount\\\":0.0,\\\"down_payment_amount\\\":158936.4,\\\"down_payment_percent\\\":30,\\\"number_installments\\\":24,\\\"installments_amount\\\":370851.6,\\\"status\\\":{\\\"name\\\":\\\"Contrato firmado\\\",\\\"short_code\\\":\\\"contract\\\",\\\"percent\\\":75},\\\"amount_total\\\":529788.0,\\\"amount_paid\\\":0,\\\"amount_remaining\\\":529788.0,\\\"next_payment_date\\\":\\\"2024-06-10T06:00:00.000000Z\\\",\\\"advance_percent\\\":0.0,\\\"overdue_installments_count\\\":0,\\\"overdue_installments_amount\\\":0},{\\\"property_name\\\":\\\"TR-04-021\\\",\\\"currency\\\":\\\"MXN\\\",\\\"reserve_amount\\\":3500,\\\"property_amount\\\":515424,\\\"property_discount_amount\\\":0.0,\\\"down_payment_amount\\\":154627.2,\\\"down_payment_percent\\\":30,\\\"number_installments\\\":24,\\\"installments_amount\\\":360796.8,\\\"status\\\":{\\\"name\\\":\\\"Contrato firmado\\\",\\\"short_code\\\":\\\"contract\\\",\\\"percent\\\":75},\\\"amount_total\\\":515424.0,\\\"amount_paid\\\":0,\\\"amount_remaining\\\":515424.0,\\\"next_payment_date\\\":\\\"2024-06-10T06:00:00.000000Z\\\",\\\"advance_percent\\\":0.0,\\\"overdue_installments_count\\\":0,\\\"overdue_installments_amount\\\":0},{\\\"property_name\\\":\\\"TR-04-015\\\",\\\"currency\\\":\\\"MXN\\\",\\\"reserve_amount\\\":3500,\\\"property_amount\\\":558530,\\\"property_discount_amount\\\":0.0,\\\"down_payment_amount\\\":167559.0,\\\"down_payment_percent\\\":30,\\\"number_installments\\\":24,\\\"installments_amount\\\":390971.0,\\\"status\\\":{\\\"name\\\":\\\"Contrato firmado\\\",\\\"short_code\\\":\\\"contract\\\",\\\"percent\\\":75},\\\"amount_total\\\":558530.0,\\\"amount_paid\\\":48870,\\\"amount_remaining\\\":509660.0,\\\"next_payment_date\\\":\\\"2024-07-02T06:00:00.000000Z\\\",\\\"advance_percent\\\":8.7497538181,\\\"overdue_installments_count\\\":0,\\\"overdue_installments_amount\\\":0},{\\\"property_name\\\":\\\"TR-04-030\\\",\\\"currency\\\":\\\"MXN\\\",\\\"reserve_amount\\\":3500,\\\"property_amount\\\":450744,\\\"property_discount_amount\\\":0.0,\\\"down_payment_amount\\\":135223.2,\\\"down_payment_percent\\\":30,\\\"number_installments\\\":24,\\\"installments_amount\\\":315520.8,\\\"status\\\":{\\\"name\\\":\\\"Contrato firmado\\\",\\\"short_code\\\":\\\"contract\\\",\\\"percent\\\":75},\\\"amount_total\\\":450744.0,\\\"amount_paid\\\":26292,\\\"amount_remaining\\\":424452.0,\\\"next_payment_date\\\":\\\"2024-07-02T06:00:00.000000Z\\\",\\\"advance_percent\\\":5.8330227357,\\\"overdue_installments_count\\\":0,\\\"overdue_installments_amount\\\":0},{\\\"property_name\\\":\\\"TR-04-022\\\",\\\"currency\\\":\\\"MXN\\\",\\\"reserve_amount\\\":3500,\\\"property_amount\\\":508228,\\\"property_discount_amount\\\":0.0,\\\"down_payment_amount\\\":50822.8,\\\"down_payment_percent\\\":10,\\\"number_installments\\\":60,\\\"installments_amount\\\":457405.2,\\\"status\\\":{\\\"name\\\":\\\"Documentaci\\u00f3n\\\",\\\"short_code\\\":\\\"documents\\\",\\\"percent\\\":50},\\\"amount_total\\\":508228.0,\\\"amount_paid\\\":0,\\\"amount_remaining\\\":508228.0,\\\"next_payment_date\\\":\\\"2024-07-02T06:00:00.000000Z\\\",\\\"advance_percent\\\":0.0,\\\"overdue_installments_count\\\":0,\\\"overdue_installments_amount\\\":0},{\\\"property_name\\\":\\\"TR-04-033\\\",\\\"currency\\\":\\\"MXN\\\",\\\"reserve_amount\\\":3500,\\\"property_amount\\\":429198,\\\"property_discount_amount\\\":0.0,\\\"down_payment_amount\\\":128759.4,\\\"down_payment_percent\\\":30,\\\"number_installments\\\":24,\\\"installments_amount\\\":300438.6,\\\"status\\\":{\\\"name\\\":\\\"Contrato firmado\\\",\\\"short_code\\\":\\\"contract\\\",\\\"percent\\\":75},\\\"amount_total\\\":429198.0,\\\"amount_paid\\\":0,\\\"amount_remaining\\\":429198.0,\\\"next_payment_date\\\":\\\"2024-06-05T06:00:00.000000Z\\\",\\\"advance_percent\\\":0.0,\\\"overdue_installments_count\\\":0,\\\"overdue_installments_amount\\\":0},{\\\"property_name\\\":\\\"TR-04-025\\\",\\\"currency\\\":\\\"MXN\\\",\\\"reserve_amount\\\":3500,\\\"property_amount\\\":486682,\\\"property_discount_amount\\\":0.0,\\\"down_payment_amount\\\":146004.6,\\\"down_payment_percent\\\":30,\\\"number_installments\\\":24,\\\"installments_amount\\\":340677.4,\\\"status\\\":{\\\"name\\\":\\\"Documentaci\\u00f3n\\\",\\\"short_code\\\":\\\"documents\\\",\\\"percent\\\":50},\\\"amount_total\\\":486682.0,\\\"amount_paid\\\":0,\\\"amount_remaining\\\":486682.0,\\\"next_payment_date\\\":\\\"2024-06-05T06:00:00.000000Z\\\",\\\"advance_percent\\\":0.0,\\\"overdue_installments_count\\\":0,\\\"overdue_installments_amount\\\":0},{\\\"property_name\\\":\\\"TR-04-016\\\",\\\"currency\\\":\\\"MXN\\\",\\\"reserve_amount\\\":3500,\\\"property_amount\\\":551348,\\\"property_discount_amount\\\":0.0,\\\"down_payment_amount\\\":165404.4,\\\"down_payment_percent\\\":30,\\\"number_installments\\\":60,\\\"installments_amount\\\":385943.6,\\\"status\\\":{\\\"name\\\":\\\"Contrato firmado\\\",\\\"short_code\\\":\\\"contract\\\",\\\"percent\\\":75},\\\"amount_total\\\":551348.0,\\\"amount_paid\\\":0,\\\"amount_remaining\\\":551348.0,\\\"next_payment_date\\\":\\\"2024-06-04T06:00:00.000000Z\\\",\\\"advance_percent\\\":0.0,\\\"overdue_installments_count\\\":0,\\\"overdue_installments_amount\\\":0},{\\\"property_name\\\":\\\"TR-04-012\\\",\\\"currency\\\":\\\"MXN\\\",\\\"reserve_amount\\\":3500,\\\"property_amount\\\":580090,\\\"property_discount_amount\\\":0.0,\\\"down_payment_amount\\\":174027.0,\\\"down_payment_percent\\\":30,\\\"number_installments\\\":60,\\\"installments_amount\\\":406063.0,\\\"status\\\":{\\\"name\\\":\\\"Contrato firmado\\\",\\\"short_code\\\":\\\"contract\\\",\\\"percent\\\":75},\\\"amount_total\\\":580090.0,\\\"amount_paid\\\":0,\\\"amount_remaining\\\":580090.0,\\\"next_payment_date\\\":\\\"2024-07-02T06:00:00.000000Z\\\",\\\"advance_percent\\\":0.0,\\\"overdue_installments_count\\\":0,\\\"overdue_installments_amount\\\":0},{\\\"property_name\\\":\\\"TR-04-029\\\",\\\"currency\\\":\\\"MXN\\\",\\\"reserve_amount\\\":3500,\\\"property_amount\\\":457940,\\\"property_discount_amount\\\":0.0,\\\"down_payment_amount\\\":137382.0,\\\"down_payment_percent\\\":30,\\\"number_installments\\\":24,\\\"installments_amount\\\":320558.0,\\\"status\\\":{\\\"name\\\":\\\"Contrato firmado\\\",\\\"short_code\\\":\\\"contract\\\",\\\"percent\\\":75},\\\"amount_total\\\":457940.0,\\\"amount_paid\\\":0,\\\"amount_remaining\\\":457940.0,\\\"next_payment_date\\\":\\\"2024-06-04T06:00:00.000000Z\\\",\\\"advance_percent\\\":0.0,\\\"overdue_installments_count\\\":0,\\\"overdue_installments_amount\\\":0},{\\\"property_name\\\":\\\"TR-04-031\\\",\\\"currency\\\":\\\"MXN\\\",\\\"reserve_amount\\\":3500,\\\"property_amount\\\":443562,\\\"property_discount_amount\\\":0.0,\\\"down_payment_amount\\\":133068.6,\\\"down_payment_percent\\\":30,\\\"number_installments\\\":72,\\\"installments_amount\\\":310493.4,\\\"status\\\":{\\\"name\\\":\\\"Apartado\\\",\\\"short_code\\\":\\\"reserved\\\",\\\"percent\\\":25},\\\"amount_total\\\":443562.0,\\\"amount_paid\\\":0,\\\"amount_remaining\\\":443562.0,\\\"next_payment_date\\\":\\\"2024-07-02T06:00:00.000000Z\\\",\\\"advance_percent\\\":0.0,\\\"overdue_installments_count\\\":0,\\\"overdue_installments_amount\\\":0},{\\\"property_name\\\":\\\"TR-04-028\\\",\\\"currency\\\":\\\"MXN\\\",\\\"reserve_amount\\\":3500,\\\"property_amount\\\":465122,\\\"property_discount_amount\\\":0.0,\\\"down_payment_amount\\\":139536.6,\\\"down_payment_percent\\\":30,\\\"number_installments\\\":24,\\\"installments_amount\\\":325585.4,\\\"status\\\":{\\\"name\\\":\\\"Contrato firmado\\\",\\\"short_code\\\":\\\"contract\\\",\\\"percent\\\":75},\\\"amount_total\\\":465122.0,\\\"amount_paid\\\":0,\\\"amount_remaining\\\":465122.0,\\\"next_payment_date\\\":\\\"2024-06-03T06:00:00.000000Z\\\",\\\"advance_percent\\\":0.0,\\\"overdue_installments_count\\\":0,\\\"overdue_installments_amount\\\":0},{\\\"property_name\\\":\\\"TR-04-032\\\",\\\"currency\\\":\\\"MXN\\\",\\\"reserve_amount\\\":3500,\\\"property_amount\\\":436380,\\\"property_discount_amount\\\":0.0,\\\"down_payment_amount\\\":130914.0,\\\"down_payment_percent\\\":30,\\\"number_installments\\\":43,\\\"installments_amount\\\":305466.0,\\\"status\\\":{\\\"name\\\":\\\"Contrato firmado\\\",\\\"short_code\\\":\\\"contract\\\",\\\"percent\\\":75},\\\"amount_total\\\":436380.0,\\\"amount_paid\\\":0,\\\"amount_remaining\\\":436380.0,\\\"next_payment_date\\\":\\\"2024-06-03T06:00:00.000000Z\\\",\\\"advance_percent\\\":0.0,\\\"overdue_installments_count\\\":0,\\\"overdue_installments_amount\\\":0},{\\\"property_name\\\":\\\"TR-04-027\\\",\\\"currency\\\":\\\"MXN\\\",\\\"reserve_amount\\\":3500,\\\"property_amount\\\":472304,\\\"property_discount_amount\\\":0.0,\\\"down_payment_amount\\\":141691.2,\\\"down_payment_percent\\\":30,\\\"number_installments\\\":24,\\\"installments_amount\\\":330612.8,\\\"status\\\":{\\\"name\\\":\\\"Contrato firmado\\\",\\\"short_code\\\":\\\"contract\\\",\\\"percent\\\":75},\\\"amount_total\\\":472304.0,\\\"amount_paid\\\":0,\\\"amount_remaining\\\":472304.0,\\\"next_payment_date\\\":\\\"2024-06-03T06:00:00.000000Z\\\",\\\"advance_percent\\\":0.0,\\\"overdue_installments_count\\\":0,\\\"overdue_installments_amount\\\":0},{\\\"property_name\\\":\\\"TR-04-127\\\",\\\"currency\\\":\\\"MXN\\\",\\\"reserve_amount\\\":3500,\\\"property_amount\\\":420000,\\\"property_discount_amount\\\":0.0,\\\"down_payment_amount\\\":126000.0,\\\"down_payment_percent\\\":30,\\\"number_installments\\\":24,\\\"installments_amount\\\":294000.0,\\\"status\\\":{\\\"name\\\":\\\"Contrato firmado\\\",\\\"short_code\\\":\\\"contract\\\",\\\"percent\\\":75},\\\"amount_total\\\":420000.0,\\\"amount_paid\\\":0,\\\"amount_remaining\\\":420000.0,\\\"next_payment_date\\\":\\\"2024-06-03T06:00:00.000000Z\\\",\\\"advance_percent\\\":0.0,\\\"overdue_installments_count\\\":0,\\\"overdue_installments_amount\\\":0},{\\\"property_name\\\":\\\"TR-04-026\\\",\\\"currency\\\":\\\"MXN\\\",\\\"reserve_amount\\\":3500,\\\"property_amount\\\":479486,\\\"property_discount_amount\\\":0.0,\\\"down_payment_amount\\\":143845.8,\\\"down_payment_percent\\\":30,\\\"number_installments\\\":24,\\\"installments_amount\\\":335640.2,\\\"status\\\":{\\\"name\\\":\\\"Contrato firmado\\\",\\\"short_code\\\":\\\"contract\\\",\\\"percent\\\":75},\\\"amount_total\\\":479486.0,\\\"amount_paid\\\":0,\\\"amount_remaining\\\":479486.0,\\\"next_payment_date\\\":\\\"2024-06-03T06:00:00.000000Z\\\",\\\"advance_percent\\\":0.0,\\\"overdue_installments_count\\\":0,\\\"overdue_installments_amount\\\":0},{\\\"property_name\\\":\\\"TR-04-023\\\",\\\"currency\\\":\\\"MXN\\\",\\\"reserve_amount\\\":3500,\\\"property_amount\\\":501046,\\\"property_discount_amount\\\":0.0,\\\"down_payment_amount\\\":295617.14,\\\"down_payment_percent\\\":59,\\\"number_installments\\\":55,\\\"installments_amount\\\":205428.86,\\\"status\\\":{\\\"name\\\":\\\"Contrato firmado\\\",\\\"short_code\\\":\\\"contract\\\",\\\"percent\\\":75},\\\"amount_total\\\":501046.0,\\\"amount_paid\\\":0,\\\"amount_remaining\\\":501046.0,\\\"next_payment_date\\\":\\\"2024-06-03T06:00:00.000000Z\\\",\\\"advance_percent\\\":0.0,\\\"overdue_installments_count\\\":0,\\\"overdue_installments_amount\\\":0},{\\\"property_name\\\":\\\"TR-04-014\\\",\\\"currency\\\":\\\"MXN\\\",\\\"reserve_amount\\\":3500,\\\"property_amount\\\":565712,\\\"property_discount_amount\\\":0.0,\\\"down_payment_amount\\\":169713.6,\\\"down_payment_percent\\\":30,\\\"number_installments\\\":24,\\\"installments_amount\\\":395998.4,\\\"status\\\":{\\\"name\\\":\\\"Documentaci\\u00f3n\\\",\\\"short_code\\\":\\\"documents\\\",\\\"percent\\\":50},\\\"amount_total\\\":565712.0,\\\"amount_paid\\\":0,\\\"amount_remaining\\\":565712.0,\\\"next_payment_date\\\":\\\"2024-06-03T06:00:00.000000Z\\\",\\\"advance_percent\\\":0.0,\\\"overdue_installments_count\\\":0,\\\"overdue_installments_amount\\\":0},{\\\"property_name\\\":\\\"TR-04-013\\\",\\\"currency\\\":\\\"MXN\\\",\\\"reserve_amount\\\":3500,\\\"property_amount\\\":572894,\\\"property_discount_amount\\\":0.0,\\\"down_payment_amount\\\":229157.6,\\\"down_payment_percent\\\":40,\\\"number_installments\\\":43,\\\"installments_amount\\\":343736.4,\\\"status\\\":{\\\"name\\\":\\\"Documentaci\\u00f3n\\\",\\\"short_code\\\":\\\"documents\\\",\\\"percent\\\":50},\\\"amount_total\\\":572894.0,\\\"amount_paid\\\":0,\\\"amount_remaining\\\":572894.0,\\\"next_payment_date\\\":\\\"2024-06-03T06:00:00.000000Z\\\",\\\"advance_percent\\\":0.0,\\\"overdue_installments_count\\\":0,\\\"overdue_installments_amount\\\":0},{\\\"property_name\\\":\\\"TR-04-019\\\",\\\"currency\\\":\\\"MXN\\\",\\\"reserve_amount\\\":3500,\\\"property_amount\\\":529788,\\\"property_discount_amount\\\":0.0,\\\"down_payment_amount\\\":201319.44,\\\"down_payment_percent\\\":38,\\\"number_installments\\\":35,\\\"installments_amount\\\":328468.56,\\\"status\\\":{\\\"name\\\":\\\"Documentaci\\u00f3n\\\",\\\"short_code\\\":\\\"documents\\\",\\\"percent\\\":50},\\\"amount_total\\\":529788.0,\\\"amount_paid\\\":0,\\\"amount_remaining\\\":529788.0,\\\"next_payment_date\\\":\\\"2024-07-02T06:00:00.000000Z\\\",\\\"advance_percent\\\":0.0,\\\"overdue_installments_count\\\":0,\\\"overdue_installments_amount\\\":0},{\\\"property_name\\\":\\\"TR-04-011\\\",\\\"currency\\\":\\\"MXN\\\",\\\"reserve_amount\\\":3500,\\\"property_amount\\\":587272,\\\"property_discount_amount\\\":0.0,\\\"down_payment_amount\\\":176181.6,\\\"down_payment_percent\\\":30,\\\"number_installments\\\":43,\\\"installments_amount\\\":411090.4,\\\"status\\\":{\\\"name\\\":\\\"Documentaci\\u00f3n\\\",\\\"short_code\\\":\\\"documents\\\",\\\"percent\\\":50},\\\"amount_total\\\":587272.0,\\\"amount_paid\\\":0,\\\"amount_remaining\\\":587272.0,\\\"next_payment_date\\\":\\\"2024-06-03T06:00:00.000000Z\\\",\\\"advance_percent\\\":0.0,\\\"overdue_installments_count\\\":0,\\\"overdue_installments_amount\\\":0},{\\\"property_name\\\":\\\"TR-04-169\\\",\\\"currency\\\":\\\"MXN\\\",\\\"reserve_amount\\\":3500,\\\"property_amount\\\":832482,\\\"property_discount_amount\\\":0.0,\\\"down_payment_amount\\\":249744.6,\\\"down_payment_percent\\\":30,\\\"number_installments\\\":24,\\\"installments_amount\\\":582737.4,\\\"status\\\":{\\\"name\\\":\\\"Documentaci\\u00f3n\\\",\\\"short_code\\\":\\\"documents\\\",\\\"percent\\\":50},\\\"amount_total\\\":832482.0,\\\"amount_paid\\\":0,\\\"amount_remaining\\\":832482.0,\\\"next_payment_date\\\":\\\"2024-06-01T06:00:00.000000Z\\\",\\\"advance_percent\\\":0.0,\\\"overdue_installments_count\\\":0,\\\"overdue_installments_amount\\\":0}]\"\u001b[0m\u001b[32;1m\u001b[1;3mTienes varias ventas asociadas al cliente admin@platform.com. Aquí tienes un resumen de algunas de las ventas:\n",
      "\n",
      "1. Venta de la propiedad TR-04-070 con un monto total de 420,000 MXN y estatus de \"Apartado\".\n",
      "2. Venta de la propiedad TR-04-055 con un monto total de 420,000 MXN y estatus de \"Apartado\".\n",
      "3. Venta de la propiedad TR-04-069 con un monto total de 399,000 MXN y estatus de \"Apartado\".\n",
      "4. Venta de la propiedad TR-04-111 con un monto total de 420,000 MXN y estatus de \"Contrato firmado\".\n",
      "5. Venta de la propiedad TR-04-068 con un monto total de 420,000 MXN y estatus de \"Contrato firmado\".\n",
      "\n",
      "Si necesitas más detalles sobre alguna venta en particular, házmelo saber.\u001b[0m\n",
      "\n",
      "\u001b[1m> Finished chain.\u001b[0m\n"
     ]
    },
    {
     "data": {
      "text/plain": [
       "{'input': 'cuantas ventas tengo con el cliente admin@platform.com? mi auth token: 2360|7AW3cznNikqW7Zy9PlghuOAZLl0LhRpzvRQes2CG8bca1bab',\n",
       " 'output': 'Tienes varias ventas asociadas al cliente admin@platform.com. Aquí tienes un resumen de algunas de las ventas:\\n\\n1. Venta de la propiedad TR-04-070 con un monto total de 420,000 MXN y estatus de \"Apartado\".\\n2. Venta de la propiedad TR-04-055 con un monto total de 420,000 MXN y estatus de \"Apartado\".\\n3. Venta de la propiedad TR-04-069 con un monto total de 399,000 MXN y estatus de \"Apartado\".\\n4. Venta de la propiedad TR-04-111 con un monto total de 420,000 MXN y estatus de \"Contrato firmado\".\\n5. Venta de la propiedad TR-04-068 con un monto total de 420,000 MXN y estatus de \"Contrato firmado\".\\n\\nSi necesitas más detalles sobre alguna venta en particular, házmelo saber.'}"
      ]
     },
     "execution_count": 63,
     "metadata": {},
     "output_type": "execute_result"
    }
   ],
   "source": [
    "prompt = ChatPromptTemplate.from_messages([\n",
    "        (\"system\", \"you are a Friendly assitant named colorina\"),\n",
    "        (\"human\", \"{input}\"), \n",
    "        MessagesPlaceholder(variable_name='agent_scratchpad')\n",
    "    ])\n",
    "\n",
    "agent = create_openai_functions_agent(\n",
    "    llm=model,\n",
    "    prompt=prompt,\n",
    "    tools=tools,\n",
    ")\n",
    "\n",
    "input_str = 'cuantas ventas tengo con el cliente admin@platform.com?'\n",
    "\n",
    "input_data = {\n",
    "    \"input\": f\"{input_str} {token_str}\"\n",
    "}\n",
    "\n",
    "agent_executor = AgentExecutor(agent=agent, tools=tools, verbose=True)\n",
    "agent_executor.invoke(input_data)\n",
    "\n"
   ]
  },
  {
   "cell_type": "code",
   "execution_count": 44,
   "metadata": {},
   "outputs": [
    {
     "data": {
      "text/plain": [
       "RunnableBinding(bound=ChatOpenAI(client=<openai.resources.chat.completions.Completions object at 0x1546ef160>, async_client=<openai.resources.chat.completions.AsyncCompletions object at 0x1546ed0f0>, temperature=0.0, openai_api_key=SecretStr('**********'), openai_proxy=''), kwargs={'tools': [{'type': 'function', 'function': {'name': 'count_sales_by_status', 'description': 'Count the number of sales the user has with a specific status. You must input the auth token', 'parameters': {'type': 'object', 'properties': {'token': {'description': 'token to authenticate the user to consume the API', 'type': 'string'}, 'status': {'description': 'Status to filter the sales to retrieve from the API. Acceptable status by the API: reserved, documents, contract, active, canceled, overdue, finalized, deeded', 'type': 'string'}}, 'required': ['token', 'status']}}}, {'type': 'function', 'function': {'name': 'get_sales_by_customer', 'description': 'Retrieve sales associated with a customer identified by email.', 'parameters': {'type': 'object', 'properties': {'token': {'description': 'Authorization token to access the API.', 'type': 'string'}, 'email': {'description': 'Email address of the customer.', 'type': 'string'}}, 'required': ['token', 'email']}}}, {'type': 'function', 'function': {'name': 'get_sales_between_dates', 'description': 'Retrieve sales in a range of two dates. If only one date is provided, the same date is used for both start and end dates.', 'parameters': {'properties': {'token': {'description': 'Authorization token required to access the API.', 'type': 'string'}, 'str_date': {'description': \"Start date to search sales created in between. Format must be: 'yyyy-mm-dd'\", 'type': 'string'}, 'end_date': {'description': \"End date to search sales created in between. Format must be: 'yyyy-mm-dd'\", 'type': 'string'}}, 'required': ['token', 'str_date', 'end_date'], 'type': 'object'}}}]})"
      ]
     },
     "execution_count": 44,
     "metadata": {},
     "output_type": "execute_result"
    }
   ],
   "source": [
    "llm_with_tools"
   ]
  },
  {
   "cell_type": "code",
   "execution_count": 42,
   "metadata": {
    "tags": []
   },
   "outputs": [],
   "source": [
    "def call_json_output_parser(llm_with_tools):\n",
    "    prompt = ChatPromptTemplate.from_messages([\n",
    "            (\"system\", \"you are a Friendly assitant named colorina. If necessary, you will consult the colorines API with the tools provided to solve the user request. Use the auth token to use the tools. \\nFormatting Instructions: {format_instructions}\"),\n",
    "            (\"human\", \"{input}\"), \n",
    "        ])\n",
    "\n",
    "    class Result(BaseModel):\n",
    "        data: str = Field(description=\"Data returned by the tools\")\n",
    "        \n",
    "    parser = JsonOutputParser(pydantic_object=Result)\n",
    "\n",
    "    chain = prompt | llm_with_tools | parser\n",
    "    \n",
    "    input_str = 'cuantas ventas tengo con el cliente admin@platform.com?'\n",
    "\n",
    "    input_data = {\n",
    "        \"input\": f\"{input_str} {token_str}\",\n",
    "        \"format_instructions\": parser.get_format_instructions()\n",
    "    }\n",
    "    \n",
    "    return chain.invoke(input_data)"
   ]
  },
  {
   "cell_type": "code",
   "execution_count": null,
   "metadata": {
    "tags": []
   },
   "outputs": [],
   "source": [
    "call_json_output_parser(llm_with_tools)"
   ]
  },
  {
   "cell_type": "code",
   "execution_count": 47,
   "metadata": {
    "tags": []
   },
   "outputs": [],
   "source": [
    "def call_json_output_parser_v2(token_str, llm_with_tools, input_str):\n",
    "    prompt = ChatPromptTemplate.from_messages([\n",
    "            (\"system\", \"you will use the tools to provide an answer. \\nFormatting Instructions: {format_instructions}\"),\n",
    "            (\"human\", \"{input}\"), \n",
    "        ])\n",
    "\n",
    "    class Result(BaseModel):\n",
    "        data: str = Field(description=\"Should contain a json structure with the results of the tools\")\n",
    "        \n",
    "    parser = JsonOutputParser(pydantic_object=Result)\n",
    "\n",
    "    chain = prompt | llm_with_tools | parser\n",
    "\n",
    "    input_data = {\n",
    "        \"input\": f\"{input_str} {token_str}\",\n",
    "        \"format_instructions\": parser.get_format_instructions()\n",
    "    }\n",
    "    \n",
    "    return chain.invoke(input_data)"
   ]
  },
  {
   "cell_type": "code",
   "execution_count": null,
   "metadata": {
    "tags": []
   },
   "outputs": [],
   "source": [
    "call_json_output_parser_v2(token_str, llm_with_tools, 'cuantas ventas tengo con el cliente admin@platform.com?')"
   ]
  },
  {
   "cell_type": "code",
   "execution_count": 102,
   "metadata": {
    "tags": []
   },
   "outputs": [
    {
     "data": {
      "text/plain": [
       "{'properties': {'data': {'title': 'Data',\n",
       "   'description': 'Should contain a json structure with the results of the tools',\n",
       "   'type': 'string'}},\n",
       " 'required': ['data']}"
      ]
     },
     "execution_count": 102,
     "metadata": {},
     "output_type": "execute_result"
    }
   ],
   "source": [
    "call_json_output_parser_v2(token_str, model, 'hola? ')"
   ]
  },
  {
   "cell_type": "markdown",
   "metadata": {},
   "source": [
    "### Add parser with no pydantic"
   ]
  },
  {
   "cell_type": "code",
   "execution_count": 87,
   "metadata": {
    "tags": []
   },
   "outputs": [],
   "source": [
    "def call_json_output_parser_v3(token_str, llm_with_tools, input_str):\n",
    "    prompt = ChatPromptTemplate.from_messages([\n",
    "            (\"system\", '''You will use the tools binded to the llm model to provide an answer. The response must be only a json with the results of the tools.\n",
    "            The JSON structure may vary depending on the request response'''),\n",
    "            (\"human\", \"{input}\"), \n",
    "        ])\n",
    "\n",
    "        \n",
    "    parser = JsonOutputParser()\n",
    "\n",
    "    chain = prompt | llm_with_tools | parser\n",
    "\n",
    "    input_data = {\n",
    "        \"input\": f\"{input_str} {token_str}\",\n",
    "    }\n",
    "    \n",
    "    return chain.invoke(input_data)"
   ]
  },
  {
   "cell_type": "code",
   "execution_count": 88,
   "metadata": {},
   "outputs": [
    {
     "data": {
      "text/plain": [
       "'2366|g6ecPJ8AFdz8F0B91DPh9SkAm64xNECXtltm70ww933c4285'"
      ]
     },
     "execution_count": 88,
     "metadata": {},
     "output_type": "execute_result"
    }
   ],
   "source": [
    "token"
   ]
  },
  {
   "cell_type": "code",
   "execution_count": 89,
   "metadata": {
    "tags": []
   },
   "outputs": [
    {
     "data": {
      "text/plain": [
       "{'error': 'Unauthorized access. Please provide a valid authentication token.'}"
      ]
     },
     "execution_count": 89,
     "metadata": {},
     "output_type": "execute_result"
    }
   ],
   "source": [
    "call_json_output_parser_v3(token_str, model, 'cuantas ventas tengo?')"
   ]
  },
  {
   "cell_type": "code",
   "execution_count": 90,
   "metadata": {},
   "outputs": [
    {
     "data": {
      "text/plain": [
       "{'tool_1': {'total_sales': 15}, 'tool_2': {'total_sales': 12}}"
      ]
     },
     "execution_count": 90,
     "metadata": {},
     "output_type": "execute_result"
    }
   ],
   "source": [
    "call_json_output_parser_v3(token_str, model, 'cuantas ventas tengo con el cliente admin@platform.com?')"
   ]
  },
  {
   "cell_type": "markdown",
   "metadata": {},
   "source": [
    "## Try with MasterClass"
   ]
  },
  {
   "cell_type": "markdown",
   "metadata": {},
   "source": [
    "ytvideo: https://www.youtube.com/watch?v=yF9kGESAi3M"
   ]
  },
  {
   "cell_type": "code",
   "execution_count": 91,
   "metadata": {},
   "outputs": [],
   "source": [
    "from langchain import hub\n",
    "from langchain_community.llms import OpenAI\n",
    "from langchain.agents import AgentExecutor, create_react_agent"
   ]
  },
  {
   "cell_type": "code",
   "execution_count": 95,
   "metadata": {},
   "outputs": [
    {
     "data": {
      "text/plain": [
       "[CountSalesTool(), GetSalesByCustomerTool(), GetSalesBetweenDatesTool()]"
      ]
     },
     "execution_count": 95,
     "metadata": {},
     "output_type": "execute_result"
    }
   ],
   "source": [
    "tools"
   ]
  },
  {
   "cell_type": "code",
   "execution_count": 94,
   "metadata": {},
   "outputs": [],
   "source": [
    "prompt = hub.pull(\"hwchase17/react\")\n",
    "\n",
    "agent = create_react_agent(\n",
    "    llm=model,\n",
    "    tools=tools,\n",
    "    prompt=prompt,\n",
    "    stop_sequence=True\n",
    "    \n",
    ")\n",
    "\n",
    "agent_executor = AgentExecutor.from_agent_and_tools(\n",
    "    agent=agent,\n",
    "    tools=tools,\n",
    "    verbose=True\n",
    ")\n",
    "\n"
   ]
  },
  {
   "cell_type": "code",
   "execution_count": 96,
   "metadata": {},
   "outputs": [],
   "source": [
    "input_data = {\n",
    "        \"input\": f\"{input_str} {token_str}\",\n",
    "    }"
   ]
  },
  {
   "cell_type": "code",
   "execution_count": 97,
   "metadata": {},
   "outputs": [
    {
     "data": {
      "text/plain": [
       "{'input': 'cuantas ventas tengo con el cliente admin@platform.com? mi auth token: 2366|g6ecPJ8AFdz8F0B91DPh9SkAm64xNECXtltm70ww933c4285'}"
      ]
     },
     "execution_count": 97,
     "metadata": {},
     "output_type": "execute_result"
    }
   ],
   "source": [
    "input_data"
   ]
  },
  {
   "cell_type": "code",
   "execution_count": 98,
   "metadata": {},
   "outputs": [
    {
     "name": "stdout",
     "output_type": "stream",
     "text": [
      "\n",
      "\n",
      "\u001b[1m> Entering new AgentExecutor chain...\u001b[0m\n",
      "\u001b[32;1m\u001b[1;3mI need to retrieve the sales associated with the customer admin@platform.com\n",
      "Action: get_sales_by_customer\n",
      "Action Input: email: admin@platform.com, auth token: 2366|g6ecPJ8AFdz8F0B91DPh9SkAm64xNECXtltm70ww933c4285\u001b[0m"
     ]
    },
    {
     "ename": "ValidationError",
     "evalue": "1 validation error for GetSalesByCustomerInput\nemail\n  field required (type=value_error.missing)",
     "output_type": "error",
     "traceback": [
      "\u001b[0;31m---------------------------------------------------------------------------\u001b[0m",
      "\u001b[0;31mValidationError\u001b[0m                           Traceback (most recent call last)",
      "Cell \u001b[0;32mIn[98], line 1\u001b[0m\n\u001b[0;32m----> 1\u001b[0m response \u001b[38;5;241m=\u001b[39m \u001b[43magent_executor\u001b[49m\u001b[38;5;241;43m.\u001b[39;49m\u001b[43minvoke\u001b[49m\u001b[43m(\u001b[49m\u001b[43minput_data\u001b[49m\u001b[43m)\u001b[49m\n",
      "File \u001b[0;32m~/anaconda3/lib/python3.10/site-packages/langchain/chains/base.py:166\u001b[0m, in \u001b[0;36mChain.invoke\u001b[0;34m(self, input, config, **kwargs)\u001b[0m\n\u001b[1;32m    164\u001b[0m \u001b[38;5;28;01mexcept\u001b[39;00m \u001b[38;5;167;01mBaseException\u001b[39;00m \u001b[38;5;28;01mas\u001b[39;00m e:\n\u001b[1;32m    165\u001b[0m     run_manager\u001b[38;5;241m.\u001b[39mon_chain_error(e)\n\u001b[0;32m--> 166\u001b[0m     \u001b[38;5;28;01mraise\u001b[39;00m e\n\u001b[1;32m    167\u001b[0m run_manager\u001b[38;5;241m.\u001b[39mon_chain_end(outputs)\n\u001b[1;32m    169\u001b[0m \u001b[38;5;28;01mif\u001b[39;00m include_run_info:\n",
      "File \u001b[0;32m~/anaconda3/lib/python3.10/site-packages/langchain/chains/base.py:156\u001b[0m, in \u001b[0;36mChain.invoke\u001b[0;34m(self, input, config, **kwargs)\u001b[0m\n\u001b[1;32m    153\u001b[0m \u001b[38;5;28;01mtry\u001b[39;00m:\n\u001b[1;32m    154\u001b[0m     \u001b[38;5;28mself\u001b[39m\u001b[38;5;241m.\u001b[39m_validate_inputs(inputs)\n\u001b[1;32m    155\u001b[0m     outputs \u001b[38;5;241m=\u001b[39m (\n\u001b[0;32m--> 156\u001b[0m         \u001b[38;5;28;43mself\u001b[39;49m\u001b[38;5;241;43m.\u001b[39;49m\u001b[43m_call\u001b[49m\u001b[43m(\u001b[49m\u001b[43minputs\u001b[49m\u001b[43m,\u001b[49m\u001b[43m \u001b[49m\u001b[43mrun_manager\u001b[49m\u001b[38;5;241;43m=\u001b[39;49m\u001b[43mrun_manager\u001b[49m\u001b[43m)\u001b[49m\n\u001b[1;32m    157\u001b[0m         \u001b[38;5;28;01mif\u001b[39;00m new_arg_supported\n\u001b[1;32m    158\u001b[0m         \u001b[38;5;28;01melse\u001b[39;00m \u001b[38;5;28mself\u001b[39m\u001b[38;5;241m.\u001b[39m_call(inputs)\n\u001b[1;32m    159\u001b[0m     )\n\u001b[1;32m    161\u001b[0m     final_outputs: Dict[\u001b[38;5;28mstr\u001b[39m, Any] \u001b[38;5;241m=\u001b[39m \u001b[38;5;28mself\u001b[39m\u001b[38;5;241m.\u001b[39mprep_outputs(\n\u001b[1;32m    162\u001b[0m         inputs, outputs, return_only_outputs\n\u001b[1;32m    163\u001b[0m     )\n\u001b[1;32m    164\u001b[0m \u001b[38;5;28;01mexcept\u001b[39;00m \u001b[38;5;167;01mBaseException\u001b[39;00m \u001b[38;5;28;01mas\u001b[39;00m e:\n",
      "File \u001b[0;32m~/anaconda3/lib/python3.10/site-packages/langchain/agents/agent.py:1433\u001b[0m, in \u001b[0;36m_call\u001b[0;34m(self, inputs, run_manager)\u001b[0m\n\u001b[1;32m   1426\u001b[0m     \u001b[38;5;28;01mfor\u001b[39;00m agent_action \u001b[38;5;129;01min\u001b[39;00m actions:\n\u001b[1;32m   1427\u001b[0m         \u001b[38;5;28;01myield\u001b[39;00m \u001b[38;5;28mself\u001b[39m\u001b[38;5;241m.\u001b[39m_perform_agent_action(\n\u001b[1;32m   1428\u001b[0m             name_to_tool_map, color_mapping, agent_action, run_manager\n\u001b[1;32m   1429\u001b[0m         )\n\u001b[1;32m   1431\u001b[0m \u001b[38;5;28;01mdef\u001b[39;00m \u001b[38;5;21m_perform_agent_action\u001b[39m(\n\u001b[1;32m   1432\u001b[0m     \u001b[38;5;28mself\u001b[39m,\n\u001b[0;32m-> 1433\u001b[0m     name_to_tool_map: Dict[\u001b[38;5;28mstr\u001b[39m, BaseTool],\n\u001b[1;32m   1434\u001b[0m     color_mapping: Dict[\u001b[38;5;28mstr\u001b[39m, \u001b[38;5;28mstr\u001b[39m],\n\u001b[1;32m   1435\u001b[0m     agent_action: AgentAction,\n\u001b[1;32m   1436\u001b[0m     run_manager: Optional[CallbackManagerForChainRun] \u001b[38;5;241m=\u001b[39m \u001b[38;5;28;01mNone\u001b[39;00m,\n\u001b[1;32m   1437\u001b[0m ) \u001b[38;5;241m-\u001b[39m\u001b[38;5;241m>\u001b[39m AgentStep:\n\u001b[1;32m   1438\u001b[0m     \u001b[38;5;28;01mif\u001b[39;00m run_manager:\n\u001b[1;32m   1439\u001b[0m         run_manager\u001b[38;5;241m.\u001b[39mon_agent_action(agent_action, color\u001b[38;5;241m=\u001b[39m\u001b[38;5;124m\"\u001b[39m\u001b[38;5;124mgreen\u001b[39m\u001b[38;5;124m\"\u001b[39m)\n",
      "File \u001b[0;32m~/anaconda3/lib/python3.10/site-packages/langchain/agents/agent.py:1139\u001b[0m, in \u001b[0;36m_take_next_step\u001b[0;34m(self, name_to_tool_map, color_mapping, inputs, intermediate_steps, run_manager)\u001b[0m\n\u001b[1;32m   1127\u001b[0m \u001b[38;5;250m\u001b[39m\u001b[38;5;124;03m\"\"\"Validate that tools are compatible with agent.\u001b[39;00m\n\u001b[1;32m   1128\u001b[0m \n\u001b[1;32m   1129\u001b[0m \u001b[38;5;124;03mArgs:\u001b[39;00m\n\u001b[0;32m   (...)\u001b[0m\n\u001b[1;32m   1136\u001b[0m \u001b[38;5;124;03m    ValueError: If allowed tools are different than provided tools.\u001b[39;00m\n\u001b[1;32m   1137\u001b[0m \u001b[38;5;124;03m\"\"\"\u001b[39;00m\n\u001b[1;32m   1138\u001b[0m agent \u001b[38;5;241m=\u001b[39m values[\u001b[38;5;124m\"\u001b[39m\u001b[38;5;124magent\u001b[39m\u001b[38;5;124m\"\u001b[39m]\n\u001b[0;32m-> 1139\u001b[0m tools \u001b[38;5;241m=\u001b[39m values[\u001b[38;5;124m\"\u001b[39m\u001b[38;5;124mtools\u001b[39m\u001b[38;5;124m\"\u001b[39m]\n\u001b[1;32m   1140\u001b[0m allowed_tools \u001b[38;5;241m=\u001b[39m agent\u001b[38;5;241m.\u001b[39mget_allowed_tools()\n\u001b[1;32m   1141\u001b[0m \u001b[38;5;28;01mif\u001b[39;00m allowed_tools \u001b[38;5;129;01mis\u001b[39;00m \u001b[38;5;129;01mnot\u001b[39;00m \u001b[38;5;28;01mNone\u001b[39;00m:\n",
      "File \u001b[0;32m~/anaconda3/lib/python3.10/site-packages/langchain/agents/agent.py:1139\u001b[0m, in \u001b[0;36m<listcomp>\u001b[0;34m(.0)\u001b[0m\n\u001b[1;32m   1127\u001b[0m \u001b[38;5;250m\u001b[39m\u001b[38;5;124;03m\"\"\"Validate that tools are compatible with agent.\u001b[39;00m\n\u001b[1;32m   1128\u001b[0m \n\u001b[1;32m   1129\u001b[0m \u001b[38;5;124;03mArgs:\u001b[39;00m\n\u001b[0;32m   (...)\u001b[0m\n\u001b[1;32m   1136\u001b[0m \u001b[38;5;124;03m    ValueError: If allowed tools are different than provided tools.\u001b[39;00m\n\u001b[1;32m   1137\u001b[0m \u001b[38;5;124;03m\"\"\"\u001b[39;00m\n\u001b[1;32m   1138\u001b[0m agent \u001b[38;5;241m=\u001b[39m values[\u001b[38;5;124m\"\u001b[39m\u001b[38;5;124magent\u001b[39m\u001b[38;5;124m\"\u001b[39m]\n\u001b[0;32m-> 1139\u001b[0m tools \u001b[38;5;241m=\u001b[39m values[\u001b[38;5;124m\"\u001b[39m\u001b[38;5;124mtools\u001b[39m\u001b[38;5;124m\"\u001b[39m]\n\u001b[1;32m   1140\u001b[0m allowed_tools \u001b[38;5;241m=\u001b[39m agent\u001b[38;5;241m.\u001b[39mget_allowed_tools()\n\u001b[1;32m   1141\u001b[0m \u001b[38;5;28;01mif\u001b[39;00m allowed_tools \u001b[38;5;129;01mis\u001b[39;00m \u001b[38;5;129;01mnot\u001b[39;00m \u001b[38;5;28;01mNone\u001b[39;00m:\n",
      "File \u001b[0;32m~/anaconda3/lib/python3.10/site-packages/langchain/agents/agent.py:1224\u001b[0m, in \u001b[0;36m_iter_next_step\u001b[0;34m(self, name_to_tool_map, color_mapping, inputs, intermediate_steps, run_manager)\u001b[0m\n\u001b[1;32m   1218\u001b[0m \u001b[38;5;28;01mdef\u001b[39;00m \u001b[38;5;21msave_agent\u001b[39m(\u001b[38;5;28mself\u001b[39m, file_path: Union[Path, \u001b[38;5;28mstr\u001b[39m]) \u001b[38;5;241m-\u001b[39m\u001b[38;5;241m>\u001b[39m \u001b[38;5;28;01mNone\u001b[39;00m:\n\u001b[1;32m   1219\u001b[0m \u001b[38;5;250m    \u001b[39m\u001b[38;5;124;03m\"\"\"Save the underlying agent.\u001b[39;00m\n\u001b[1;32m   1220\u001b[0m \n\u001b[1;32m   1221\u001b[0m \u001b[38;5;124;03m    Args:\u001b[39;00m\n\u001b[1;32m   1222\u001b[0m \u001b[38;5;124;03m        file_path: Path to save to.\u001b[39;00m\n\u001b[1;32m   1223\u001b[0m \u001b[38;5;124;03m    \"\"\"\u001b[39;00m\n\u001b[0;32m-> 1224\u001b[0m     \u001b[38;5;28;01mreturn\u001b[39;00m \u001b[38;5;28mself\u001b[39m\u001b[38;5;241m.\u001b[39magent\u001b[38;5;241m.\u001b[39msave(file_path)\n",
      "File \u001b[0;32m~/anaconda3/lib/python3.10/site-packages/langchain/agents/agent.py:1246\u001b[0m, in \u001b[0;36m_perform_agent_action\u001b[0;34m(self, name_to_tool_map, color_mapping, agent_action, run_manager)\u001b[0m\n\u001b[1;32m   1226\u001b[0m \u001b[38;5;28;01mdef\u001b[39;00m \u001b[38;5;21miter\u001b[39m(\n\u001b[1;32m   1227\u001b[0m     \u001b[38;5;28mself\u001b[39m,\n\u001b[1;32m   1228\u001b[0m     inputs: Any,\n\u001b[0;32m   (...)\u001b[0m\n\u001b[1;32m   1232\u001b[0m     async_: \u001b[38;5;28mbool\u001b[39m \u001b[38;5;241m=\u001b[39m \u001b[38;5;28;01mFalse\u001b[39;00m,  \u001b[38;5;66;03m# arg kept for backwards compat, but ignored\u001b[39;00m\n\u001b[1;32m   1233\u001b[0m ) \u001b[38;5;241m-\u001b[39m\u001b[38;5;241m>\u001b[39m AgentExecutorIterator:\n\u001b[1;32m   1234\u001b[0m \u001b[38;5;250m    \u001b[39m\u001b[38;5;124;03m\"\"\"Enables iteration over steps taken to reach final output.\u001b[39;00m\n\u001b[1;32m   1235\u001b[0m \n\u001b[1;32m   1236\u001b[0m \u001b[38;5;124;03m    Args:\u001b[39;00m\n\u001b[0;32m   (...)\u001b[0m\n\u001b[1;32m   1243\u001b[0m \u001b[38;5;124;03m        AgentExecutorIterator: Agent executor iterator object.\u001b[39;00m\n\u001b[1;32m   1244\u001b[0m \u001b[38;5;124;03m    \"\"\"\u001b[39;00m\n\u001b[1;32m   1245\u001b[0m     \u001b[38;5;28;01mreturn\u001b[39;00m AgentExecutorIterator(\n\u001b[0;32m-> 1246\u001b[0m         \u001b[38;5;28mself\u001b[39m,\n\u001b[1;32m   1247\u001b[0m         inputs,\n\u001b[1;32m   1248\u001b[0m         callbacks,\n\u001b[1;32m   1249\u001b[0m         tags\u001b[38;5;241m=\u001b[39m\u001b[38;5;28mself\u001b[39m\u001b[38;5;241m.\u001b[39mtags,\n\u001b[1;32m   1250\u001b[0m         include_run_info\u001b[38;5;241m=\u001b[39minclude_run_info,\n\u001b[1;32m   1251\u001b[0m     )\n",
      "File \u001b[0;32m~/anaconda3/lib/python3.10/site-packages/langchain_core/tools.py:417\u001b[0m, in \u001b[0;36mrun\u001b[0;34m(self, tool_input, verbose, start_color, color, callbacks, tags, metadata, run_name, run_id, config, **kwargs)\u001b[0m\n\u001b[1;32m    414\u001b[0m \u001b[38;5;28;01mdef\u001b[39;00m \u001b[38;5;21mget_input_schema\u001b[39m(\n\u001b[1;32m    415\u001b[0m     \u001b[38;5;28mself\u001b[39m, config: Optional[RunnableConfig] \u001b[38;5;241m=\u001b[39m \u001b[38;5;28;01mNone\u001b[39;00m\n\u001b[1;32m    416\u001b[0m ) \u001b[38;5;241m-\u001b[39m\u001b[38;5;241m>\u001b[39m Type[BaseModel]:\n\u001b[0;32m--> 417\u001b[0m \u001b[38;5;250m    \u001b[39m\u001b[38;5;124;03m\"\"\"The tool's input schema.\"\"\"\u001b[39;00m\n\u001b[1;32m    418\u001b[0m     \u001b[38;5;28;01mif\u001b[39;00m \u001b[38;5;28mself\u001b[39m\u001b[38;5;241m.\u001b[39margs_schema \u001b[38;5;129;01mis\u001b[39;00m \u001b[38;5;129;01mnot\u001b[39;00m \u001b[38;5;28;01mNone\u001b[39;00m:\n\u001b[1;32m    419\u001b[0m         \u001b[38;5;28;01mreturn\u001b[39;00m \u001b[38;5;28mself\u001b[39m\u001b[38;5;241m.\u001b[39margs_schema\n",
      "File \u001b[0;32m~/anaconda3/lib/python3.10/site-packages/langchain_core/tools.py:406\u001b[0m, in \u001b[0;36mrun\u001b[0;34m(self, tool_input, verbose, start_color, color, callbacks, tags, metadata, run_name, run_id, config, **kwargs)\u001b[0m\n\u001b[1;32m    404\u001b[0m \u001b[38;5;129m@property\u001b[39m\n\u001b[1;32m    405\u001b[0m \u001b[38;5;28;01mdef\u001b[39;00m \u001b[38;5;21margs\u001b[39m(\u001b[38;5;28mself\u001b[39m) \u001b[38;5;241m-\u001b[39m\u001b[38;5;241m>\u001b[39m \u001b[38;5;28mdict\u001b[39m:\n\u001b[0;32m--> 406\u001b[0m     \u001b[38;5;28;01mif\u001b[39;00m \u001b[38;5;28mself\u001b[39m\u001b[38;5;241m.\u001b[39margs_schema \u001b[38;5;129;01mis\u001b[39;00m \u001b[38;5;129;01mnot\u001b[39;00m \u001b[38;5;28;01mNone\u001b[39;00m:\n\u001b[1;32m    407\u001b[0m         \u001b[38;5;28;01mreturn\u001b[39;00m \u001b[38;5;28mself\u001b[39m\u001b[38;5;241m.\u001b[39margs_schema\u001b[38;5;241m.\u001b[39mschema()[\u001b[38;5;124m\"\u001b[39m\u001b[38;5;124mproperties\u001b[39m\u001b[38;5;124m\"\u001b[39m]\n\u001b[1;32m    408\u001b[0m     \u001b[38;5;28;01melse\u001b[39;00m:\n",
      "File \u001b[0;32m~/anaconda3/lib/python3.10/site-packages/langchain_core/tools.py:300\u001b[0m, in \u001b[0;36m_parse_input\u001b[0;34m(self, tool_input)\u001b[0m\n\u001b[1;32m      0\u001b[0m <Error retrieving source code with stack_data see ipython/ipython#13598>\n",
      "File \u001b[0;32m~/anaconda3/lib/python3.10/site-packages/pydantic/v1/main.py:711\u001b[0m, in \u001b[0;36mBaseModel.validate\u001b[0;34m(cls, value)\u001b[0m\n\u001b[1;32m    708\u001b[0m value \u001b[38;5;241m=\u001b[39m \u001b[38;5;28mcls\u001b[39m\u001b[38;5;241m.\u001b[39m_enforce_dict_if_root(value)\n\u001b[1;32m    710\u001b[0m \u001b[38;5;28;01mif\u001b[39;00m \u001b[38;5;28misinstance\u001b[39m(value, \u001b[38;5;28mdict\u001b[39m):\n\u001b[0;32m--> 711\u001b[0m     \u001b[38;5;28;01mreturn\u001b[39;00m \u001b[38;5;28;43mcls\u001b[39;49m\u001b[43m(\u001b[49m\u001b[38;5;241;43m*\u001b[39;49m\u001b[38;5;241;43m*\u001b[39;49m\u001b[43mvalue\u001b[49m\u001b[43m)\u001b[49m\n\u001b[1;32m    712\u001b[0m \u001b[38;5;28;01melif\u001b[39;00m \u001b[38;5;28mcls\u001b[39m\u001b[38;5;241m.\u001b[39m__config__\u001b[38;5;241m.\u001b[39morm_mode:\n\u001b[1;32m    713\u001b[0m     \u001b[38;5;28;01mreturn\u001b[39;00m \u001b[38;5;28mcls\u001b[39m\u001b[38;5;241m.\u001b[39mfrom_orm(value)\n",
      "File \u001b[0;32m~/anaconda3/lib/python3.10/site-packages/pydantic/v1/main.py:341\u001b[0m, in \u001b[0;36mBaseModel.__init__\u001b[0;34m(__pydantic_self__, **data)\u001b[0m\n\u001b[1;32m    339\u001b[0m values, fields_set, validation_error \u001b[38;5;241m=\u001b[39m validate_model(__pydantic_self__\u001b[38;5;241m.\u001b[39m\u001b[38;5;18m__class__\u001b[39m, data)\n\u001b[1;32m    340\u001b[0m \u001b[38;5;28;01mif\u001b[39;00m validation_error:\n\u001b[0;32m--> 341\u001b[0m     \u001b[38;5;28;01mraise\u001b[39;00m validation_error\n\u001b[1;32m    342\u001b[0m \u001b[38;5;28;01mtry\u001b[39;00m:\n\u001b[1;32m    343\u001b[0m     object_setattr(__pydantic_self__, \u001b[38;5;124m'\u001b[39m\u001b[38;5;124m__dict__\u001b[39m\u001b[38;5;124m'\u001b[39m, values)\n",
      "\u001b[0;31mValidationError\u001b[0m: 1 validation error for GetSalesByCustomerInput\nemail\n  field required (type=value_error.missing)"
     ]
    }
   ],
   "source": [
    "\n",
    "response = agent_executor.invoke(input_data)"
   ]
  }
 ],
 "metadata": {
  "kernelspec": {
   "display_name": "Python 3 (ipykernel)",
   "language": "python",
   "name": "python3"
  },
  "language_info": {
   "codemirror_mode": {
    "name": "ipython",
    "version": 3
   },
   "file_extension": ".py",
   "mimetype": "text/x-python",
   "name": "python",
   "nbconvert_exporter": "python",
   "pygments_lexer": "ipython3",
   "version": "3.10.9"
  }
 },
 "nbformat": 4,
 "nbformat_minor": 4
}
